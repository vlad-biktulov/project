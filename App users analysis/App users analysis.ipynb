{
 "cells": [
  {
   "cell_type": "markdown",
   "metadata": {},
   "source": [
    "# Анализ поведения пользователей в мобильном приложении"
   ]
  },
  {
   "cell_type": "markdown",
   "metadata": {
    "toc": true
   },
   "source": [
    "<h1>Содержание<span class=\"tocSkip\"></span></h1>\n",
    "<li><span><a href=\"#Подготовка-данных\" data-toc-modified-id=\"Подготовка-данных-3\"><span class=\"toc-item-num\">3&nbsp;&nbsp;</span>Подготовка данных</a></span><ul class=\"toc-item\"><li><span><a href=\"#Вывод\" data-toc-modified-id=\"Вывод-3.1\"><span class=\"toc-item-num\">3.1&nbsp;&nbsp;</span>Вывод</a></span></li></ul></li><li><span><a href=\"#Изучение-данных-датасета\" data-toc-modified-id=\"Изучение-данных-датасета-4\"><span class=\"toc-item-num\">4&nbsp;&nbsp;</span>Изучение данных датасета</a></span><ul class=\"toc-item\"><li><span><a href=\"#Вывод\" data-toc-modified-id=\"Вывод-4.1\"><span class=\"toc-item-num\">4.1&nbsp;&nbsp;</span>Вывод</a></span></li></ul></li><li><span><a href=\"#Изучение-воронки-событий\" data-toc-modified-id=\"Изучение-воронки-событий-5\"><span class=\"toc-item-num\">5&nbsp;&nbsp;</span>Изучение воронки событий</a></span><ul class=\"toc-item\"><li><span><a href=\"#Вывод\" data-toc-modified-id=\"Вывод-5.1\"><span class=\"toc-item-num\">5.1&nbsp;&nbsp;</span>Вывод</a></span></li></ul></li><li><span><a href=\"#Изучение-итогов-теста\" data-toc-modified-id=\"Изучение-итогов-теста-6\"><span class=\"toc-item-num\">6&nbsp;&nbsp;</span>Изучение итогов теста</a></span><ul class=\"toc-item\"><li><span><a href=\"#Проверка-статистически-значимого-различия-между-контрольными-группами\" data-toc-modified-id=\"Проверка-статистически-значимого-различия-между-контрольными-группами-6.1\"><span class=\"toc-item-num\">6.1&nbsp;&nbsp;</span>Проверка статистически значимого различия между контрольными группами</a></span></li><li><span><a href=\"#Проверка-статистически-значимого-различия-между-контрольной-группой-246-и-тестовой-группой\" data-toc-modified-id=\"Проверка-статистически-значимого-различия-между-контрольной-группой-246-и-тестовой-группой-6.2\"><span class=\"toc-item-num\">6.2&nbsp;&nbsp;</span>Проверка статистически значимого различия между контрольной группой 246 и тестовой группой</a></span></li><li><span><a href=\"#Проверка-статистически-значимого-различия-между-контрольной-группой-247-и-тестовой-группой\" data-toc-modified-id=\"Проверка-статистически-значимого-различия-между-контрольной-группой-247-и-тестовой-группой-6.3\"><span class=\"toc-item-num\">6.3&nbsp;&nbsp;</span>Проверка статистически значимого различия между контрольной группой 247 и тестовой группой</a></span></li><li><span><a href=\"#Проверка-статистически-значимого-различия-между-объеденённой-контрольной-группой-и-тестовой-группой\" data-toc-modified-id=\"Проверка-статистически-значимого-различия-между-объеденённой-контрольной-группой-и-тестовой-группой-6.4\"><span class=\"toc-item-num\">6.4&nbsp;&nbsp;</span>Проверка статистически значимого различия между объеденённой контрольной группой и тестовой группой</a></span></li><li><span><a href=\"#Вывод\" data-toc-modified-id=\"Вывод-6.5\"><span class=\"toc-item-num\">6.5&nbsp;&nbsp;</span>Вывод</a></span></li></ul></li><li><span><a href=\"#Вывод\" data-toc-modified-id=\"Вывод-7\"><span class=\"toc-item-num\">7&nbsp;&nbsp;</span>Вывод</a></span></li><li><span><a href=\"#Общий-комментарий\" data-toc-modified-id=\"Общий-комментарий-8\"><span class=\"toc-item-num\">8&nbsp;&nbsp;</span>Общий комментарий</a></span></li></ul></div>"
   ]
  },
  {
   "cell_type": "markdown",
   "metadata": {},
   "source": [
    "# Описание проекта\n",
    "\n",
    "***Цели:*** `Изучить поведение пользователей мобильного приложения и проверить гипотезы по пользованию приложением`\n",
    "\n",
    "***Задачи:***\n",
    "1. Ознакомиться с данными\n",
    "2. Изучить вопронку продаж\n",
    "3. Исследование результатов A/A/B-эксперимента по изменению шрифтов в приложении\n",
    "4. Сделать выводы по результатам теста, воронке продаж"
   ]
  },
  {
   "cell_type": "markdown",
   "metadata": {},
   "source": [
    "## Подготовка данных"
   ]
  },
  {
   "cell_type": "code",
   "execution_count": 1,
   "metadata": {},
   "outputs": [],
   "source": [
    "import pandas as pd\n",
    "import scipy.stats as stats\n",
    "import numpy as np\n",
    "import matplotlib.pyplot as plt\n",
    "import seaborn as sns\n",
    "import plotly.express as px\n",
    "import datetime \n",
    "from datetime import datetime as DT\n",
    "import math as mth\n",
    "from scipy import stats as st"
   ]
  },
  {
   "cell_type": "code",
   "execution_count": 2,
   "metadata": {},
   "outputs": [],
   "source": [
    "df = pd.read_csv('/datasets/logs_exp.csv', sep = '\\t')"
   ]
  },
  {
   "cell_type": "code",
   "execution_count": 3,
   "metadata": {
    "scrolled": true
   },
   "outputs": [
    {
     "data": {
      "text/html": [
       "<div>\n",
       "<style scoped>\n",
       "    .dataframe tbody tr th:only-of-type {\n",
       "        vertical-align: middle;\n",
       "    }\n",
       "\n",
       "    .dataframe tbody tr th {\n",
       "        vertical-align: top;\n",
       "    }\n",
       "\n",
       "    .dataframe thead th {\n",
       "        text-align: right;\n",
       "    }\n",
       "</style>\n",
       "<table border=\"1\" class=\"dataframe\">\n",
       "  <thead>\n",
       "    <tr style=\"text-align: right;\">\n",
       "      <th></th>\n",
       "      <th>EventName</th>\n",
       "      <th>DeviceIDHash</th>\n",
       "      <th>EventTimestamp</th>\n",
       "      <th>ExpId</th>\n",
       "    </tr>\n",
       "  </thead>\n",
       "  <tbody>\n",
       "    <tr>\n",
       "      <th>0</th>\n",
       "      <td>MainScreenAppear</td>\n",
       "      <td>4575588528974610257</td>\n",
       "      <td>1564029816</td>\n",
       "      <td>246</td>\n",
       "    </tr>\n",
       "    <tr>\n",
       "      <th>1</th>\n",
       "      <td>MainScreenAppear</td>\n",
       "      <td>7416695313311560658</td>\n",
       "      <td>1564053102</td>\n",
       "      <td>246</td>\n",
       "    </tr>\n",
       "    <tr>\n",
       "      <th>2</th>\n",
       "      <td>PaymentScreenSuccessful</td>\n",
       "      <td>3518123091307005509</td>\n",
       "      <td>1564054127</td>\n",
       "      <td>248</td>\n",
       "    </tr>\n",
       "    <tr>\n",
       "      <th>3</th>\n",
       "      <td>CartScreenAppear</td>\n",
       "      <td>3518123091307005509</td>\n",
       "      <td>1564054127</td>\n",
       "      <td>248</td>\n",
       "    </tr>\n",
       "    <tr>\n",
       "      <th>4</th>\n",
       "      <td>PaymentScreenSuccessful</td>\n",
       "      <td>6217807653094995999</td>\n",
       "      <td>1564055322</td>\n",
       "      <td>248</td>\n",
       "    </tr>\n",
       "  </tbody>\n",
       "</table>\n",
       "</div>"
      ],
      "text/plain": [
       "                 EventName         DeviceIDHash  EventTimestamp  ExpId\n",
       "0         MainScreenAppear  4575588528974610257      1564029816    246\n",
       "1         MainScreenAppear  7416695313311560658      1564053102    246\n",
       "2  PaymentScreenSuccessful  3518123091307005509      1564054127    248\n",
       "3         CartScreenAppear  3518123091307005509      1564054127    248\n",
       "4  PaymentScreenSuccessful  6217807653094995999      1564055322    248"
      ]
     },
     "execution_count": 3,
     "metadata": {},
     "output_type": "execute_result"
    }
   ],
   "source": [
    "df.head(5)"
   ]
  },
  {
   "cell_type": "code",
   "execution_count": 4,
   "metadata": {},
   "outputs": [
    {
     "name": "stdout",
     "output_type": "stream",
     "text": [
      "<class 'pandas.core.frame.DataFrame'>\n",
      "RangeIndex: 244126 entries, 0 to 244125\n",
      "Data columns (total 4 columns):\n",
      " #   Column          Non-Null Count   Dtype \n",
      "---  ------          --------------   ----- \n",
      " 0   EventName       244126 non-null  object\n",
      " 1   DeviceIDHash    244126 non-null  int64 \n",
      " 2   EventTimestamp  244126 non-null  int64 \n",
      " 3   ExpId           244126 non-null  int64 \n",
      "dtypes: int64(3), object(1)\n",
      "memory usage: 7.5+ MB\n"
     ]
    }
   ],
   "source": [
    "df.info()"
   ]
  },
  {
   "cell_type": "code",
   "execution_count": 5,
   "metadata": {},
   "outputs": [
    {
     "data": {
      "text/plain": [
       "EventName         0\n",
       "DeviceIDHash      0\n",
       "EventTimestamp    0\n",
       "ExpId             0\n",
       "dtype: int64"
      ]
     },
     "execution_count": 5,
     "metadata": {},
     "output_type": "execute_result"
    }
   ],
   "source": [
    "#проверяем пропуски в столбцах\n",
    "df.isna().sum()"
   ]
  },
  {
   "cell_type": "code",
   "execution_count": 6,
   "metadata": {
    "scrolled": true
   },
   "outputs": [
    {
     "data": {
      "text/plain": [
       "413"
      ]
     },
     "execution_count": 6,
     "metadata": {},
     "output_type": "execute_result"
    }
   ],
   "source": [
    "#проверяем дубликаты\n",
    "df.duplicated().sum()"
   ]
  },
  {
   "cell_type": "code",
   "execution_count": 7,
   "metadata": {},
   "outputs": [],
   "source": [
    "#удаляем дубликаты из датасета\n",
    "df = df.drop_duplicates()"
   ]
  },
  {
   "cell_type": "code",
   "execution_count": 8,
   "metadata": {},
   "outputs": [
    {
     "data": {
      "text/html": [
       "<div>\n",
       "<style scoped>\n",
       "    .dataframe tbody tr th:only-of-type {\n",
       "        vertical-align: middle;\n",
       "    }\n",
       "\n",
       "    .dataframe tbody tr th {\n",
       "        vertical-align: top;\n",
       "    }\n",
       "\n",
       "    .dataframe thead th {\n",
       "        text-align: right;\n",
       "    }\n",
       "</style>\n",
       "<table border=\"1\" class=\"dataframe\">\n",
       "  <thead>\n",
       "    <tr style=\"text-align: right;\">\n",
       "      <th></th>\n",
       "      <th>DeviceIDHash</th>\n",
       "      <th>ExpId</th>\n",
       "    </tr>\n",
       "  </thead>\n",
       "  <tbody>\n",
       "    <tr>\n",
       "      <th>0</th>\n",
       "      <td>6888746892508752</td>\n",
       "      <td>1</td>\n",
       "    </tr>\n",
       "    <tr>\n",
       "      <th>5030</th>\n",
       "      <td>6207768971558512760</td>\n",
       "      <td>1</td>\n",
       "    </tr>\n",
       "    <tr>\n",
       "      <th>5042</th>\n",
       "      <td>6217807653094995999</td>\n",
       "      <td>1</td>\n",
       "    </tr>\n",
       "    <tr>\n",
       "      <th>5041</th>\n",
       "      <td>6217295124800833842</td>\n",
       "      <td>1</td>\n",
       "    </tr>\n",
       "    <tr>\n",
       "      <th>5040</th>\n",
       "      <td>6216080220799726690</td>\n",
       "      <td>1</td>\n",
       "    </tr>\n",
       "    <tr>\n",
       "      <th>...</th>\n",
       "      <td>...</td>\n",
       "      <td>...</td>\n",
       "    </tr>\n",
       "    <tr>\n",
       "      <th>2513</th>\n",
       "      <td>3175239243679501019</td>\n",
       "      <td>1</td>\n",
       "    </tr>\n",
       "    <tr>\n",
       "      <th>2512</th>\n",
       "      <td>3171891164497446149</td>\n",
       "      <td>1</td>\n",
       "    </tr>\n",
       "    <tr>\n",
       "      <th>2511</th>\n",
       "      <td>3171454373076660766</td>\n",
       "      <td>1</td>\n",
       "    </tr>\n",
       "    <tr>\n",
       "      <th>2510</th>\n",
       "      <td>3170212200647575044</td>\n",
       "      <td>1</td>\n",
       "    </tr>\n",
       "    <tr>\n",
       "      <th>7550</th>\n",
       "      <td>9222603179720523844</td>\n",
       "      <td>1</td>\n",
       "    </tr>\n",
       "  </tbody>\n",
       "</table>\n",
       "<p>7551 rows × 2 columns</p>\n",
       "</div>"
      ],
      "text/plain": [
       "             DeviceIDHash  ExpId\n",
       "0        6888746892508752      1\n",
       "5030  6207768971558512760      1\n",
       "5042  6217807653094995999      1\n",
       "5041  6217295124800833842      1\n",
       "5040  6216080220799726690      1\n",
       "...                   ...    ...\n",
       "2513  3175239243679501019      1\n",
       "2512  3171891164497446149      1\n",
       "2511  3171454373076660766      1\n",
       "2510  3170212200647575044      1\n",
       "7550  9222603179720523844      1\n",
       "\n",
       "[7551 rows x 2 columns]"
      ]
     },
     "execution_count": 8,
     "metadata": {},
     "output_type": "execute_result"
    }
   ],
   "source": [
    "#поищем пользователей, которые попали в две группы одновременно\n",
    "user_in_2group = df.groupby(by = 'DeviceIDHash', as_index = False).agg({\"ExpId\":'nunique'}).sort_values('ExpId', ascending = False)                                                   \n",
    "user_in_2group"
   ]
  },
  {
   "cell_type": "code",
   "execution_count": 9,
   "metadata": {
    "scrolled": false
   },
   "outputs": [
    {
     "data": {
      "text/html": [
       "<div>\n",
       "<style scoped>\n",
       "    .dataframe tbody tr th:only-of-type {\n",
       "        vertical-align: middle;\n",
       "    }\n",
       "\n",
       "    .dataframe tbody tr th {\n",
       "        vertical-align: top;\n",
       "    }\n",
       "\n",
       "    .dataframe thead th {\n",
       "        text-align: right;\n",
       "    }\n",
       "</style>\n",
       "<table border=\"1\" class=\"dataframe\">\n",
       "  <thead>\n",
       "    <tr style=\"text-align: right;\">\n",
       "      <th></th>\n",
       "      <th>EventName</th>\n",
       "      <th>DeviceIDHash</th>\n",
       "      <th>EventTimestamp</th>\n",
       "      <th>ExpId</th>\n",
       "      <th>Time</th>\n",
       "      <th>Date</th>\n",
       "    </tr>\n",
       "  </thead>\n",
       "  <tbody>\n",
       "    <tr>\n",
       "      <th>0</th>\n",
       "      <td>MainScreenAppear</td>\n",
       "      <td>4575588528974610257</td>\n",
       "      <td>1564029816</td>\n",
       "      <td>246</td>\n",
       "      <td>2019-07-25 04:43:36</td>\n",
       "      <td>2019-07-25</td>\n",
       "    </tr>\n",
       "    <tr>\n",
       "      <th>1</th>\n",
       "      <td>MainScreenAppear</td>\n",
       "      <td>7416695313311560658</td>\n",
       "      <td>1564053102</td>\n",
       "      <td>246</td>\n",
       "      <td>2019-07-25 11:11:42</td>\n",
       "      <td>2019-07-25</td>\n",
       "    </tr>\n",
       "    <tr>\n",
       "      <th>2</th>\n",
       "      <td>PaymentScreenSuccessful</td>\n",
       "      <td>3518123091307005509</td>\n",
       "      <td>1564054127</td>\n",
       "      <td>248</td>\n",
       "      <td>2019-07-25 11:28:47</td>\n",
       "      <td>2019-07-25</td>\n",
       "    </tr>\n",
       "    <tr>\n",
       "      <th>3</th>\n",
       "      <td>CartScreenAppear</td>\n",
       "      <td>3518123091307005509</td>\n",
       "      <td>1564054127</td>\n",
       "      <td>248</td>\n",
       "      <td>2019-07-25 11:28:47</td>\n",
       "      <td>2019-07-25</td>\n",
       "    </tr>\n",
       "    <tr>\n",
       "      <th>4</th>\n",
       "      <td>PaymentScreenSuccessful</td>\n",
       "      <td>6217807653094995999</td>\n",
       "      <td>1564055322</td>\n",
       "      <td>248</td>\n",
       "      <td>2019-07-25 11:48:42</td>\n",
       "      <td>2019-07-25</td>\n",
       "    </tr>\n",
       "    <tr>\n",
       "      <th>...</th>\n",
       "      <td>...</td>\n",
       "      <td>...</td>\n",
       "      <td>...</td>\n",
       "      <td>...</td>\n",
       "      <td>...</td>\n",
       "      <td>...</td>\n",
       "    </tr>\n",
       "    <tr>\n",
       "      <th>244121</th>\n",
       "      <td>MainScreenAppear</td>\n",
       "      <td>4599628364049201812</td>\n",
       "      <td>1565212345</td>\n",
       "      <td>247</td>\n",
       "      <td>2019-08-07 21:12:25</td>\n",
       "      <td>2019-08-07</td>\n",
       "    </tr>\n",
       "    <tr>\n",
       "      <th>244122</th>\n",
       "      <td>MainScreenAppear</td>\n",
       "      <td>5849806612437486590</td>\n",
       "      <td>1565212439</td>\n",
       "      <td>246</td>\n",
       "      <td>2019-08-07 21:13:59</td>\n",
       "      <td>2019-08-07</td>\n",
       "    </tr>\n",
       "    <tr>\n",
       "      <th>244123</th>\n",
       "      <td>MainScreenAppear</td>\n",
       "      <td>5746969938801999050</td>\n",
       "      <td>1565212483</td>\n",
       "      <td>246</td>\n",
       "      <td>2019-08-07 21:14:43</td>\n",
       "      <td>2019-08-07</td>\n",
       "    </tr>\n",
       "    <tr>\n",
       "      <th>244124</th>\n",
       "      <td>MainScreenAppear</td>\n",
       "      <td>5746969938801999050</td>\n",
       "      <td>1565212498</td>\n",
       "      <td>246</td>\n",
       "      <td>2019-08-07 21:14:58</td>\n",
       "      <td>2019-08-07</td>\n",
       "    </tr>\n",
       "    <tr>\n",
       "      <th>244125</th>\n",
       "      <td>OffersScreenAppear</td>\n",
       "      <td>5746969938801999050</td>\n",
       "      <td>1565212517</td>\n",
       "      <td>246</td>\n",
       "      <td>2019-08-07 21:15:17</td>\n",
       "      <td>2019-08-07</td>\n",
       "    </tr>\n",
       "  </tbody>\n",
       "</table>\n",
       "<p>243713 rows × 6 columns</p>\n",
       "</div>"
      ],
      "text/plain": [
       "                      EventName         DeviceIDHash  EventTimestamp  ExpId  \\\n",
       "0              MainScreenAppear  4575588528974610257      1564029816    246   \n",
       "1              MainScreenAppear  7416695313311560658      1564053102    246   \n",
       "2       PaymentScreenSuccessful  3518123091307005509      1564054127    248   \n",
       "3              CartScreenAppear  3518123091307005509      1564054127    248   \n",
       "4       PaymentScreenSuccessful  6217807653094995999      1564055322    248   \n",
       "...                         ...                  ...             ...    ...   \n",
       "244121         MainScreenAppear  4599628364049201812      1565212345    247   \n",
       "244122         MainScreenAppear  5849806612437486590      1565212439    246   \n",
       "244123         MainScreenAppear  5746969938801999050      1565212483    246   \n",
       "244124         MainScreenAppear  5746969938801999050      1565212498    246   \n",
       "244125       OffersScreenAppear  5746969938801999050      1565212517    246   \n",
       "\n",
       "                      Time        Date  \n",
       "0      2019-07-25 04:43:36  2019-07-25  \n",
       "1      2019-07-25 11:11:42  2019-07-25  \n",
       "2      2019-07-25 11:28:47  2019-07-25  \n",
       "3      2019-07-25 11:28:47  2019-07-25  \n",
       "4      2019-07-25 11:48:42  2019-07-25  \n",
       "...                    ...         ...  \n",
       "244121 2019-08-07 21:12:25  2019-08-07  \n",
       "244122 2019-08-07 21:13:59  2019-08-07  \n",
       "244123 2019-08-07 21:14:43  2019-08-07  \n",
       "244124 2019-08-07 21:14:58  2019-08-07  \n",
       "244125 2019-08-07 21:15:17  2019-08-07  \n",
       "\n",
       "[243713 rows x 6 columns]"
      ]
     },
     "execution_count": 9,
     "metadata": {},
     "output_type": "execute_result"
    }
   ],
   "source": [
    "# добавляем столбцы с датой и датой с времнем\n",
    "df['Time'] = pd.to_datetime(df['EventTimestamp'], unit='s')\n",
    "df['Date'] = df['Time'].dt.date\n",
    "df"
   ]
  },
  {
   "cell_type": "markdown",
   "metadata": {},
   "source": [
    "### Вывод\n",
    "\n",
    "``` В датасете нашлось 413 дублирующих строк, которые были удалены. ```\n",
    "\n",
    "``` Пропущенных значений не было обнаружено.```\n",
    "\n",
    "``` Также, были добавлены два столбца с данным о дне события и с данными дня и времени.```\n",
    "\n",
    "``` Пользователей, которые попали в несколько групп не было обнаружено. ```"
   ]
  },
  {
   "cell_type": "markdown",
   "metadata": {},
   "source": [
    "## Изучение данных датасета"
   ]
  },
  {
   "cell_type": "code",
   "execution_count": 10,
   "metadata": {
    "scrolled": false
   },
   "outputs": [
    {
     "data": {
      "text/plain": [
       "EventName              5\n",
       "DeviceIDHash        7551\n",
       "EventTimestamp    176654\n",
       "ExpId                  3\n",
       "Time              176654\n",
       "Date                  14\n",
       "dtype: int64"
      ]
     },
     "execution_count": 10,
     "metadata": {},
     "output_type": "execute_result"
    }
   ],
   "source": [
    "# проверяем кол-во уникальных значений в каждом столбце\n",
    "df.nunique()"
   ]
  },
  {
   "cell_type": "code",
   "execution_count": 11,
   "metadata": {
    "scrolled": true
   },
   "outputs": [
    {
     "name": "stdout",
     "output_type": "stream",
     "text": [
      "Всего событий в датасете -  243713\n"
     ]
    }
   ],
   "source": [
    "print('Всего событий в датасете - ', df.shape[0])"
   ]
  },
  {
   "cell_type": "code",
   "execution_count": 12,
   "metadata": {},
   "outputs": [
    {
     "name": "stdout",
     "output_type": "stream",
     "text": [
      "Всего пользователей в датасете -  7551\n"
     ]
    }
   ],
   "source": [
    "print('Всего пользователей в датасете - ', df['DeviceIDHash'].nunique())"
   ]
  },
  {
   "cell_type": "code",
   "execution_count": 13,
   "metadata": {},
   "outputs": [
    {
     "name": "stdout",
     "output_type": "stream",
     "text": [
      "Среднее число событий на пользователя -  32\n"
     ]
    }
   ],
   "source": [
    "print('Среднее число событий на пользователя - ', round(df.shape[0]/df['DeviceIDHash'].nunique()))"
   ]
  },
  {
   "cell_type": "code",
   "execution_count": 14,
   "metadata": {
    "scrolled": true
   },
   "outputs": [
    {
     "data": {
      "text/plain": [
       "array([[<AxesSubplot:title={'center':'EventTimestamp'}>]], dtype=object)"
      ]
     },
     "execution_count": 14,
     "metadata": {},
     "output_type": "execute_result"
    },
    {
     "data": {
      "image/png": "[encoded data removed]",
      "text/plain": [
       "<Figure size 432x288 with 1 Axes>"
      ]
     },
     "metadata": {
      "needs_background": "light"
     },
     "output_type": "display_data"
    }
   ],
   "source": [
    "plt.xlim\n",
    "df.groupby(by= 'DeviceIDHash').agg({'EventTimestamp':'count'}).hist(bins = 14, range = [0,500])"
   ]
  },
  {
   "cell_type": "code",
   "execution_count": 15,
   "metadata": {
    "scrolled": true
   },
   "outputs": [
    {
     "data": {
      "text/html": [
       "<div>\n",
       "<style scoped>\n",
       "    .dataframe tbody tr th:only-of-type {\n",
       "        vertical-align: middle;\n",
       "    }\n",
       "\n",
       "    .dataframe tbody tr th {\n",
       "        vertical-align: top;\n",
       "    }\n",
       "\n",
       "    .dataframe thead th {\n",
       "        text-align: right;\n",
       "    }\n",
       "</style>\n",
       "<table border=\"1\" class=\"dataframe\">\n",
       "  <thead>\n",
       "    <tr style=\"text-align: right;\">\n",
       "      <th></th>\n",
       "      <th>EventTimestamp</th>\n",
       "    </tr>\n",
       "  </thead>\n",
       "  <tbody>\n",
       "    <tr>\n",
       "      <th>count</th>\n",
       "      <td>7551.000000</td>\n",
       "    </tr>\n",
       "    <tr>\n",
       "      <th>mean</th>\n",
       "      <td>32.275593</td>\n",
       "    </tr>\n",
       "    <tr>\n",
       "      <th>std</th>\n",
       "      <td>65.154219</td>\n",
       "    </tr>\n",
       "    <tr>\n",
       "      <th>min</th>\n",
       "      <td>1.000000</td>\n",
       "    </tr>\n",
       "    <tr>\n",
       "      <th>25%</th>\n",
       "      <td>9.000000</td>\n",
       "    </tr>\n",
       "    <tr>\n",
       "      <th>50%</th>\n",
       "      <td>20.000000</td>\n",
       "    </tr>\n",
       "    <tr>\n",
       "      <th>75%</th>\n",
       "      <td>37.000000</td>\n",
       "    </tr>\n",
       "    <tr>\n",
       "      <th>max</th>\n",
       "      <td>2307.000000</td>\n",
       "    </tr>\n",
       "  </tbody>\n",
       "</table>\n",
       "</div>"
      ],
      "text/plain": [
       "       EventTimestamp\n",
       "count     7551.000000\n",
       "mean        32.275593\n",
       "std         65.154219\n",
       "min          1.000000\n",
       "25%          9.000000\n",
       "50%         20.000000\n",
       "75%         37.000000\n",
       "max       2307.000000"
      ]
     },
     "execution_count": 15,
     "metadata": {},
     "output_type": "execute_result"
    }
   ],
   "source": [
    "plt.xlim\n",
    "df.groupby(by= 'DeviceIDHash').agg({'EventTimestamp':'count'}).describe()"
   ]
  },
  {
   "cell_type": "markdown",
   "metadata": {},
   "source": [
    "***Вывод:***\n",
    "\n",
    "По гистограмме видно, что у распределения большой хвост, поэтому брать ср. значение тут не корректно. Возьмем медиану. Примерно половина пользователей совершает примерно < 20 событий, половина > 20 событий.\n"
   ]
  },
  {
   "cell_type": "code",
   "execution_count": 16,
   "metadata": {},
   "outputs": [
    {
     "name": "stdout",
     "output_type": "stream",
     "text": [
      "Дата начала периода - 2019-07-25 , конец периода 2019-08-07\n"
     ]
    }
   ],
   "source": [
    "min_date = df['Date'].min()\n",
    "max_date = df['Date'].max()\n",
    "print(f'Дата начала периода - {min_date} , конец периода {max_date}')"
   ]
  },
  {
   "cell_type": "code",
   "execution_count": 17,
   "metadata": {
    "scrolled": true
   },
   "outputs": [
    {
     "data": {
      "image/png": "[encoded data removed]",
      "text/plain": [
       "<Figure size 1152x360 with 1 Axes>"
      ]
     },
     "metadata": {
      "needs_background": "light"
     },
     "output_type": "display_data"
    }
   ],
   "source": [
    "df[['EventName', 'Time']].hist(figsize=(16, 5), bins = 14)\n",
    "plt.title('Распределение событий по датам')\n",
    "plt.xlabel('Дата')\n",
    "plt.ylabel('Кол-во событий');"
   ]
  },
  {
   "cell_type": "markdown",
   "metadata": {},
   "source": [
    "***Вывод:***\n",
    "\n",
    "```\n",
    "Видно, что события стали собираться только с 07-27, а подавляющее большинство всех событий начало собираться только с 08-01. Возможно, это связано с тем, что пользователи не сразу начали обновлять приложение и большинство пользователей увидели изменения только с 1 августа.\n",
    "```"
   ]
  },
  {
   "cell_type": "code",
   "execution_count": 23,
   "metadata": {
    "scrolled": true
   },
   "outputs": [
    {
     "data": {
      "text/html": [
       "<div>\n",
       "<style scoped>\n",
       "    .dataframe tbody tr th:only-of-type {\n",
       "        vertical-align: middle;\n",
       "    }\n",
       "\n",
       "    .dataframe tbody tr th {\n",
       "        vertical-align: top;\n",
       "    }\n",
       "\n",
       "    .dataframe thead th {\n",
       "        text-align: right;\n",
       "    }\n",
       "</style>\n",
       "<table border=\"1\" class=\"dataframe\">\n",
       "  <thead>\n",
       "    <tr style=\"text-align: right;\">\n",
       "      <th></th>\n",
       "      <th>EventName</th>\n",
       "      <th>DeviceIDHash</th>\n",
       "      <th>EventTimestamp</th>\n",
       "      <th>ExpId</th>\n",
       "      <th>Time</th>\n",
       "      <th>Date</th>\n",
       "    </tr>\n",
       "  </thead>\n",
       "  <tbody>\n",
       "    <tr>\n",
       "      <th>2828</th>\n",
       "      <td>Tutorial</td>\n",
       "      <td>3737462046622621720</td>\n",
       "      <td>1564618048</td>\n",
       "      <td>246</td>\n",
       "      <td>2019-08-01 00:07:28</td>\n",
       "      <td>2019-08-01</td>\n",
       "    </tr>\n",
       "    <tr>\n",
       "      <th>2829</th>\n",
       "      <td>MainScreenAppear</td>\n",
       "      <td>3737462046622621720</td>\n",
       "      <td>1564618080</td>\n",
       "      <td>246</td>\n",
       "      <td>2019-08-01 00:08:00</td>\n",
       "      <td>2019-08-01</td>\n",
       "    </tr>\n",
       "    <tr>\n",
       "      <th>2830</th>\n",
       "      <td>MainScreenAppear</td>\n",
       "      <td>3737462046622621720</td>\n",
       "      <td>1564618135</td>\n",
       "      <td>246</td>\n",
       "      <td>2019-08-01 00:08:55</td>\n",
       "      <td>2019-08-01</td>\n",
       "    </tr>\n",
       "    <tr>\n",
       "      <th>2831</th>\n",
       "      <td>OffersScreenAppear</td>\n",
       "      <td>3737462046622621720</td>\n",
       "      <td>1564618138</td>\n",
       "      <td>246</td>\n",
       "      <td>2019-08-01 00:08:58</td>\n",
       "      <td>2019-08-01</td>\n",
       "    </tr>\n",
       "    <tr>\n",
       "      <th>2832</th>\n",
       "      <td>MainScreenAppear</td>\n",
       "      <td>1433840883824088890</td>\n",
       "      <td>1564618139</td>\n",
       "      <td>247</td>\n",
       "      <td>2019-08-01 00:08:59</td>\n",
       "      <td>2019-08-01</td>\n",
       "    </tr>\n",
       "    <tr>\n",
       "      <th>...</th>\n",
       "      <td>...</td>\n",
       "      <td>...</td>\n",
       "      <td>...</td>\n",
       "      <td>...</td>\n",
       "      <td>...</td>\n",
       "      <td>...</td>\n",
       "    </tr>\n",
       "    <tr>\n",
       "      <th>244121</th>\n",
       "      <td>MainScreenAppear</td>\n",
       "      <td>4599628364049201812</td>\n",
       "      <td>1565212345</td>\n",
       "      <td>247</td>\n",
       "      <td>2019-08-07 21:12:25</td>\n",
       "      <td>2019-08-07</td>\n",
       "    </tr>\n",
       "    <tr>\n",
       "      <th>244122</th>\n",
       "      <td>MainScreenAppear</td>\n",
       "      <td>5849806612437486590</td>\n",
       "      <td>1565212439</td>\n",
       "      <td>246</td>\n",
       "      <td>2019-08-07 21:13:59</td>\n",
       "      <td>2019-08-07</td>\n",
       "    </tr>\n",
       "    <tr>\n",
       "      <th>244123</th>\n",
       "      <td>MainScreenAppear</td>\n",
       "      <td>5746969938801999050</td>\n",
       "      <td>1565212483</td>\n",
       "      <td>246</td>\n",
       "      <td>2019-08-07 21:14:43</td>\n",
       "      <td>2019-08-07</td>\n",
       "    </tr>\n",
       "    <tr>\n",
       "      <th>244124</th>\n",
       "      <td>MainScreenAppear</td>\n",
       "      <td>5746969938801999050</td>\n",
       "      <td>1565212498</td>\n",
       "      <td>246</td>\n",
       "      <td>2019-08-07 21:14:58</td>\n",
       "      <td>2019-08-07</td>\n",
       "    </tr>\n",
       "    <tr>\n",
       "      <th>244125</th>\n",
       "      <td>OffersScreenAppear</td>\n",
       "      <td>5746969938801999050</td>\n",
       "      <td>1565212517</td>\n",
       "      <td>246</td>\n",
       "      <td>2019-08-07 21:15:17</td>\n",
       "      <td>2019-08-07</td>\n",
       "    </tr>\n",
       "  </tbody>\n",
       "</table>\n",
       "<p>240887 rows × 6 columns</p>\n",
       "</div>"
      ],
      "text/plain": [
       "                 EventName         DeviceIDHash  EventTimestamp  ExpId  \\\n",
       "2828              Tutorial  3737462046622621720      1564618048    246   \n",
       "2829      MainScreenAppear  3737462046622621720      1564618080    246   \n",
       "2830      MainScreenAppear  3737462046622621720      1564618135    246   \n",
       "2831    OffersScreenAppear  3737462046622621720      1564618138    246   \n",
       "2832      MainScreenAppear  1433840883824088890      1564618139    247   \n",
       "...                    ...                  ...             ...    ...   \n",
       "244121    MainScreenAppear  4599628364049201812      1565212345    247   \n",
       "244122    MainScreenAppear  5849806612437486590      1565212439    246   \n",
       "244123    MainScreenAppear  5746969938801999050      1565212483    246   \n",
       "244124    MainScreenAppear  5746969938801999050      1565212498    246   \n",
       "244125  OffersScreenAppear  5746969938801999050      1565212517    246   \n",
       "\n",
       "                      Time        Date  \n",
       "2828   2019-08-01 00:07:28  2019-08-01  \n",
       "2829   2019-08-01 00:08:00  2019-08-01  \n",
       "2830   2019-08-01 00:08:55  2019-08-01  \n",
       "2831   2019-08-01 00:08:58  2019-08-01  \n",
       "2832   2019-08-01 00:08:59  2019-08-01  \n",
       "...                    ...         ...  \n",
       "244121 2019-08-07 21:12:25  2019-08-07  \n",
       "244122 2019-08-07 21:13:59  2019-08-07  \n",
       "244123 2019-08-07 21:14:43  2019-08-07  \n",
       "244124 2019-08-07 21:14:58  2019-08-07  \n",
       "244125 2019-08-07 21:15:17  2019-08-07  \n",
       "\n",
       "[240887 rows x 6 columns]"
      ]
     },
     "execution_count": 23,
     "metadata": {},
     "output_type": "execute_result"
    }
   ],
   "source": [
    "# создадим новый датасет с нужным диапазоном\n",
    "new_df = df[df['Time'] >= DT.strptime('20190801', '%Y%m%d')]\n",
    "new_df"
   ]
  },
  {
   "cell_type": "code",
   "execution_count": 24,
   "metadata": {},
   "outputs": [
    {
     "name": "stdout",
     "output_type": "stream",
     "text": [
      "После \"обрезания\" датасета по дате мы потеряли 2826 событий и 17 пользователей\n"
     ]
    }
   ],
   "source": [
    "drop_users = df['DeviceIDHash'].nunique() - new_df['DeviceIDHash'].nunique()\n",
    "print(f'После \"обрезания\" датасета по дате мы потеряли {df.shape[0] - new_df.shape[0]} событий и {drop_users} пользователей')"
   ]
  },
  {
   "cell_type": "code",
   "execution_count": 25,
   "metadata": {},
   "outputs": [
    {
     "name": "stdout",
     "output_type": "stream",
     "text": [
      "Количество уникальных групп в датасете - 3\n"
     ]
    }
   ],
   "source": [
    "print('Количество уникальных групп в датасете -',new_df['ExpId'].nunique() )"
   ]
  },
  {
   "cell_type": "markdown",
   "metadata": {},
   "source": [
    "### Вывод\n",
    "\n",
    "```\n",
    "Событий в логе всего - 243713 (до чистки), если считать уникальных событий - 5\n",
    "Всего пользователей в логе -  7551\n",
    "Примерно половина пользователей совершает примерно < 20 событий, половина > 20 событий.\n",
    "В нашем расположении полные данные только с 2019-08-01, однако дата начала теста - 2019-07-25. Возможно, это связано с тем, что пользователи не сразу начали обновлять приложение и большинство пользователей увидели изменения только с 1 августа.\n",
    "После чистки датасета по дате мы потеряли 2826 (~1%) событий и 17 (менее 1%) пользователей. Количество групп по прежнему осталось - 3.\n",
    "\n",
    "```"
   ]
  },
  {
   "cell_type": "markdown",
   "metadata": {},
   "source": [
    "## Изучение воронки событий"
   ]
  },
  {
   "cell_type": "code",
   "execution_count": 26,
   "metadata": {},
   "outputs": [
    {
     "data": {
      "text/html": [
       "<div>\n",
       "<style scoped>\n",
       "    .dataframe tbody tr th:only-of-type {\n",
       "        vertical-align: middle;\n",
       "    }\n",
       "\n",
       "    .dataframe tbody tr th {\n",
       "        vertical-align: top;\n",
       "    }\n",
       "\n",
       "    .dataframe thead th {\n",
       "        text-align: right;\n",
       "    }\n",
       "</style>\n",
       "<table border=\"1\" class=\"dataframe\">\n",
       "  <thead>\n",
       "    <tr style=\"text-align: right;\">\n",
       "      <th></th>\n",
       "      <th>EventName</th>\n",
       "      <th>DeviceIDHash</th>\n",
       "    </tr>\n",
       "  </thead>\n",
       "  <tbody>\n",
       "    <tr>\n",
       "      <th>0</th>\n",
       "      <td>MainScreenAppear</td>\n",
       "      <td>117328</td>\n",
       "    </tr>\n",
       "    <tr>\n",
       "      <th>1</th>\n",
       "      <td>OffersScreenAppear</td>\n",
       "      <td>46333</td>\n",
       "    </tr>\n",
       "    <tr>\n",
       "      <th>2</th>\n",
       "      <td>CartScreenAppear</td>\n",
       "      <td>42303</td>\n",
       "    </tr>\n",
       "    <tr>\n",
       "      <th>3</th>\n",
       "      <td>PaymentScreenSuccessful</td>\n",
       "      <td>33918</td>\n",
       "    </tr>\n",
       "    <tr>\n",
       "      <th>4</th>\n",
       "      <td>Tutorial</td>\n",
       "      <td>1005</td>\n",
       "    </tr>\n",
       "  </tbody>\n",
       "</table>\n",
       "</div>"
      ],
      "text/plain": [
       "                 EventName  DeviceIDHash\n",
       "0         MainScreenAppear        117328\n",
       "1       OffersScreenAppear         46333\n",
       "2         CartScreenAppear         42303\n",
       "3  PaymentScreenSuccessful         33918\n",
       "4                 Tutorial          1005"
      ]
     },
     "execution_count": 26,
     "metadata": {},
     "output_type": "execute_result"
    }
   ],
   "source": [
    "# посчитаем, сколько раз встречается событие в датасете\n",
    "count_events = new_df.groupby(by = 'EventName').agg({'DeviceIDHash':'count'}).sort_values(by= 'DeviceIDHash', ascending = False).reset_index()\n",
    "count_events"
   ]
  },
  {
   "cell_type": "code",
   "execution_count": 27,
   "metadata": {},
   "outputs": [
    {
     "data": {
      "text/html": [
       "<div>\n",
       "<style scoped>\n",
       "    .dataframe tbody tr th:only-of-type {\n",
       "        vertical-align: middle;\n",
       "    }\n",
       "\n",
       "    .dataframe tbody tr th {\n",
       "        vertical-align: top;\n",
       "    }\n",
       "\n",
       "    .dataframe thead th {\n",
       "        text-align: right;\n",
       "    }\n",
       "</style>\n",
       "<table border=\"1\" class=\"dataframe\">\n",
       "  <thead>\n",
       "    <tr style=\"text-align: right;\">\n",
       "      <th></th>\n",
       "      <th>EventName</th>\n",
       "      <th>DeviceIDHash</th>\n",
       "    </tr>\n",
       "  </thead>\n",
       "  <tbody>\n",
       "    <tr>\n",
       "      <th>0</th>\n",
       "      <td>MainScreenAppear</td>\n",
       "      <td>7419</td>\n",
       "    </tr>\n",
       "    <tr>\n",
       "      <th>1</th>\n",
       "      <td>OffersScreenAppear</td>\n",
       "      <td>4593</td>\n",
       "    </tr>\n",
       "    <tr>\n",
       "      <th>2</th>\n",
       "      <td>CartScreenAppear</td>\n",
       "      <td>3734</td>\n",
       "    </tr>\n",
       "    <tr>\n",
       "      <th>3</th>\n",
       "      <td>PaymentScreenSuccessful</td>\n",
       "      <td>3539</td>\n",
       "    </tr>\n",
       "    <tr>\n",
       "      <th>4</th>\n",
       "      <td>Tutorial</td>\n",
       "      <td>840</td>\n",
       "    </tr>\n",
       "  </tbody>\n",
       "</table>\n",
       "</div>"
      ],
      "text/plain": [
       "                 EventName  DeviceIDHash\n",
       "0         MainScreenAppear          7419\n",
       "1       OffersScreenAppear          4593\n",
       "2         CartScreenAppear          3734\n",
       "3  PaymentScreenSuccessful          3539\n",
       "4                 Tutorial           840"
      ]
     },
     "execution_count": 27,
     "metadata": {},
     "output_type": "execute_result"
    }
   ],
   "source": [
    "# посчитаем, сколько пользователей совершили событие\n",
    "events_by_users = new_df.groupby(by = 'EventName').agg({'DeviceIDHash':'nunique'}).sort_values(by= 'DeviceIDHash', ascending = False).reset_index()\n",
    "events_by_users"
   ]
  },
  {
   "cell_type": "code",
   "execution_count": 28,
   "metadata": {},
   "outputs": [
    {
     "data": {
      "text/html": [
       "<div>\n",
       "<style scoped>\n",
       "    .dataframe tbody tr th:only-of-type {\n",
       "        vertical-align: middle;\n",
       "    }\n",
       "\n",
       "    .dataframe tbody tr th {\n",
       "        vertical-align: top;\n",
       "    }\n",
       "\n",
       "    .dataframe thead th {\n",
       "        text-align: right;\n",
       "    }\n",
       "</style>\n",
       "<table border=\"1\" class=\"dataframe\">\n",
       "  <thead>\n",
       "    <tr style=\"text-align: right;\">\n",
       "      <th></th>\n",
       "      <th>EventName</th>\n",
       "      <th>DeviceIDHash</th>\n",
       "      <th>RrcAllUsers</th>\n",
       "    </tr>\n",
       "  </thead>\n",
       "  <tbody>\n",
       "    <tr>\n",
       "      <th>0</th>\n",
       "      <td>MainScreenAppear</td>\n",
       "      <td>7419</td>\n",
       "      <td>0.98</td>\n",
       "    </tr>\n",
       "    <tr>\n",
       "      <th>1</th>\n",
       "      <td>OffersScreenAppear</td>\n",
       "      <td>4593</td>\n",
       "      <td>0.61</td>\n",
       "    </tr>\n",
       "    <tr>\n",
       "      <th>2</th>\n",
       "      <td>CartScreenAppear</td>\n",
       "      <td>3734</td>\n",
       "      <td>0.50</td>\n",
       "    </tr>\n",
       "    <tr>\n",
       "      <th>3</th>\n",
       "      <td>PaymentScreenSuccessful</td>\n",
       "      <td>3539</td>\n",
       "      <td>0.47</td>\n",
       "    </tr>\n",
       "    <tr>\n",
       "      <th>4</th>\n",
       "      <td>Tutorial</td>\n",
       "      <td>840</td>\n",
       "      <td>0.11</td>\n",
       "    </tr>\n",
       "  </tbody>\n",
       "</table>\n",
       "</div>"
      ],
      "text/plain": [
       "                 EventName  DeviceIDHash  RrcAllUsers\n",
       "0         MainScreenAppear          7419         0.98\n",
       "1       OffersScreenAppear          4593         0.61\n",
       "2         CartScreenAppear          3734         0.50\n",
       "3  PaymentScreenSuccessful          3539         0.47\n",
       "4                 Tutorial           840         0.11"
      ]
     },
     "execution_count": 28,
     "metadata": {},
     "output_type": "execute_result"
    }
   ],
   "source": [
    "# добавим столбец, в котором рассчитаем долю пользователей, совершивших событие\n",
    "events_by_users['RrcAllUsers'] = round(events_by_users['DeviceIDHash']/new_df['DeviceIDHash'].nunique(), 2)\n",
    "events_by_users"
   ]
  },
  {
   "cell_type": "code",
   "execution_count": 29,
   "metadata": {},
   "outputs": [
    {
     "data": {
      "text/html": [
       "<div>\n",
       "<style scoped>\n",
       "    .dataframe tbody tr th:only-of-type {\n",
       "        vertical-align: middle;\n",
       "    }\n",
       "\n",
       "    .dataframe tbody tr th {\n",
       "        vertical-align: top;\n",
       "    }\n",
       "\n",
       "    .dataframe thead th {\n",
       "        text-align: right;\n",
       "    }\n",
       "</style>\n",
       "<table border=\"1\" class=\"dataframe\">\n",
       "  <thead>\n",
       "    <tr style=\"text-align: right;\">\n",
       "      <th></th>\n",
       "      <th>EventName</th>\n",
       "      <th>DeviceIDHash</th>\n",
       "      <th>RrcAllUsers</th>\n",
       "      <th>UserShareNextStep</th>\n",
       "    </tr>\n",
       "  </thead>\n",
       "  <tbody>\n",
       "    <tr>\n",
       "      <th>0</th>\n",
       "      <td>MainScreenAppear</td>\n",
       "      <td>7419</td>\n",
       "      <td>0.98</td>\n",
       "      <td>NaN</td>\n",
       "    </tr>\n",
       "    <tr>\n",
       "      <th>1</th>\n",
       "      <td>OffersScreenAppear</td>\n",
       "      <td>4593</td>\n",
       "      <td>0.61</td>\n",
       "      <td>0.62</td>\n",
       "    </tr>\n",
       "    <tr>\n",
       "      <th>2</th>\n",
       "      <td>CartScreenAppear</td>\n",
       "      <td>3734</td>\n",
       "      <td>0.50</td>\n",
       "      <td>0.81</td>\n",
       "    </tr>\n",
       "    <tr>\n",
       "      <th>3</th>\n",
       "      <td>PaymentScreenSuccessful</td>\n",
       "      <td>3539</td>\n",
       "      <td>0.47</td>\n",
       "      <td>0.95</td>\n",
       "    </tr>\n",
       "    <tr>\n",
       "      <th>4</th>\n",
       "      <td>Tutorial</td>\n",
       "      <td>840</td>\n",
       "      <td>0.11</td>\n",
       "      <td>0.24</td>\n",
       "    </tr>\n",
       "  </tbody>\n",
       "</table>\n",
       "</div>"
      ],
      "text/plain": [
       "                 EventName  DeviceIDHash  RrcAllUsers  UserShareNextStep\n",
       "0         MainScreenAppear          7419         0.98                NaN\n",
       "1       OffersScreenAppear          4593         0.61               0.62\n",
       "2         CartScreenAppear          3734         0.50               0.81\n",
       "3  PaymentScreenSuccessful          3539         0.47               0.95\n",
       "4                 Tutorial           840         0.11               0.24"
      ]
     },
     "execution_count": 29,
     "metadata": {},
     "output_type": "execute_result"
    }
   ],
   "source": [
    "# добавим столбец, в котором рассчитаем долю пользователей, перешедших на следующий шаг\n",
    "events_by_users['UserShareNextStep'] = round(events_by_users['DeviceIDHash'].shift(0)/events_by_users['DeviceIDHash'].shift(1), 2)\n",
    "events_by_users"
   ]
  },
  {
   "cell_type": "code",
   "execution_count": 30,
   "metadata": {},
   "outputs": [
    {
     "data": {
      "text/html": [
       "<div>\n",
       "<style scoped>\n",
       "    .dataframe tbody tr th:only-of-type {\n",
       "        vertical-align: middle;\n",
       "    }\n",
       "\n",
       "    .dataframe tbody tr th {\n",
       "        vertical-align: top;\n",
       "    }\n",
       "\n",
       "    .dataframe thead th {\n",
       "        text-align: right;\n",
       "    }\n",
       "</style>\n",
       "<table border=\"1\" class=\"dataframe\">\n",
       "  <thead>\n",
       "    <tr style=\"text-align: right;\">\n",
       "      <th></th>\n",
       "      <th>EventName</th>\n",
       "      <th>DeviceIDHash</th>\n",
       "      <th>RrcAllUsers</th>\n",
       "      <th>UserShareNextStep</th>\n",
       "      <th>UserShareStart</th>\n",
       "    </tr>\n",
       "  </thead>\n",
       "  <tbody>\n",
       "    <tr>\n",
       "      <th>0</th>\n",
       "      <td>MainScreenAppear</td>\n",
       "      <td>7419</td>\n",
       "      <td>0.98</td>\n",
       "      <td>NaN</td>\n",
       "      <td>1.00</td>\n",
       "    </tr>\n",
       "    <tr>\n",
       "      <th>1</th>\n",
       "      <td>OffersScreenAppear</td>\n",
       "      <td>4593</td>\n",
       "      <td>0.61</td>\n",
       "      <td>0.62</td>\n",
       "      <td>0.62</td>\n",
       "    </tr>\n",
       "    <tr>\n",
       "      <th>2</th>\n",
       "      <td>CartScreenAppear</td>\n",
       "      <td>3734</td>\n",
       "      <td>0.50</td>\n",
       "      <td>0.81</td>\n",
       "      <td>0.50</td>\n",
       "    </tr>\n",
       "    <tr>\n",
       "      <th>3</th>\n",
       "      <td>PaymentScreenSuccessful</td>\n",
       "      <td>3539</td>\n",
       "      <td>0.47</td>\n",
       "      <td>0.95</td>\n",
       "      <td>0.48</td>\n",
       "    </tr>\n",
       "    <tr>\n",
       "      <th>4</th>\n",
       "      <td>Tutorial</td>\n",
       "      <td>840</td>\n",
       "      <td>0.11</td>\n",
       "      <td>0.24</td>\n",
       "      <td>0.11</td>\n",
       "    </tr>\n",
       "  </tbody>\n",
       "</table>\n",
       "</div>"
      ],
      "text/plain": [
       "                 EventName  DeviceIDHash  RrcAllUsers  UserShareNextStep  \\\n",
       "0         MainScreenAppear          7419         0.98                NaN   \n",
       "1       OffersScreenAppear          4593         0.61               0.62   \n",
       "2         CartScreenAppear          3734         0.50               0.81   \n",
       "3  PaymentScreenSuccessful          3539         0.47               0.95   \n",
       "4                 Tutorial           840         0.11               0.24   \n",
       "\n",
       "   UserShareStart  \n",
       "0            1.00  \n",
       "1            0.62  \n",
       "2            0.50  \n",
       "3            0.48  \n",
       "4            0.11  "
      ]
     },
     "execution_count": 30,
     "metadata": {},
     "output_type": "execute_result"
    }
   ],
   "source": [
    "# добавим столбец, в котором рассчитаем долю пользователей, дошедших до события от первого события\n",
    "events_by_users['UserShareStart'] = round(events_by_users['DeviceIDHash']/events_by_users['DeviceIDHash'][0], 2)\n",
    "events_by_users"
   ]
  },
  {
   "cell_type": "markdown",
   "metadata": {},
   "source": [
    "### Вывод\n",
    "\n",
    "```\n",
    "Самое популярное событие - MainScreenAppear с количество повторений в логе - 117328 (на 7419 пользователей)\n",
    "\n",
    "Наименее популярное событие - Tutorial с количество повторений в логе - 1005 (840)\n",
    "\n",
    "Предположительно, воронка строится следующим образом: \n",
    "\n",
    "MainScreenAppear ==> OffersScreenAppear ==> CartScreenAppear ==> PaymentScreenSuccessful\n",
    "\n",
    "Одно из событий - Tutorial, не вписывается в последовательную воронку, так как совершить событие Tutorial можно на любом из предыдущих шагов, но скорее всего, его совершают после события CartScreenAppear.\n",
    "\n",
    "Больше всего (38%) пользователей теряется после первого шага (переход с MainScreenAppear на OffersScreenAppear). При этом, 48% пользователей доходит до оплаты.\n",
    "\n",
    "```"
   ]
  },
  {
   "cell_type": "markdown",
   "metadata": {},
   "source": [
    "## Изучение итогов теста"
   ]
  },
  {
   "cell_type": "code",
   "execution_count": 31,
   "metadata": {},
   "outputs": [
    {
     "data": {
      "text/html": [
       "<div>\n",
       "<style scoped>\n",
       "    .dataframe tbody tr th:only-of-type {\n",
       "        vertical-align: middle;\n",
       "    }\n",
       "\n",
       "    .dataframe tbody tr th {\n",
       "        vertical-align: top;\n",
       "    }\n",
       "\n",
       "    .dataframe thead th {\n",
       "        text-align: right;\n",
       "    }\n",
       "</style>\n",
       "<table border=\"1\" class=\"dataframe\">\n",
       "  <thead>\n",
       "    <tr style=\"text-align: right;\">\n",
       "      <th></th>\n",
       "      <th>ExpId</th>\n",
       "      <th>DeviceIDHash</th>\n",
       "    </tr>\n",
       "  </thead>\n",
       "  <tbody>\n",
       "    <tr>\n",
       "      <th>0</th>\n",
       "      <td>246</td>\n",
       "      <td>2484</td>\n",
       "    </tr>\n",
       "    <tr>\n",
       "      <th>1</th>\n",
       "      <td>247</td>\n",
       "      <td>2513</td>\n",
       "    </tr>\n",
       "    <tr>\n",
       "      <th>2</th>\n",
       "      <td>248</td>\n",
       "      <td>2537</td>\n",
       "    </tr>\n",
       "  </tbody>\n",
       "</table>\n",
       "</div>"
      ],
      "text/plain": [
       "   ExpId  DeviceIDHash\n",
       "0    246          2484\n",
       "1    247          2513\n",
       "2    248          2537"
      ]
     },
     "execution_count": 31,
     "metadata": {},
     "output_type": "execute_result"
    }
   ],
   "source": [
    "# посчитаем кол-во пользователей в каждой группе\n",
    "groups = new_df.groupby(by = 'ExpId').agg({'DeviceIDHash':'nunique'}).reset_index()\n",
    "groups"
   ]
  },
  {
   "cell_type": "code",
   "execution_count": 32,
   "metadata": {},
   "outputs": [],
   "source": [
    "# функция для расчета стат.значимости разницы долей\n",
    "def z_test(trials,successes,alpha=0.05):\n",
    "\n",
    "    successes = np.array(successes)\n",
    "    \n",
    "    trials = np.array(trials)\n",
    "    \n",
    "    # пропорция успехов в первой группе:\n",
    "    p1 = successes[0]/trials[0]\n",
    "\n",
    "    # пропорция успехов во второй группе:\n",
    "    p2 = successes[1]/trials[1]\n",
    "\n",
    "    # пропорция успехов в комбинированном датасете:\n",
    "    p_combined = (successes[0] + successes[1]) / (trials[0] + trials[1])\n",
    "\n",
    "    # разница пропорций в датасетах\n",
    "    difference = p1 - p2\n",
    "\n",
    "    # считаем статистику в ст.отклонениях стандартного нормального распределения\n",
    "    z_value = difference / mth.sqrt(p_combined * (1 - p_combined) * (1/trials[0] + 1/trials[1]))\n",
    "\n",
    "    # задаем стандартное нормальное распределение (среднее 0, ст.отклонение 1)\n",
    "    distr = st.norm(0, 1)  \n",
    "\n",
    "    p_value = (1 - distr.cdf(abs(z_value))) * 2\n",
    "\n",
    "    return p_value"
   ]
  },
  {
   "cell_type": "markdown",
   "metadata": {},
   "source": [
    "### Проверка статистически значимого различия между контрольными группами"
   ]
  },
  {
   "cell_type": "markdown",
   "metadata": {},
   "source": [
    "```\n",
    "H0 - Стат. значимое различие между группами нет\n",
    "H1 - Стат. значимое различие между группами есть \n",
    "```"
   ]
  },
  {
   "cell_type": "code",
   "execution_count": 33,
   "metadata": {
    "scrolled": false
   },
   "outputs": [
    {
     "name": "stdout",
     "output_type": "stream",
     "text": [
      "['Tutorial', 0.9376996189257114]\n",
      "['MainScreenAppear', 0.7570597232046099]\n",
      "['OffersScreenAppear', 0.2480954578522181]\n",
      "['CartScreenAppear', 0.22883372237997213]\n",
      "['PaymentScreenSuccessful', 0.11456679313141849]\n"
     ]
    }
   ],
   "source": [
    "# проверяем различия между контрольными группами\n",
    "for events in new_df['EventName'].unique():\n",
    "    data = new_df[new_df['EventName'] == events]\n",
    "    successes = [data[data['ExpId'] == 246]['DeviceIDHash'].nunique(), data[data['ExpId'] == 247]['DeviceIDHash'].nunique()]\n",
    "    trials = [new_df[new_df['ExpId'] == 246]['DeviceIDHash'].nunique(), new_df[new_df['ExpId'] == 247]['DeviceIDHash'].nunique()]\n",
    "    p_value = z_test(trials,successes)\n",
    "    results = [events, p_value]\n",
    "    print(results)"
   ]
  },
  {
   "cell_type": "markdown",
   "metadata": {},
   "source": [
    "***Вывод:***\n",
    "```Нет статистически значимой разницы между группами, так и должно быть, тк обе группы контроьные```"
   ]
  },
  {
   "cell_type": "markdown",
   "metadata": {},
   "source": [
    "### Проверка статистически значимого различия между контрольной группой 246 и тестовой группой"
   ]
  },
  {
   "cell_type": "markdown",
   "metadata": {},
   "source": [
    "```\n",
    "H0 - Стат. значимое различие между группами нет\n",
    "H1 - Стат. значимое различие между группами есть \n",
    "```"
   ]
  },
  {
   "cell_type": "code",
   "execution_count": 34,
   "metadata": {
    "scrolled": true
   },
   "outputs": [
    {
     "name": "stdout",
     "output_type": "stream",
     "text": [
      "['Tutorial', 0.8264294010087645]\n",
      "['MainScreenAppear', 0.2949721933554552]\n",
      "['OffersScreenAppear', 0.20836205402738917]\n",
      "['CartScreenAppear', 0.07842923237520116]\n",
      "['PaymentScreenSuccessful', 0.2122553275697796]\n"
     ]
    }
   ],
   "source": [
    "# проверяем различия между контрольной группой 246 и тестовой группой\n",
    "for events in new_df['EventName'].unique():\n",
    "    data = new_df[new_df['EventName'] == events]\n",
    "    successes = [data[data['ExpId'] == 246]['DeviceIDHash'].nunique(), data[data['ExpId'] == 248]['DeviceIDHash'].nunique()]\n",
    "    trials = [new_df[new_df['ExpId'] == 246]['DeviceIDHash'].nunique(), new_df[new_df['ExpId'] == 248]['DeviceIDHash'].nunique()]\n",
    "    p_value = z_test(trials,successes)\n",
    "    results = [events, p_value]\n",
    "    print(results)"
   ]
  },
  {
   "cell_type": "markdown",
   "metadata": {},
   "source": [
    "***Вывод:***\n",
    "```Так как p-value по всем событиям > 0.05 мы не можем отвергнуть нулевую гипотезу```"
   ]
  },
  {
   "cell_type": "markdown",
   "metadata": {},
   "source": [
    "### Проверка статистически значимого различия между контрольной группой 247 и тестовой группой"
   ]
  },
  {
   "cell_type": "markdown",
   "metadata": {},
   "source": [
    "```\n",
    "H0 - Стат. значимое различие между группами нет\n",
    "H1 - Стат. значимое различие между группами есть \n",
    "```"
   ]
  },
  {
   "cell_type": "code",
   "execution_count": 35,
   "metadata": {},
   "outputs": [
    {
     "name": "stdout",
     "output_type": "stream",
     "text": [
      "['Tutorial', 0.765323922474501]\n",
      "['MainScreenAppear', 0.4587053616621515]\n",
      "['OffersScreenAppear', 0.9197817830592261]\n",
      "['CartScreenAppear', 0.5786197879539783]\n",
      "['PaymentScreenSuccessful', 0.7373415053803964]\n"
     ]
    }
   ],
   "source": [
    "# проверяем различия между контрольной группой 246 и тестовой группой\n",
    "for events in new_df['EventName'].unique():\n",
    "    data = new_df[new_df['EventName'] == events]\n",
    "    successes = [data[data['ExpId'] == 247]['DeviceIDHash'].nunique(), data[data['ExpId'] == 248]['DeviceIDHash'].nunique()]\n",
    "    trials = [new_df[new_df['ExpId'] == 247]['DeviceIDHash'].nunique(), new_df[new_df['ExpId'] == 248]['DeviceIDHash'].nunique()]\n",
    "    p_value = z_test(trials,successes)\n",
    "    results = [events, p_value]\n",
    "    print(results)"
   ]
  },
  {
   "cell_type": "markdown",
   "metadata": {},
   "source": [
    "***Вывод:***\n",
    "```Так как p-value по всем событиям > 0.05 мы не можем отвергнуть нулевую гипотезу```"
   ]
  },
  {
   "cell_type": "markdown",
   "metadata": {},
   "source": [
    "### Проверка статистически значимого различия между объеденённой контрольной группой и тестовой группой"
   ]
  },
  {
   "cell_type": "markdown",
   "metadata": {},
   "source": [
    "```\n",
    "H0 - Стат. значимое различие между группами нет\n",
    "H1 - Стат. значимое различие между группами есть \n",
    "```"
   ]
  },
  {
   "cell_type": "code",
   "execution_count": 36,
   "metadata": {},
   "outputs": [
    {
     "name": "stdout",
     "output_type": "stream",
     "text": [
      "['Tutorial', 0.764862472531507]\n",
      "['MainScreenAppear', 0.29424526837179577]\n",
      "['OffersScreenAppear', 0.43425549655188256]\n",
      "['CartScreenAppear', 0.18175875284404386]\n",
      "['PaymentScreenSuccessful', 0.6004294282308704]\n"
     ]
    }
   ],
   "source": [
    "# проверяем различия между контрольной группой 246 и тестовой группой\n",
    "for events in new_df['EventName'].unique():\n",
    "    data = new_df[new_df['EventName'] == events]\n",
    "    successes = [data[data['ExpId'] != 248]['DeviceIDHash'].nunique(), data[data['ExpId'] == 248]['DeviceIDHash'].nunique()]\n",
    "    trials = [new_df[new_df['ExpId'] != 248]['DeviceIDHash'].nunique(), new_df[new_df['ExpId'] == 248]['DeviceIDHash'].nunique()]\n",
    "    p_value = z_test(trials,successes)\n",
    "    results = [events, p_value]\n",
    "    print(results)"
   ]
  },
  {
   "cell_type": "markdown",
   "metadata": {},
   "source": [
    "***Вывод:***\n",
    "```Так как p-value по всем событиям > 0.05 мы не можем отвергнуть нулевую гипотезу```"
   ]
  },
  {
   "cell_type": "markdown",
   "metadata": {},
   "source": [
    "### Вывод\n",
    "\n",
    "```\n",
    "В контрольной группе 246 - 2484 пользователя\n",
    "\n",
    "В контрольной группе 247 - 2513 пользователей\n",
    "\n",
    "В тестовой группе 248 - 2537 пользователей\n",
    "\n",
    "Группа 246 и 247 не различаются стат. значимо, это может нам сказать, что разбиение на группы работает корректно.\n",
    "\n",
    "Что с разбивкой по двум группам, что с объеденённой группой, мы можем сказать, что p-value по всем событиям > 0.05 и мы не можем отвергнуть нулевую гипотезу теста.\n",
    "\n",
    "Выбранный уровень стат.значимости - 0.05. Менять его не вижу смыслу, тк это стандартный уровень для большинства тестов, понижение точно ничего не даст, а повышение - приведет к слишком высокой вероятности ошибки.\n",
    "\n",
    "```"
   ]
  },
  {
   "cell_type": "markdown",
   "metadata": {},
   "source": [
    "## Вывод"
   ]
  },
  {
   "cell_type": "markdown",
   "metadata": {},
   "source": [
    "```\n",
    "1. Событий в логе всего - 243713 (до чистки), если считать уникальных событий - 5\n",
    "\n",
    "2. Всего пользователей в логе -  7551 (до чистки)\n",
    "\n",
    "3. Примерно половина пользователей совершает примерно < 20 событий, половина > 20 событий.\n",
    "\n",
    "4. В нашем расположении полные данные только с 2019-08-01, однако дата начала теста - 2019-07-25. Возможно, это связано с тем, что пользователи не сразу начали обновлять приложение и большинство пользователей увидели изменения только с 1 августа.\n",
    "\n",
    "5. После чистки датасета по дате мы потеряли 2826(~1%) событий и 17(менее 1%) пользователей. Количество групп по прежнему осталось - 3.\n",
    "\n",
    "6. Самое популярное событие - MainScreenAppear с количество повторений в логе - 117328 (на 7419 пользователей)\n",
    "\n",
    "7. Наименее популярное событие - Tutorial с количество повторений в логе - 1005 (840).\n",
    "\n",
    "8. Предположительно, воронка строится следующим образом: \n",
    "\n",
    "MainScreenAppear ==> OffersScreenAppear ==> CartScreenAppear ==> PaymentScreenSuccessful\n",
    "\n",
    "9. Одно из событий - Tutorial, не вписывается в последовательную воронку, так как совершить событие Tutorial можно на любом из предыдущих шагов, но скорее всего, его совершают после события CartScreenAppear.\n",
    "\n",
    "10. Больше всего (38%) пользователей теряется после первого шага (переход с MainScreenAppear на OffersScreenAppear). При этом, 48% пользователей доходит до оплаты.\n",
    "\n",
    "11. В контрольной группе 246 - 2484 пользователя. В контрольной группе 247 - 2513 пользователей. В тестовой группе 248 - 2537 пользователей\n",
    "\n",
    "12. Группа 246 и 247 не различаются стат. значимо, это может нам сказать, что разбиение на группы работает корректно.\n",
    "\n",
    "13. Что с разбивкой по двум группам, что с объеденённой группой, мы можем сказать, что p-value по всем событиям > 0.05 и мы не можем отвергнуть нулевую гипотезу теста.\n",
    "\n",
    "14. Выбранный уровень стат.значимости - 0.05. Менять его не вижу смыслу, тк это стандартный уровень для большинства тестов, понижение точно ничего не даст, а повышение - приведет к слишком высокой вероятности ошибки.\n",
    "\n",
    "Я бы продолжил тест как минимум до 2 недель, это поможет нам увеличить выборку, что в свою очередь даст более точный результат и возможно, мы сможем набрать достаточный объем для стат.значимого результата.\n",
    "\n",
    "Проблему текущего теста заключается в том, что в первую неделю (то есть половина всего теста) события вообще не приходили, соотвественно, это помешало собрать достаточно данных для стат.значимого результата.\n",
    "```"
   ]
  }
 ],
 "metadata": {
  "ExecuteTimeLog": [
   {
    "duration": 1487,
    "start_time": "2023-02-18T10:24:15.264Z"
   },
   {
    "duration": 665,
    "start_time": "2023-02-18T10:26:04.729Z"
   },
   {
    "duration": 15,
    "start_time": "2023-02-18T10:26:08.092Z"
   },
   {
    "duration": 167,
    "start_time": "2023-02-18T10:26:38.438Z"
   },
   {
    "duration": 11,
    "start_time": "2023-02-18T10:26:39.792Z"
   },
   {
    "duration": 8,
    "start_time": "2023-02-18T10:31:23.470Z"
   },
   {
    "duration": 21,
    "start_time": "2023-02-18T10:31:33.772Z"
   },
   {
    "duration": 16,
    "start_time": "2023-02-18T10:33:29.723Z"
   },
   {
    "duration": 39,
    "start_time": "2023-02-18T10:33:44.055Z"
   },
   {
    "duration": 61,
    "start_time": "2023-02-18T10:36:05.082Z"
   },
   {
    "duration": 113,
    "start_time": "2023-02-18T10:38:07.455Z"
   },
   {
    "duration": 52,
    "start_time": "2023-02-18T10:38:58.300Z"
   },
   {
    "duration": 8,
    "start_time": "2023-02-18T10:39:16.133Z"
   },
   {
    "duration": 8,
    "start_time": "2023-02-18T10:39:53.369Z"
   },
   {
    "duration": 53,
    "start_time": "2023-02-18T10:40:07.248Z"
   },
   {
    "duration": 46,
    "start_time": "2023-02-18T10:43:33.401Z"
   },
   {
    "duration": 18,
    "start_time": "2023-02-18T10:44:48.185Z"
   },
   {
    "duration": 14,
    "start_time": "2023-02-18T10:44:57.337Z"
   },
   {
    "duration": 12,
    "start_time": "2023-02-18T10:45:32.865Z"
   },
   {
    "duration": 17,
    "start_time": "2023-02-18T10:45:37.103Z"
   },
   {
    "duration": 11,
    "start_time": "2023-02-18T10:46:40.193Z"
   },
   {
    "duration": 9,
    "start_time": "2023-02-18T10:46:57.036Z"
   },
   {
    "duration": 16,
    "start_time": "2023-02-18T10:46:59.972Z"
   },
   {
    "duration": 13,
    "start_time": "2023-02-18T10:49:34.147Z"
   },
   {
    "duration": 6,
    "start_time": "2023-02-18T10:49:50.140Z"
   },
   {
    "duration": 17,
    "start_time": "2023-02-18T10:49:52.589Z"
   },
   {
    "duration": 11,
    "start_time": "2023-02-18T10:51:30.181Z"
   },
   {
    "duration": 14,
    "start_time": "2023-02-18T10:51:58.079Z"
   },
   {
    "duration": 469,
    "start_time": "2023-02-18T10:52:43.914Z"
   },
   {
    "duration": 481,
    "start_time": "2023-02-18T10:54:56.503Z"
   },
   {
    "duration": 472,
    "start_time": "2023-02-18T10:54:59.889Z"
   },
   {
    "duration": 520,
    "start_time": "2023-02-18T10:55:34.547Z"
   },
   {
    "duration": 461,
    "start_time": "2023-02-18T10:55:58.565Z"
   },
   {
    "duration": 500,
    "start_time": "2023-02-18T10:56:57.671Z"
   },
   {
    "duration": 472,
    "start_time": "2023-02-18T10:57:40.703Z"
   },
   {
    "duration": 3,
    "start_time": "2023-02-18T10:57:53.255Z"
   },
   {
    "duration": 202,
    "start_time": "2023-02-18T10:57:53.261Z"
   },
   {
    "duration": 8,
    "start_time": "2023-02-18T10:57:53.465Z"
   },
   {
    "duration": 25,
    "start_time": "2023-02-18T10:57:53.475Z"
   },
   {
    "duration": 41,
    "start_time": "2023-02-18T10:57:53.503Z"
   },
   {
    "duration": 59,
    "start_time": "2023-02-18T10:57:53.549Z"
   },
   {
    "duration": 61,
    "start_time": "2023-02-18T10:57:53.609Z"
   },
   {
    "duration": 483,
    "start_time": "2023-02-18T10:57:53.672Z"
   },
   {
    "duration": 77,
    "start_time": "2023-02-18T10:59:00.182Z"
   },
   {
    "duration": 479,
    "start_time": "2023-02-18T10:59:03.603Z"
   },
   {
    "duration": 480,
    "start_time": "2023-02-18T10:59:28.954Z"
   },
   {
    "duration": 468,
    "start_time": "2023-02-18T11:00:43.821Z"
   },
   {
    "duration": 1204,
    "start_time": "2023-02-18T11:01:24.723Z"
   },
   {
    "duration": 1120,
    "start_time": "2023-02-18T11:01:28.959Z"
   },
   {
    "duration": 98,
    "start_time": "2023-02-18T11:02:30.895Z"
   },
   {
    "duration": 109,
    "start_time": "2023-02-18T11:03:00.361Z"
   },
   {
    "duration": 85,
    "start_time": "2023-02-18T11:03:05.651Z"
   },
   {
    "duration": 47,
    "start_time": "2023-02-18T14:16:37.877Z"
   },
   {
    "duration": 1430,
    "start_time": "2023-02-18T14:16:43.864Z"
   },
   {
    "duration": 660,
    "start_time": "2023-02-18T14:16:45.297Z"
   },
   {
    "duration": 12,
    "start_time": "2023-02-18T14:16:45.959Z"
   },
   {
    "duration": 26,
    "start_time": "2023-02-18T14:16:45.973Z"
   },
   {
    "duration": 16,
    "start_time": "2023-02-18T14:16:46.002Z"
   },
   {
    "duration": 95,
    "start_time": "2023-02-18T14:16:46.020Z"
   },
   {
    "duration": 85,
    "start_time": "2023-02-18T14:16:46.117Z"
   },
   {
    "duration": 1650,
    "start_time": "2023-02-18T14:16:46.204Z"
   },
   {
    "duration": 0,
    "start_time": "2023-02-18T14:16:47.856Z"
   },
   {
    "duration": 918,
    "start_time": "2023-02-18T14:16:57.137Z"
   },
   {
    "duration": 108,
    "start_time": "2023-02-18T14:16:59.994Z"
   },
   {
    "duration": 4,
    "start_time": "2023-02-18T15:42:19.336Z"
   },
   {
    "duration": 4,
    "start_time": "2023-02-18T15:42:34.336Z"
   },
   {
    "duration": 3,
    "start_time": "2023-02-18T15:43:02.955Z"
   },
   {
    "duration": 6,
    "start_time": "2023-02-18T15:44:05.623Z"
   },
   {
    "duration": 9,
    "start_time": "2023-02-18T15:44:22.660Z"
   },
   {
    "duration": 9,
    "start_time": "2023-02-18T15:44:33.272Z"
   },
   {
    "duration": 79,
    "start_time": "2023-02-18T15:44:39.903Z"
   },
   {
    "duration": 5,
    "start_time": "2023-02-18T15:44:51.851Z"
   },
   {
    "duration": 8,
    "start_time": "2023-02-18T15:45:00.480Z"
   },
   {
    "duration": 9,
    "start_time": "2023-02-18T15:45:19.478Z"
   },
   {
    "duration": 87,
    "start_time": "2023-02-18T15:45:24.190Z"
   },
   {
    "duration": 8,
    "start_time": "2023-02-18T15:48:02.966Z"
   },
   {
    "duration": 8,
    "start_time": "2023-02-18T15:48:20.528Z"
   },
   {
    "duration": 9,
    "start_time": "2023-02-18T15:48:29.434Z"
   },
   {
    "duration": 7,
    "start_time": "2023-02-18T15:48:34.074Z"
   },
   {
    "duration": 9,
    "start_time": "2023-02-18T15:48:37.559Z"
   },
   {
    "duration": 14,
    "start_time": "2023-02-18T15:51:49.261Z"
   },
   {
    "duration": 25,
    "start_time": "2023-02-18T15:52:06.919Z"
   },
   {
    "duration": 22,
    "start_time": "2023-02-18T15:52:34.303Z"
   },
   {
    "duration": 4,
    "start_time": "2023-02-18T15:52:41.299Z"
   },
   {
    "duration": 39,
    "start_time": "2023-02-18T15:53:07.173Z"
   },
   {
    "duration": 33,
    "start_time": "2023-02-18T15:53:18.645Z"
   },
   {
    "duration": 31,
    "start_time": "2023-02-18T15:53:23.451Z"
   },
   {
    "duration": 25,
    "start_time": "2023-02-18T15:53:31.632Z"
   },
   {
    "duration": 4,
    "start_time": "2023-02-18T15:53:32.829Z"
   },
   {
    "duration": 3,
    "start_time": "2023-02-18T15:56:46.349Z"
   },
   {
    "duration": 8,
    "start_time": "2023-02-18T15:57:58.596Z"
   },
   {
    "duration": 3,
    "start_time": "2023-02-18T15:58:12.176Z"
   },
   {
    "duration": 25,
    "start_time": "2023-02-18T16:00:32.130Z"
   },
   {
    "duration": 32,
    "start_time": "2023-02-18T16:02:35.721Z"
   },
   {
    "duration": 30,
    "start_time": "2023-02-18T16:03:04.489Z"
   },
   {
    "duration": 32,
    "start_time": "2023-02-18T16:03:12.792Z"
   },
   {
    "duration": 32,
    "start_time": "2023-02-18T16:03:19.453Z"
   },
   {
    "duration": 29,
    "start_time": "2023-02-18T16:03:30.455Z"
   },
   {
    "duration": 444,
    "start_time": "2023-02-18T16:05:09.338Z"
   },
   {
    "duration": 13,
    "start_time": "2023-02-18T16:06:13.079Z"
   },
   {
    "duration": 4,
    "start_time": "2023-02-18T16:06:25.080Z"
   },
   {
    "duration": 253,
    "start_time": "2023-02-18T16:06:41.696Z"
   },
   {
    "duration": 182,
    "start_time": "2023-02-18T16:06:52.703Z"
   },
   {
    "duration": 267,
    "start_time": "2023-02-18T16:07:06.537Z"
   },
   {
    "duration": 217,
    "start_time": "2023-02-18T16:07:11.878Z"
   },
   {
    "duration": 207,
    "start_time": "2023-02-18T16:07:18.566Z"
   },
   {
    "duration": 211,
    "start_time": "2023-02-18T16:08:49.150Z"
   },
   {
    "duration": 195,
    "start_time": "2023-02-18T16:09:05.925Z"
   },
   {
    "duration": 213,
    "start_time": "2023-02-18T16:09:34.885Z"
   },
   {
    "duration": 182,
    "start_time": "2023-02-18T16:09:44.563Z"
   },
   {
    "duration": 224,
    "start_time": "2023-02-18T16:10:01.268Z"
   },
   {
    "duration": 296,
    "start_time": "2023-02-18T16:10:21.426Z"
   },
   {
    "duration": 198,
    "start_time": "2023-02-18T16:10:26.744Z"
   },
   {
    "duration": 654,
    "start_time": "2023-02-18T16:11:48.890Z"
   },
   {
    "duration": 214,
    "start_time": "2023-02-18T16:12:18.818Z"
   },
   {
    "duration": 222,
    "start_time": "2023-02-18T16:13:20.189Z"
   },
   {
    "duration": 226,
    "start_time": "2023-02-18T16:13:55.170Z"
   },
   {
    "duration": 233,
    "start_time": "2023-02-18T16:20:00.437Z"
   },
   {
    "duration": 220,
    "start_time": "2023-02-18T16:20:12.943Z"
   },
   {
    "duration": 299,
    "start_time": "2023-02-18T16:39:53.096Z"
   },
   {
    "duration": 274,
    "start_time": "2023-02-18T16:40:31.501Z"
   },
   {
    "duration": 4,
    "start_time": "2023-02-18T16:41:09.511Z"
   },
   {
    "duration": 10,
    "start_time": "2023-02-18T16:46:51.370Z"
   },
   {
    "duration": 8,
    "start_time": "2023-02-18T16:46:59.700Z"
   },
   {
    "duration": 9,
    "start_time": "2023-02-18T16:47:04.187Z"
   },
   {
    "duration": 9,
    "start_time": "2023-02-18T16:47:08.372Z"
   },
   {
    "duration": 9,
    "start_time": "2023-02-18T16:47:32.452Z"
   },
   {
    "duration": 9,
    "start_time": "2023-02-18T16:47:51.341Z"
   },
   {
    "duration": 73,
    "start_time": "2023-02-18T16:48:20.219Z"
   },
   {
    "duration": 3,
    "start_time": "2023-02-18T16:48:42.364Z"
   },
   {
    "duration": 297,
    "start_time": "2023-02-18T16:48:47.601Z"
   },
   {
    "duration": 18,
    "start_time": "2023-02-18T16:49:09.831Z"
   },
   {
    "duration": 29,
    "start_time": "2023-02-18T16:49:17.518Z"
   },
   {
    "duration": 22,
    "start_time": "2023-02-18T16:51:12.359Z"
   },
   {
    "duration": 1619,
    "start_time": "2023-02-19T08:41:15.233Z"
   },
   {
    "duration": 771,
    "start_time": "2023-02-19T08:41:16.854Z"
   },
   {
    "duration": 11,
    "start_time": "2023-02-19T08:41:17.627Z"
   },
   {
    "duration": 23,
    "start_time": "2023-02-19T08:41:17.652Z"
   },
   {
    "duration": 15,
    "start_time": "2023-02-19T08:41:17.677Z"
   },
   {
    "duration": 89,
    "start_time": "2023-02-19T08:41:17.694Z"
   },
   {
    "duration": 94,
    "start_time": "2023-02-19T08:41:17.785Z"
   },
   {
    "duration": 1127,
    "start_time": "2023-02-19T08:41:17.881Z"
   },
   {
    "duration": 143,
    "start_time": "2023-02-19T08:41:19.010Z"
   },
   {
    "duration": 3,
    "start_time": "2023-02-19T08:41:19.156Z"
   },
   {
    "duration": 11,
    "start_time": "2023-02-19T08:41:19.161Z"
   },
   {
    "duration": 16,
    "start_time": "2023-02-19T08:41:19.174Z"
   },
   {
    "duration": 31,
    "start_time": "2023-02-19T08:41:19.192Z"
   },
   {
    "duration": 357,
    "start_time": "2023-02-19T08:41:19.224Z"
   },
   {
    "duration": 24,
    "start_time": "2023-02-19T08:41:19.583Z"
   },
   {
    "duration": 43,
    "start_time": "2023-02-19T08:46:13.174Z"
   },
   {
    "duration": 3,
    "start_time": "2023-02-19T08:46:25.836Z"
   },
   {
    "duration": 8,
    "start_time": "2023-02-19T09:01:10.681Z"
   },
   {
    "duration": 6,
    "start_time": "2023-02-19T09:01:26.642Z"
   },
   {
    "duration": 10,
    "start_time": "2023-02-19T09:01:38.857Z"
   },
   {
    "duration": 7,
    "start_time": "2023-02-19T09:02:47.308Z"
   },
   {
    "duration": 25,
    "start_time": "2023-02-19T09:11:47.228Z"
   },
   {
    "duration": 25,
    "start_time": "2023-02-19T09:11:53.972Z"
   },
   {
    "duration": 30,
    "start_time": "2023-02-19T09:12:53.765Z"
   },
   {
    "duration": 31,
    "start_time": "2023-02-19T09:13:11.668Z"
   },
   {
    "duration": 131,
    "start_time": "2023-02-19T09:13:21.023Z"
   },
   {
    "duration": 30,
    "start_time": "2023-02-19T09:13:35.976Z"
   },
   {
    "duration": 28,
    "start_time": "2023-02-19T09:13:50.112Z"
   },
   {
    "duration": 41,
    "start_time": "2023-02-19T09:14:50.346Z"
   },
   {
    "duration": 39,
    "start_time": "2023-02-19T09:14:57.453Z"
   },
   {
    "duration": 95,
    "start_time": "2023-02-19T09:24:20.285Z"
   },
   {
    "duration": 61,
    "start_time": "2023-02-19T09:24:42.430Z"
   },
   {
    "duration": 14,
    "start_time": "2023-02-19T09:31:42.753Z"
   },
   {
    "duration": 62,
    "start_time": "2023-02-19T09:33:41.445Z"
   },
   {
    "duration": 46,
    "start_time": "2023-02-19T09:34:52.363Z"
   },
   {
    "duration": 4,
    "start_time": "2023-02-19T09:36:06.861Z"
   },
   {
    "duration": 46,
    "start_time": "2023-02-19T09:36:17.168Z"
   },
   {
    "duration": 11,
    "start_time": "2023-02-19T09:37:06.347Z"
   },
   {
    "duration": 12,
    "start_time": "2023-02-19T09:40:55.637Z"
   },
   {
    "duration": 11,
    "start_time": "2023-02-19T15:31:55.207Z"
   },
   {
    "duration": 10,
    "start_time": "2023-02-19T15:32:38.315Z"
   },
   {
    "duration": 10,
    "start_time": "2023-02-19T15:32:51.159Z"
   },
   {
    "duration": 9,
    "start_time": "2023-02-19T15:33:02.632Z"
   },
   {
    "duration": 10,
    "start_time": "2023-02-19T15:33:12.671Z"
   },
   {
    "duration": 14,
    "start_time": "2023-02-19T15:35:11.682Z"
   },
   {
    "duration": 9,
    "start_time": "2023-02-19T15:35:33.068Z"
   },
   {
    "duration": 11,
    "start_time": "2023-02-19T15:40:52.322Z"
   },
   {
    "duration": 3,
    "start_time": "2023-02-19T15:41:05.925Z"
   },
   {
    "duration": 179,
    "start_time": "2023-02-19T15:41:05.931Z"
   },
   {
    "duration": 8,
    "start_time": "2023-02-19T15:41:06.111Z"
   },
   {
    "duration": 31,
    "start_time": "2023-02-19T15:41:06.121Z"
   },
   {
    "duration": 16,
    "start_time": "2023-02-19T15:41:06.155Z"
   },
   {
    "duration": 80,
    "start_time": "2023-02-19T15:41:06.173Z"
   },
   {
    "duration": 61,
    "start_time": "2023-02-19T15:41:06.255Z"
   },
   {
    "duration": 1004,
    "start_time": "2023-02-19T15:41:06.318Z"
   },
   {
    "duration": 100,
    "start_time": "2023-02-19T15:41:07.324Z"
   },
   {
    "duration": 14,
    "start_time": "2023-02-19T15:41:07.426Z"
   },
   {
    "duration": 11,
    "start_time": "2023-02-19T15:41:07.442Z"
   },
   {
    "duration": 9,
    "start_time": "2023-02-19T15:41:07.454Z"
   },
   {
    "duration": 33,
    "start_time": "2023-02-19T15:41:07.464Z"
   },
   {
    "duration": 269,
    "start_time": "2023-02-19T15:41:07.501Z"
   },
   {
    "duration": 23,
    "start_time": "2023-02-19T15:41:07.773Z"
   },
   {
    "duration": 12,
    "start_time": "2023-02-19T15:41:07.798Z"
   },
   {
    "duration": 34,
    "start_time": "2023-02-19T15:41:07.812Z"
   },
   {
    "duration": 62,
    "start_time": "2023-02-19T15:41:07.848Z"
   },
   {
    "duration": 59,
    "start_time": "2023-02-19T15:41:07.912Z"
   },
   {
    "duration": 13,
    "start_time": "2023-02-19T15:41:07.972Z"
   },
   {
    "duration": 11,
    "start_time": "2023-02-19T15:41:07.986Z"
   },
   {
    "duration": 4,
    "start_time": "2023-02-19T15:42:37.177Z"
   },
   {
    "duration": 10,
    "start_time": "2023-02-19T15:42:44.312Z"
   },
   {
    "duration": 12,
    "start_time": "2023-02-19T15:43:08.945Z"
   },
   {
    "duration": 12,
    "start_time": "2023-02-19T15:44:12.510Z"
   },
   {
    "duration": 13,
    "start_time": "2023-02-19T15:44:40.923Z"
   },
   {
    "duration": 10,
    "start_time": "2023-02-19T15:45:06.729Z"
   },
   {
    "duration": 12,
    "start_time": "2023-02-19T15:45:20.861Z"
   },
   {
    "duration": 13,
    "start_time": "2023-02-19T15:45:22.461Z"
   },
   {
    "duration": 4,
    "start_time": "2023-02-19T15:45:27.367Z"
   },
   {
    "duration": 168,
    "start_time": "2023-02-19T15:45:27.372Z"
   },
   {
    "duration": 7,
    "start_time": "2023-02-19T15:45:27.542Z"
   },
   {
    "duration": 25,
    "start_time": "2023-02-19T15:45:27.551Z"
   },
   {
    "duration": 19,
    "start_time": "2023-02-19T15:45:27.579Z"
   },
   {
    "duration": 77,
    "start_time": "2023-02-19T15:45:27.600Z"
   },
   {
    "duration": 75,
    "start_time": "2023-02-19T15:45:27.678Z"
   },
   {
    "duration": 1086,
    "start_time": "2023-02-19T15:45:27.755Z"
   },
   {
    "duration": 117,
    "start_time": "2023-02-19T15:45:28.842Z"
   },
   {
    "duration": 4,
    "start_time": "2023-02-19T15:45:28.962Z"
   },
   {
    "duration": 12,
    "start_time": "2023-02-19T15:45:28.968Z"
   },
   {
    "duration": 7,
    "start_time": "2023-02-19T15:45:28.981Z"
   },
   {
    "duration": 57,
    "start_time": "2023-02-19T15:45:28.990Z"
   },
   {
    "duration": 311,
    "start_time": "2023-02-19T15:45:29.049Z"
   },
   {
    "duration": 24,
    "start_time": "2023-02-19T15:45:29.362Z"
   },
   {
    "duration": 12,
    "start_time": "2023-02-19T15:45:29.389Z"
   },
   {
    "duration": 8,
    "start_time": "2023-02-19T15:45:29.403Z"
   },
   {
    "duration": 56,
    "start_time": "2023-02-19T15:45:29.413Z"
   },
   {
    "duration": 71,
    "start_time": "2023-02-19T15:45:29.471Z"
   },
   {
    "duration": 13,
    "start_time": "2023-02-19T15:45:29.544Z"
   },
   {
    "duration": 10,
    "start_time": "2023-02-19T15:45:29.558Z"
   },
   {
    "duration": 12,
    "start_time": "2023-02-19T15:45:29.570Z"
   },
   {
    "duration": 32,
    "start_time": "2023-02-19T15:59:28.467Z"
   },
   {
    "duration": 33,
    "start_time": "2023-02-19T15:59:34.044Z"
   },
   {
    "duration": 41,
    "start_time": "2023-02-19T15:59:52.465Z"
   },
   {
    "duration": 12,
    "start_time": "2023-02-19T16:00:12.324Z"
   },
   {
    "duration": 46,
    "start_time": "2023-02-19T16:00:26.220Z"
   },
   {
    "duration": 12,
    "start_time": "2023-02-19T16:00:30.452Z"
   },
   {
    "duration": 37,
    "start_time": "2023-02-19T16:00:43.092Z"
   },
   {
    "duration": 46,
    "start_time": "2023-02-19T16:03:29.035Z"
   },
   {
    "duration": 3,
    "start_time": "2023-02-19T16:03:36.328Z"
   },
   {
    "duration": 170,
    "start_time": "2023-02-19T16:03:36.337Z"
   },
   {
    "duration": 8,
    "start_time": "2023-02-19T16:03:36.508Z"
   },
   {
    "duration": 30,
    "start_time": "2023-02-19T16:03:36.517Z"
   },
   {
    "duration": 15,
    "start_time": "2023-02-19T16:03:36.548Z"
   },
   {
    "duration": 61,
    "start_time": "2023-02-19T16:03:36.565Z"
   },
   {
    "duration": 72,
    "start_time": "2023-02-19T16:03:36.628Z"
   },
   {
    "duration": 66,
    "start_time": "2023-02-19T16:03:36.702Z"
   },
   {
    "duration": 973,
    "start_time": "2023-02-19T16:03:36.770Z"
   },
   {
    "duration": 109,
    "start_time": "2023-02-19T16:03:37.745Z"
   },
   {
    "duration": 4,
    "start_time": "2023-02-19T16:03:37.856Z"
   },
   {
    "duration": 32,
    "start_time": "2023-02-19T16:03:37.862Z"
   },
   {
    "duration": 12,
    "start_time": "2023-02-19T16:03:37.896Z"
   },
   {
    "duration": 34,
    "start_time": "2023-02-19T16:03:37.912Z"
   },
   {
    "duration": 268,
    "start_time": "2023-02-19T16:03:37.949Z"
   },
   {
    "duration": 31,
    "start_time": "2023-02-19T16:03:38.219Z"
   },
   {
    "duration": 13,
    "start_time": "2023-02-19T16:03:38.251Z"
   },
   {
    "duration": 7,
    "start_time": "2023-02-19T16:03:38.265Z"
   },
   {
    "duration": 39,
    "start_time": "2023-02-19T16:03:38.273Z"
   },
   {
    "duration": 78,
    "start_time": "2023-02-19T16:03:38.313Z"
   },
   {
    "duration": 12,
    "start_time": "2023-02-19T16:03:38.393Z"
   },
   {
    "duration": 10,
    "start_time": "2023-02-19T16:03:38.407Z"
   },
   {
    "duration": 11,
    "start_time": "2023-02-19T16:03:38.441Z"
   },
   {
    "duration": 38,
    "start_time": "2023-02-19T16:03:38.453Z"
   },
   {
    "duration": 37,
    "start_time": "2023-02-19T16:13:12.756Z"
   },
   {
    "duration": 5,
    "start_time": "2023-02-19T16:55:07.375Z"
   },
   {
    "duration": 4,
    "start_time": "2023-02-19T16:56:08.310Z"
   },
   {
    "duration": 42,
    "start_time": "2023-02-19T17:13:55.320Z"
   },
   {
    "duration": 6,
    "start_time": "2023-02-19T17:14:03.643Z"
   },
   {
    "duration": 74,
    "start_time": "2023-02-19T17:14:04.595Z"
   },
   {
    "duration": 7,
    "start_time": "2023-02-19T17:15:58.864Z"
   },
   {
    "duration": 66,
    "start_time": "2023-02-19T17:15:59.252Z"
   },
   {
    "duration": 7,
    "start_time": "2023-02-19T17:17:03.675Z"
   },
   {
    "duration": 5,
    "start_time": "2023-02-19T17:17:21.170Z"
   },
   {
    "duration": 8,
    "start_time": "2023-02-19T17:17:24.725Z"
   },
   {
    "duration": 28,
    "start_time": "2023-02-19T17:17:46.194Z"
   },
   {
    "duration": 42,
    "start_time": "2023-02-19T17:18:21.087Z"
   },
   {
    "duration": 124,
    "start_time": "2023-02-19T17:18:31.997Z"
   },
   {
    "duration": 7,
    "start_time": "2023-02-19T17:19:15.586Z"
   },
   {
    "duration": 139,
    "start_time": "2023-02-19T17:19:43.611Z"
   },
   {
    "duration": 6,
    "start_time": "2023-02-19T17:19:50.706Z"
   },
   {
    "duration": 5,
    "start_time": "2023-02-19T17:20:04.247Z"
   },
   {
    "duration": 71,
    "start_time": "2023-02-19T17:20:04.524Z"
   },
   {
    "duration": 23,
    "start_time": "2023-02-19T17:21:43.363Z"
   },
   {
    "duration": 24,
    "start_time": "2023-02-19T17:21:49.558Z"
   },
   {
    "duration": 62,
    "start_time": "2023-02-19T17:21:54.631Z"
   },
   {
    "duration": 5,
    "start_time": "2023-02-19T17:23:01.556Z"
   },
   {
    "duration": 87,
    "start_time": "2023-02-19T17:23:08.426Z"
   },
   {
    "duration": 5,
    "start_time": "2023-02-19T17:23:23.970Z"
   },
   {
    "duration": 60,
    "start_time": "2023-02-19T17:23:27.384Z"
   },
   {
    "duration": 254,
    "start_time": "2023-02-19T17:23:45.120Z"
   },
   {
    "duration": 59,
    "start_time": "2023-02-19T17:24:43.622Z"
   },
   {
    "duration": 68,
    "start_time": "2023-02-19T17:24:49.363Z"
   },
   {
    "duration": 90,
    "start_time": "2023-02-19T17:25:39.196Z"
   },
   {
    "duration": 214,
    "start_time": "2023-02-19T17:26:10.811Z"
   },
   {
    "duration": 1329,
    "start_time": "2023-02-19T20:38:50.633Z"
   },
   {
    "duration": 659,
    "start_time": "2023-02-19T20:38:51.964Z"
   },
   {
    "duration": 9,
    "start_time": "2023-02-19T20:38:52.625Z"
   },
   {
    "duration": 17,
    "start_time": "2023-02-19T20:38:52.636Z"
   },
   {
    "duration": 14,
    "start_time": "2023-02-19T20:38:52.655Z"
   },
   {
    "duration": 56,
    "start_time": "2023-02-19T20:38:52.671Z"
   },
   {
    "duration": 76,
    "start_time": "2023-02-19T20:38:52.729Z"
   },
   {
    "duration": 53,
    "start_time": "2023-02-19T20:38:52.807Z"
   },
   {
    "duration": 897,
    "start_time": "2023-02-19T20:38:52.862Z"
   },
   {
    "duration": 87,
    "start_time": "2023-02-19T20:38:53.761Z"
   },
   {
    "duration": 3,
    "start_time": "2023-02-19T20:38:53.850Z"
   },
   {
    "duration": 10,
    "start_time": "2023-02-19T20:38:53.854Z"
   },
   {
    "duration": 7,
    "start_time": "2023-02-19T20:38:53.866Z"
   },
   {
    "duration": 30,
    "start_time": "2023-02-19T20:38:53.876Z"
   },
   {
    "duration": 323,
    "start_time": "2023-02-19T20:38:53.908Z"
   },
   {
    "duration": 30,
    "start_time": "2023-02-19T20:38:54.233Z"
   },
   {
    "duration": 12,
    "start_time": "2023-02-19T20:38:54.265Z"
   },
   {
    "duration": 6,
    "start_time": "2023-02-19T20:38:54.279Z"
   },
   {
    "duration": 35,
    "start_time": "2023-02-19T20:38:54.286Z"
   },
   {
    "duration": 71,
    "start_time": "2023-02-19T20:38:54.322Z"
   },
   {
    "duration": 12,
    "start_time": "2023-02-19T20:38:54.395Z"
   },
   {
    "duration": 41,
    "start_time": "2023-02-19T20:38:54.409Z"
   },
   {
    "duration": 108,
    "start_time": "2023-02-19T20:38:54.451Z"
   },
   {
    "duration": 42,
    "start_time": "2023-02-19T20:38:54.561Z"
   },
   {
    "duration": 5,
    "start_time": "2023-02-19T20:38:54.605Z"
   },
   {
    "duration": 190,
    "start_time": "2023-02-19T20:38:54.612Z"
   },
   {
    "duration": 170,
    "start_time": "2023-02-19T20:47:48.165Z"
   },
   {
    "duration": 178,
    "start_time": "2023-02-19T20:50:44.546Z"
   },
   {
    "duration": 166,
    "start_time": "2023-02-19T21:06:48.897Z"
   },
   {
    "duration": 198,
    "start_time": "2023-02-19T21:32:47.159Z"
   },
   {
    "duration": 9,
    "start_time": "2023-02-19T22:11:22.167Z"
   },
   {
    "duration": 10,
    "start_time": "2023-02-19T22:11:24.831Z"
   },
   {
    "duration": 1470,
    "start_time": "2023-02-20T05:32:36.107Z"
   },
   {
    "duration": 492,
    "start_time": "2023-02-20T05:32:37.580Z"
   },
   {
    "duration": 13,
    "start_time": "2023-02-20T05:32:38.074Z"
   },
   {
    "duration": 23,
    "start_time": "2023-02-20T05:32:38.089Z"
   },
   {
    "duration": 15,
    "start_time": "2023-02-20T05:32:38.114Z"
   },
   {
    "duration": 78,
    "start_time": "2023-02-20T05:32:38.131Z"
   },
   {
    "duration": 82,
    "start_time": "2023-02-20T05:32:38.210Z"
   },
   {
    "duration": 46,
    "start_time": "2023-02-20T05:32:38.294Z"
   },
   {
    "duration": 930,
    "start_time": "2023-02-20T05:32:38.342Z"
   },
   {
    "duration": 90,
    "start_time": "2023-02-20T05:32:39.274Z"
   },
   {
    "duration": 4,
    "start_time": "2023-02-20T05:32:39.365Z"
   },
   {
    "duration": 23,
    "start_time": "2023-02-20T05:32:39.370Z"
   },
   {
    "duration": 7,
    "start_time": "2023-02-20T05:32:39.394Z"
   },
   {
    "duration": 27,
    "start_time": "2023-02-20T05:32:39.404Z"
   },
   {
    "duration": 338,
    "start_time": "2023-02-20T05:32:39.433Z"
   },
   {
    "duration": 29,
    "start_time": "2023-02-20T05:32:39.773Z"
   },
   {
    "duration": 11,
    "start_time": "2023-02-20T05:32:39.804Z"
   },
   {
    "duration": 6,
    "start_time": "2023-02-20T05:32:39.817Z"
   },
   {
    "duration": 25,
    "start_time": "2023-02-20T05:32:39.824Z"
   },
   {
    "duration": 82,
    "start_time": "2023-02-20T05:32:39.851Z"
   },
   {
    "duration": 12,
    "start_time": "2023-02-20T05:32:39.935Z"
   },
   {
    "duration": 9,
    "start_time": "2023-02-20T05:32:39.949Z"
   },
   {
    "duration": 98,
    "start_time": "2023-02-20T05:32:39.960Z"
   },
   {
    "duration": 48,
    "start_time": "2023-02-20T05:32:40.060Z"
   },
   {
    "duration": 5,
    "start_time": "2023-02-20T05:32:40.110Z"
   },
   {
    "duration": 240,
    "start_time": "2023-02-20T05:32:40.117Z"
   },
   {
    "duration": 202,
    "start_time": "2023-02-20T05:32:40.359Z"
   },
   {
    "duration": 222,
    "start_time": "2023-02-20T05:32:40.563Z"
   },
   {
    "duration": 226,
    "start_time": "2023-02-20T05:32:40.787Z"
   },
   {
    "duration": 102,
    "start_time": "2023-02-20T05:43:28.871Z"
   },
   {
    "duration": 206,
    "start_time": "2023-02-20T05:44:08.056Z"
   },
   {
    "duration": 115,
    "start_time": "2023-02-20T05:44:44.840Z"
   },
   {
    "duration": 15,
    "start_time": "2023-02-20T05:44:58.722Z"
   },
   {
    "duration": 44,
    "start_time": "2023-02-20T05:45:06.687Z"
   },
   {
    "duration": 6,
    "start_time": "2023-02-20T05:45:40.032Z"
   },
   {
    "duration": 1428,
    "start_time": "2023-02-20T05:46:40.961Z"
   },
   {
    "duration": 28,
    "start_time": "2023-02-20T05:46:52.282Z"
   },
   {
    "duration": 187,
    "start_time": "2023-02-20T05:46:57.841Z"
   },
   {
    "duration": 189,
    "start_time": "2023-02-20T05:47:13.274Z"
   },
   {
    "duration": 192,
    "start_time": "2023-02-20T05:47:16.947Z"
   },
   {
    "duration": 1376,
    "start_time": "2023-02-20T14:57:12.001Z"
   },
   {
    "duration": 749,
    "start_time": "2023-02-20T14:57:13.379Z"
   },
   {
    "duration": 10,
    "start_time": "2023-02-20T14:57:14.130Z"
   },
   {
    "duration": 19,
    "start_time": "2023-02-20T14:57:14.142Z"
   },
   {
    "duration": 12,
    "start_time": "2023-02-20T14:57:14.163Z"
   },
   {
    "duration": 77,
    "start_time": "2023-02-20T14:57:14.176Z"
   },
   {
    "duration": 77,
    "start_time": "2023-02-20T14:57:14.254Z"
   },
   {
    "duration": 42,
    "start_time": "2023-02-20T14:57:14.333Z"
   },
   {
    "duration": 807,
    "start_time": "2023-02-20T14:57:17.646Z"
   },
   {
    "duration": 88,
    "start_time": "2023-02-20T14:57:30.318Z"
   },
   {
    "duration": 49,
    "start_time": "2023-02-20T15:14:23.092Z"
   },
   {
    "duration": 50,
    "start_time": "2023-02-20T15:14:50.207Z"
   },
   {
    "duration": 45,
    "start_time": "2023-02-20T15:14:59.633Z"
   },
   {
    "duration": 45,
    "start_time": "2023-02-20T15:15:29.828Z"
   },
   {
    "duration": 62,
    "start_time": "2023-02-20T15:15:43.872Z"
   },
   {
    "duration": 7,
    "start_time": "2023-02-20T19:44:14.723Z"
   },
   {
    "duration": 4,
    "start_time": "2023-02-20T19:45:03.810Z"
   },
   {
    "duration": 46,
    "start_time": "2023-02-20T19:45:27.177Z"
   },
   {
    "duration": 1466,
    "start_time": "2023-02-20T19:45:31.750Z"
   },
   {
    "duration": 512,
    "start_time": "2023-02-20T19:45:33.219Z"
   },
   {
    "duration": 11,
    "start_time": "2023-02-20T19:45:33.733Z"
   },
   {
    "duration": 32,
    "start_time": "2023-02-20T19:45:33.746Z"
   },
   {
    "duration": 23,
    "start_time": "2023-02-20T19:45:33.780Z"
   },
   {
    "duration": 75,
    "start_time": "2023-02-20T19:45:33.804Z"
   },
   {
    "duration": 77,
    "start_time": "2023-02-20T19:45:33.881Z"
   },
   {
    "duration": 41,
    "start_time": "2023-02-20T19:45:33.959Z"
   },
   {
    "duration": 84,
    "start_time": "2023-02-20T19:45:34.002Z"
   },
   {
    "duration": 103,
    "start_time": "2023-02-20T19:45:34.087Z"
   },
   {
    "duration": 4,
    "start_time": "2023-02-20T19:45:34.192Z"
   },
   {
    "duration": 31,
    "start_time": "2023-02-20T19:45:34.197Z"
   },
   {
    "duration": 38,
    "start_time": "2023-02-20T19:45:34.230Z"
   },
   {
    "duration": 461,
    "start_time": "2023-02-20T19:45:35.347Z"
   },
   {
    "duration": 66,
    "start_time": "2023-02-20T19:46:33.469Z"
   },
   {
    "duration": 153,
    "start_time": "2023-02-20T19:46:40.207Z"
   },
   {
    "duration": 145,
    "start_time": "2023-02-20T19:48:37.198Z"
   },
   {
    "duration": 164,
    "start_time": "2023-02-20T19:51:03.974Z"
   },
   {
    "duration": 151,
    "start_time": "2023-02-20T19:51:10.201Z"
   },
   {
    "duration": 140,
    "start_time": "2023-02-20T19:51:18.142Z"
   },
   {
    "duration": 235,
    "start_time": "2023-02-20T19:51:28.295Z"
   },
   {
    "duration": 20,
    "start_time": "2023-02-20T19:55:10.082Z"
   },
   {
    "duration": 18,
    "start_time": "2023-02-20T19:55:30.693Z"
   },
   {
    "duration": 19,
    "start_time": "2023-02-20T19:55:45.651Z"
   },
   {
    "duration": 1419,
    "start_time": "2023-02-21T04:53:51.573Z"
   },
   {
    "duration": 707,
    "start_time": "2023-02-21T04:53:52.994Z"
   },
   {
    "duration": 12,
    "start_time": "2023-02-21T04:53:53.702Z"
   },
   {
    "duration": 20,
    "start_time": "2023-02-21T04:53:53.717Z"
   },
   {
    "duration": 13,
    "start_time": "2023-02-21T04:53:53.739Z"
   },
   {
    "duration": 87,
    "start_time": "2023-02-21T04:53:53.754Z"
   },
   {
    "duration": 78,
    "start_time": "2023-02-21T04:53:53.843Z"
   },
   {
    "duration": 44,
    "start_time": "2023-02-21T04:53:53.924Z"
   },
   {
    "duration": 114,
    "start_time": "2023-02-21T04:53:53.970Z"
   },
   {
    "duration": 120,
    "start_time": "2023-02-21T04:53:54.087Z"
   },
   {
    "duration": 5,
    "start_time": "2023-02-21T04:53:54.209Z"
   },
   {
    "duration": 17,
    "start_time": "2023-02-21T04:53:54.215Z"
   },
   {
    "duration": 8,
    "start_time": "2023-02-21T04:53:54.235Z"
   },
   {
    "duration": 227,
    "start_time": "2023-02-21T04:53:54.245Z"
   },
   {
    "duration": 33,
    "start_time": "2023-02-21T04:53:54.474Z"
   },
   {
    "duration": 28,
    "start_time": "2023-02-21T04:53:54.508Z"
   },
   {
    "duration": 313,
    "start_time": "2023-02-21T04:53:54.538Z"
   },
   {
    "duration": 188,
    "start_time": "2023-02-21T04:53:54.853Z"
   },
   {
    "duration": 5,
    "start_time": "2023-02-21T04:53:55.042Z"
   },
   {
    "duration": 33,
    "start_time": "2023-02-21T04:53:55.048Z"
   },
   {
    "duration": 32,
    "start_time": "2023-02-21T04:53:55.082Z"
   },
   {
    "duration": 212,
    "start_time": "2023-02-21T04:53:55.115Z"
   },
   {
    "duration": 24,
    "start_time": "2023-02-21T04:53:55.329Z"
   },
   {
    "duration": 11,
    "start_time": "2023-02-21T04:53:55.355Z"
   },
   {
    "duration": 6,
    "start_time": "2023-02-21T04:53:55.368Z"
   },
   {
    "duration": 55,
    "start_time": "2023-02-21T04:53:55.376Z"
   },
   {
    "duration": 75,
    "start_time": "2023-02-21T04:53:55.434Z"
   },
   {
    "duration": 12,
    "start_time": "2023-02-21T04:53:55.514Z"
   },
   {
    "duration": 10,
    "start_time": "2023-02-21T04:53:55.528Z"
   },
   {
    "duration": 15,
    "start_time": "2023-02-21T04:53:55.539Z"
   },
   {
    "duration": 63,
    "start_time": "2023-02-21T04:53:55.556Z"
   },
   {
    "duration": 5,
    "start_time": "2023-02-21T04:53:55.620Z"
   },
   {
    "duration": 211,
    "start_time": "2023-02-21T04:53:55.626Z"
   },
   {
    "duration": 207,
    "start_time": "2023-02-21T04:53:55.838Z"
   },
   {
    "duration": 213,
    "start_time": "2023-02-21T04:53:56.047Z"
   },
   {
    "duration": 247,
    "start_time": "2023-02-21T04:53:56.261Z"
   }
  ],
  "kernelspec": {
   "display_name": "Python 3 (ipykernel)",
   "language": "python",
   "name": "python3"
  },
  "language_info": {
   "codemirror_mode": {
    "name": "ipython",
    "version": 3
   },
   "file_extension": ".py",
   "mimetype": "text/x-python",
   "name": "python",
   "nbconvert_exporter": "python",
   "pygments_lexer": "ipython3",
   "version": "3.9.13"
  },
  "toc": {
   "base_numbering": 1,
   "nav_menu": {},
   "number_sections": true,
   "sideBar": true,
   "skip_h1_title": true,
   "title_cell": "Содержание",
   "title_sidebar": "Contents",
   "toc_cell": true,
   "toc_position": {},
   "toc_section_display": true,
   "toc_window_display": false
  }
 },
 "nbformat": 4,
 "nbformat_minor": 2
}
