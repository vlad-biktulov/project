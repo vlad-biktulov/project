{
 "cells": [
  {
   "cell_type": "markdown",
   "metadata": {},
   "source": [
    "# Приоритизация гипотез и анализ A/B-теста"
   ]
  },
  {
   "cell_type": "markdown",
   "metadata": {},
   "source": [
    "# Введение\n",
    "\n",
    "**Цель:** Приоритизировать гипотезы и провести анализ результатов A/B-теста. \n",
    "\n",
    "**Задачи:** \n",
    "1. Приоритизировать гипотезы методами ICE и RICE\n",
    "2. Подготовить данные для анализа A/B теста\n",
    "3. Расчитать кумулятвные метрики по группам\n",
    "4. Определить аномальные заказ\n",
    "5. Расчитать статистическую значимость различий метрик по группам по 'сырым' и 'очищенным' данным"
   ]
  },
  {
   "cell_type": "markdown",
   "metadata": {
    "toc": true
   },
   "source": [
    "<h1>Оглавление<span class=\"tocSkip\"></span></h1>\n",
    "<div class=\"toc\"><ul class=\"toc-item\"><li><span><a href=\"#Знакомство-с-данными\" data-toc-modified-id=\"Знакомство-с-данными-1\"><span class=\"toc-item-num\">1&nbsp;&nbsp;</span>Знакомство с данными</a></span></li><li><span><a href=\"#Приоритизация-гипотез.\" data-toc-modified-id=\"Приоритизация-гипотез.-2\"><span class=\"toc-item-num\">2&nbsp;&nbsp;</span>Приоритизация гипотез.</a></span><ul class=\"toc-item\"><li><span><a href=\"#Приоритизация-ICE\" data-toc-modified-id=\"Приоритизация-ICE-2.1\"><span class=\"toc-item-num\">2.1&nbsp;&nbsp;</span>Приоритизация ICE</a></span></li><li><span><a href=\"#Приоритизация-RICE\" data-toc-modified-id=\"Приоритизация-RICE-2.2\"><span class=\"toc-item-num\">2.2&nbsp;&nbsp;</span>Приоритизация RICE</a></span></li><li><span><a href=\"#Вывод\" data-toc-modified-id=\"Вывод-2.3\"><span class=\"toc-item-num\">2.3&nbsp;&nbsp;</span>Вывод</a></span></li></ul></li><li><span><a href=\"#Анализ-A/B-теста\" data-toc-modified-id=\"Анализ-A/B-теста-3\"><span class=\"toc-item-num\">3&nbsp;&nbsp;</span>Анализ A/B-теста</a></span><ul class=\"toc-item\"><li><span><a href=\"#Подготовка-данных\" data-toc-modified-id=\"Подготовка-данных-3.1\"><span class=\"toc-item-num\">3.1&nbsp;&nbsp;</span>Подготовка данных</a></span><ul class=\"toc-item\"><li><span><a href=\"#Заказы\" data-toc-modified-id=\"Заказы-3.1.1\"><span class=\"toc-item-num\">3.1.1&nbsp;&nbsp;</span>Заказы</a></span></li><li><span><a href=\"#Визиты\" data-toc-modified-id=\"Визиты-3.1.2\"><span class=\"toc-item-num\">3.1.2&nbsp;&nbsp;</span>Визиты</a></span></li><li><span><a href=\"#Вывод\" data-toc-modified-id=\"Вывод-3.1.3\"><span class=\"toc-item-num\">3.1.3&nbsp;&nbsp;</span>Вывод</a></span></li></ul></li><li><span><a href=\"#Расчет-кумулятивной-выручки-по-группам\" data-toc-modified-id=\"Расчет-кумулятивной-выручки-по-группам-3.2\"><span class=\"toc-item-num\">3.2&nbsp;&nbsp;</span>Расчет кумулятивной выручки по группам</a></span><ul class=\"toc-item\"><li><span><a href=\"#Вывод\" data-toc-modified-id=\"Вывод-3.2.1\"><span class=\"toc-item-num\">3.2.1&nbsp;&nbsp;</span>Вывод</a></span></li></ul></li><li><span><a href=\"#Расчет-кумулятивного-среднего-чека-по-группам\" data-toc-modified-id=\"Расчет-кумулятивного-среднего-чека-по-группам-3.3\"><span class=\"toc-item-num\">3.3&nbsp;&nbsp;</span>Расчет кумулятивного среднего чека по группам</a></span><ul class=\"toc-item\"><li><span><a href=\"#Вывод\" data-toc-modified-id=\"Вывод-3.3.1\"><span class=\"toc-item-num\">3.3.1&nbsp;&nbsp;</span>Вывод</a></span></li></ul></li><li><span><a href=\"#Расчет-относительного-изменения-кумулятивного-среднего-чека-группы-B-к-группе-A\" data-toc-modified-id=\"Расчет-относительного-изменения-кумулятивного-среднего-чека-группы-B-к-группе-A-3.4\"><span class=\"toc-item-num\">3.4&nbsp;&nbsp;</span>Расчет относительного изменения кумулятивного среднего чека группы B к группе A</a></span><ul class=\"toc-item\"><li><span><a href=\"#Вывод\" data-toc-modified-id=\"Вывод-3.4.1\"><span class=\"toc-item-num\">3.4.1&nbsp;&nbsp;</span>Вывод</a></span></li></ul></li><li><span><a href=\"#Расчет-кумулятивного-среднего-количества-заказов-на-посетителя-по-группам\" data-toc-modified-id=\"Расчет-кумулятивного-среднего-количества-заказов-на-посетителя-по-группам-3.5\"><span class=\"toc-item-num\">3.5&nbsp;&nbsp;</span>Расчет кумулятивного среднего количества заказов на посетителя по группам</a></span><ul class=\"toc-item\"><li><span><a href=\"#Вывод\" data-toc-modified-id=\"Вывод-3.5.1\"><span class=\"toc-item-num\">3.5.1&nbsp;&nbsp;</span>Вывод</a></span></li></ul></li><li><span><a href=\"#Расчет-относительного-изменения-кумулятивного-среднего-количества-заказов-на-посетителя-группы-B-к-группе-A\" data-toc-modified-id=\"Расчет-относительного-изменения-кумулятивного-среднего-количества-заказов-на-посетителя-группы-B-к-группе-A-3.6\"><span class=\"toc-item-num\">3.6&nbsp;&nbsp;</span>Расчет относительного изменения кумулятивного среднего количества заказов на посетителя группы B к группе A</a></span><ul class=\"toc-item\"><li><span><a href=\"#Вывод\" data-toc-modified-id=\"Вывод-3.6.1\"><span class=\"toc-item-num\">3.6.1&nbsp;&nbsp;</span>Вывод</a></span></li></ul></li><li><span><a href=\"#Расчет-количества-заказов-по-пользователям\" data-toc-modified-id=\"Расчет-количества-заказов-по-пользователям-3.7\"><span class=\"toc-item-num\">3.7&nbsp;&nbsp;</span>Расчет количества заказов по пользователям</a></span><ul class=\"toc-item\"><li><span><a href=\"#Вывод\" data-toc-modified-id=\"Вывод-3.7.1\"><span class=\"toc-item-num\">3.7.1&nbsp;&nbsp;</span>Вывод</a></span></li></ul></li><li><span><a href=\"#Расчет-95-й-и-99-й-перцентили-количества-заказов-на-пользователя\" data-toc-modified-id=\"Расчет-95-й-и-99-й-перцентили-количества-заказов-на-пользователя-3.8\"><span class=\"toc-item-num\">3.8&nbsp;&nbsp;</span>Расчет 95-й и 99-й перцентили количества заказов на пользователя</a></span><ul class=\"toc-item\"><li><span><a href=\"#Вывод\" data-toc-modified-id=\"Вывод-3.8.1\"><span class=\"toc-item-num\">3.8.1&nbsp;&nbsp;</span>Вывод</a></span></li></ul></li><li><span><a href=\"#Расчет-стоимостей-заказов\" data-toc-modified-id=\"Расчет-стоимостей-заказов-3.9\"><span class=\"toc-item-num\">3.9&nbsp;&nbsp;</span>Расчет стоимостей заказов</a></span><ul class=\"toc-item\"><li><span><a href=\"#Вывод\" data-toc-modified-id=\"Вывод-3.9.1\"><span class=\"toc-item-num\">3.9.1&nbsp;&nbsp;</span>Вывод</a></span></li></ul></li><li><span><a href=\"#Расчет-95-й-и-99-й-перцентили-стоимости-заказа\" data-toc-modified-id=\"Расчет-95-й-и-99-й-перцентили-стоимости-заказа-3.10\"><span class=\"toc-item-num\">3.10&nbsp;&nbsp;</span>Расчет 95-й и 99-й перцентили стоимости заказа</a></span><ul class=\"toc-item\"><li><span><a href=\"#Вывод\" data-toc-modified-id=\"Вывод-3.10.1\"><span class=\"toc-item-num\">3.10.1&nbsp;&nbsp;</span>Вывод</a></span></li></ul></li><li><span><a href=\"#Расчет-статистической-значимости-различий-в-среднем-количестве-заказов-на-посетителя-между-группами\" data-toc-modified-id=\"Расчет-статистической-значимости-различий-в-среднем-количестве-заказов-на-посетителя-между-группами-3.11\"><span class=\"toc-item-num\">3.11&nbsp;&nbsp;</span>Расчет статистической значимости различий в среднем количестве заказов на посетителя между группами</a></span><ul class=\"toc-item\"><li><span><a href=\"#Вывод\" data-toc-modified-id=\"Вывод-3.11.1\"><span class=\"toc-item-num\">3.11.1&nbsp;&nbsp;</span>Вывод</a></span></li></ul></li><li><span><a href=\"#Расчет-статистической-значимости-различий-в-среднем-чеке-заказа-между-группами\" data-toc-modified-id=\"Расчет-статистической-значимости-различий-в-среднем-чеке-заказа-между-группами-3.12\"><span class=\"toc-item-num\">3.12&nbsp;&nbsp;</span>Расчет статистической значимости различий в среднем чеке заказа между группами</a></span><ul class=\"toc-item\"><li><span><a href=\"#Вывод\" data-toc-modified-id=\"Вывод-3.12.1\"><span class=\"toc-item-num\">3.12.1&nbsp;&nbsp;</span>Вывод</a></span></li></ul></li><li><span><a href=\"#Расчет-статистической-значимости-различий-в-среднем-количестве-заказов-на-посетителя-между-группами-по-«очищенным»-данным\" data-toc-modified-id=\"Расчет-статистической-значимости-различий-в-среднем-количестве-заказов-на-посетителя-между-группами-по-«очищенным»-данным-3.13\"><span class=\"toc-item-num\">3.13&nbsp;&nbsp;</span>Расчет статистической значимости различий в среднем количестве заказов на посетителя между группами по «очищенным» данным</a></span><ul class=\"toc-item\"><li><span><a href=\"#Вывод\" data-toc-modified-id=\"Вывод-3.13.1\"><span class=\"toc-item-num\">3.13.1&nbsp;&nbsp;</span>Вывод</a></span></li></ul></li><li><span><a href=\"#Расчет-статистической-значимости-различий-в-среднем-чеке-заказа-между-группами-по-«очищенным»-данным.\" data-toc-modified-id=\"Расчет-статистической-значимости-различий-в-среднем-чеке-заказа-между-группами-по-«очищенным»-данным.-3.14\"><span class=\"toc-item-num\">3.14&nbsp;&nbsp;</span>Расчет статистической значимости различий в среднем чеке заказа между группами по «очищенным» данным.</a></span><ul class=\"toc-item\"><li><span><a href=\"#Вывод\" data-toc-modified-id=\"Вывод-3.14.1\"><span class=\"toc-item-num\">3.14.1&nbsp;&nbsp;</span>Вывод</a></span></li></ul></li></ul></li><li><span><a href=\"#Вывод\" data-toc-modified-id=\"Вывод-4\"><span class=\"toc-item-num\">4&nbsp;&nbsp;</span>Вывод</a></span></li></ul></div>"
   ]
  },
  {
   "cell_type": "markdown",
   "metadata": {},
   "source": [
    "## Знакомство с данными"
   ]
  },
  {
   "cell_type": "code",
   "execution_count": 15,
   "metadata": {},
   "outputs": [],
   "source": [
    "import pandas as pd\n",
    "import scipy.stats as stats\n",
    "import datetime as dt\n",
    "import numpy as np\n",
    "import matplotlib.pyplot as plt\n",
    "import scipy.stats as stats"
   ]
  },
  {
   "cell_type": "code",
   "execution_count": 16,
   "metadata": {},
   "outputs": [
    {
     "data": {
      "text/html": [
       "<div>\n",
       "<style scoped>\n",
       "    .dataframe tbody tr th:only-of-type {\n",
       "        vertical-align: middle;\n",
       "    }\n",
       "\n",
       "    .dataframe tbody tr th {\n",
       "        vertical-align: top;\n",
       "    }\n",
       "\n",
       "    .dataframe thead th {\n",
       "        text-align: right;\n",
       "    }\n",
       "</style>\n",
       "<table border=\"1\" class=\"dataframe\">\n",
       "  <thead>\n",
       "    <tr style=\"text-align: right;\">\n",
       "      <th></th>\n",
       "      <th>Hypothesis</th>\n",
       "      <th>Reach</th>\n",
       "      <th>Impact</th>\n",
       "      <th>Confidence</th>\n",
       "      <th>Efforts</th>\n",
       "    </tr>\n",
       "  </thead>\n",
       "  <tbody>\n",
       "    <tr>\n",
       "      <th>0</th>\n",
       "      <td>Добавить два новых канала привлечения трафика, что позволит привлекать на 30% больше пользователей</td>\n",
       "      <td>3</td>\n",
       "      <td>10</td>\n",
       "      <td>8</td>\n",
       "      <td>6</td>\n",
       "    </tr>\n",
       "    <tr>\n",
       "      <th>1</th>\n",
       "      <td>Запустить собственную службу доставки, что сократит срок доставки заказов</td>\n",
       "      <td>2</td>\n",
       "      <td>5</td>\n",
       "      <td>4</td>\n",
       "      <td>10</td>\n",
       "    </tr>\n",
       "    <tr>\n",
       "      <th>2</th>\n",
       "      <td>Добавить блоки рекомендаций товаров на сайт интернет магазина, чтобы повысить конверсию и средний чек заказа</td>\n",
       "      <td>8</td>\n",
       "      <td>3</td>\n",
       "      <td>7</td>\n",
       "      <td>3</td>\n",
       "    </tr>\n",
       "    <tr>\n",
       "      <th>3</th>\n",
       "      <td>Изменить структура категорий, что увеличит конверсию, т.к. пользователи быстрее найдут нужный товар</td>\n",
       "      <td>8</td>\n",
       "      <td>3</td>\n",
       "      <td>3</td>\n",
       "      <td>8</td>\n",
       "    </tr>\n",
       "    <tr>\n",
       "      <th>4</th>\n",
       "      <td>Изменить цвет фона главной страницы, чтобы увеличить вовлеченность пользователей</td>\n",
       "      <td>3</td>\n",
       "      <td>1</td>\n",
       "      <td>1</td>\n",
       "      <td>1</td>\n",
       "    </tr>\n",
       "    <tr>\n",
       "      <th>5</th>\n",
       "      <td>Добавить страницу отзывов клиентов о магазине, что позволит увеличить количество заказов</td>\n",
       "      <td>3</td>\n",
       "      <td>2</td>\n",
       "      <td>2</td>\n",
       "      <td>3</td>\n",
       "    </tr>\n",
       "    <tr>\n",
       "      <th>6</th>\n",
       "      <td>Показать на главной странице баннеры с актуальными акциями и распродажами, чтобы увеличить конверсию</td>\n",
       "      <td>5</td>\n",
       "      <td>3</td>\n",
       "      <td>8</td>\n",
       "      <td>3</td>\n",
       "    </tr>\n",
       "    <tr>\n",
       "      <th>7</th>\n",
       "      <td>Добавить форму подписки на все основные страницы, чтобы собрать базу клиентов для email-рассылок</td>\n",
       "      <td>10</td>\n",
       "      <td>7</td>\n",
       "      <td>8</td>\n",
       "      <td>5</td>\n",
       "    </tr>\n",
       "    <tr>\n",
       "      <th>8</th>\n",
       "      <td>Запустить акцию, дающую скидку на товар в день рождения</td>\n",
       "      <td>1</td>\n",
       "      <td>9</td>\n",
       "      <td>9</td>\n",
       "      <td>5</td>\n",
       "    </tr>\n",
       "  </tbody>\n",
       "</table>\n",
       "</div>"
      ],
      "text/plain": [
       "                                                                                                     Hypothesis  \\\n",
       "0  Добавить два новых канала привлечения трафика, что позволит привлекать на 30% больше пользователей             \n",
       "1  Запустить собственную службу доставки, что сократит срок доставки заказов                                      \n",
       "2  Добавить блоки рекомендаций товаров на сайт интернет магазина, чтобы повысить конверсию и средний чек заказа   \n",
       "3  Изменить структура категорий, что увеличит конверсию, т.к. пользователи быстрее найдут нужный товар            \n",
       "4  Изменить цвет фона главной страницы, чтобы увеличить вовлеченность пользователей                               \n",
       "5  Добавить страницу отзывов клиентов о магазине, что позволит увеличить количество заказов                       \n",
       "6  Показать на главной странице баннеры с актуальными акциями и распродажами, чтобы увеличить конверсию           \n",
       "7  Добавить форму подписки на все основные страницы, чтобы собрать базу клиентов для email-рассылок               \n",
       "8  Запустить акцию, дающую скидку на товар в день рождения                                                        \n",
       "\n",
       "   Reach  Impact  Confidence  Efforts  \n",
       "0  3      10      8           6        \n",
       "1  2      5       4           10       \n",
       "2  8      3       7           3        \n",
       "3  8      3       3           8        \n",
       "4  3      1       1           1        \n",
       "5  3      2       2           3        \n",
       "6  5      3       8           3        \n",
       "7  10     7       8           5        \n",
       "8  1      9       9           5        "
      ]
     },
     "execution_count": 16,
     "metadata": {},
     "output_type": "execute_result"
    }
   ],
   "source": [
    "data = pd.read_csv('/datasets/hypothesis.csv', sep=',')\n",
    "pd.set_option('display.max_colwidth', 0)\n",
    "data"
   ]
  },
  {
   "cell_type": "code",
   "execution_count": 17,
   "metadata": {
    "scrolled": true
   },
   "outputs": [],
   "source": [
    "#приведем названия столбцов к \"нормам\" кода\n",
    "data = data.rename(columns={\"Hypothesis\": \"hypothesis\", \"Reach\": \"reach\", \"Impact\": \"impact\", \"Confidence\": \"confidence\", \"Efforts\": \"efforts\"})"
   ]
  },
  {
   "cell_type": "code",
   "execution_count": 18,
   "metadata": {},
   "outputs": [
    {
     "name": "stdout",
     "output_type": "stream",
     "text": [
      "<class 'pandas.core.frame.DataFrame'>\n",
      "RangeIndex: 9 entries, 0 to 8\n",
      "Data columns (total 5 columns):\n",
      " #   Column      Non-Null Count  Dtype \n",
      "---  ------      --------------  ----- \n",
      " 0   hypothesis  9 non-null      object\n",
      " 1   reach       9 non-null      int64 \n",
      " 2   impact      9 non-null      int64 \n",
      " 3   confidence  9 non-null      int64 \n",
      " 4   efforts     9 non-null      int64 \n",
      "dtypes: int64(4), object(1)\n",
      "memory usage: 488.0+ bytes\n"
     ]
    }
   ],
   "source": [
    "data.info()"
   ]
  },
  {
   "cell_type": "markdown",
   "metadata": {},
   "source": [
    "## Приоритизация гипотез."
   ]
  },
  {
   "cell_type": "code",
   "execution_count": 19,
   "metadata": {},
   "outputs": [],
   "source": [
    "# добавим столбцы с рассчитанными показателям приоритизации по ICE и RICE\n",
    "data['ICE'] = (data['impact'] * data['confidence'] / data['efforts']).round(2)\n",
    "data['RICE'] = (data['reach'] * data['impact'] * data['confidence']) / data['efforts']\n"
   ]
  },
  {
   "cell_type": "markdown",
   "metadata": {},
   "source": [
    "### Приоритизация ICE"
   ]
  },
  {
   "cell_type": "code",
   "execution_count": 20,
   "metadata": {
    "scrolled": true
   },
   "outputs": [
    {
     "data": {
      "text/html": [
       "<div>\n",
       "<style scoped>\n",
       "    .dataframe tbody tr th:only-of-type {\n",
       "        vertical-align: middle;\n",
       "    }\n",
       "\n",
       "    .dataframe tbody tr th {\n",
       "        vertical-align: top;\n",
       "    }\n",
       "\n",
       "    .dataframe thead th {\n",
       "        text-align: right;\n",
       "    }\n",
       "</style>\n",
       "<table border=\"1\" class=\"dataframe\">\n",
       "  <thead>\n",
       "    <tr style=\"text-align: right;\">\n",
       "      <th></th>\n",
       "      <th>hypothesis</th>\n",
       "      <th>reach</th>\n",
       "      <th>impact</th>\n",
       "      <th>confidence</th>\n",
       "      <th>efforts</th>\n",
       "      <th>ICE</th>\n",
       "      <th>RICE</th>\n",
       "    </tr>\n",
       "  </thead>\n",
       "  <tbody>\n",
       "    <tr>\n",
       "      <th>0</th>\n",
       "      <td>Запустить акцию, дающую скидку на товар в день рождения</td>\n",
       "      <td>1</td>\n",
       "      <td>9</td>\n",
       "      <td>9</td>\n",
       "      <td>5</td>\n",
       "      <td>16.20</td>\n",
       "      <td>16.2</td>\n",
       "    </tr>\n",
       "    <tr>\n",
       "      <th>1</th>\n",
       "      <td>Добавить два новых канала привлечения трафика, что позволит привлекать на 30% больше пользователей</td>\n",
       "      <td>3</td>\n",
       "      <td>10</td>\n",
       "      <td>8</td>\n",
       "      <td>6</td>\n",
       "      <td>13.33</td>\n",
       "      <td>40.0</td>\n",
       "    </tr>\n",
       "    <tr>\n",
       "      <th>2</th>\n",
       "      <td>Добавить форму подписки на все основные страницы, чтобы собрать базу клиентов для email-рассылок</td>\n",
       "      <td>10</td>\n",
       "      <td>7</td>\n",
       "      <td>8</td>\n",
       "      <td>5</td>\n",
       "      <td>11.20</td>\n",
       "      <td>112.0</td>\n",
       "    </tr>\n",
       "    <tr>\n",
       "      <th>3</th>\n",
       "      <td>Показать на главной странице баннеры с актуальными акциями и распродажами, чтобы увеличить конверсию</td>\n",
       "      <td>5</td>\n",
       "      <td>3</td>\n",
       "      <td>8</td>\n",
       "      <td>3</td>\n",
       "      <td>8.00</td>\n",
       "      <td>40.0</td>\n",
       "    </tr>\n",
       "    <tr>\n",
       "      <th>4</th>\n",
       "      <td>Добавить блоки рекомендаций товаров на сайт интернет магазина, чтобы повысить конверсию и средний чек заказа</td>\n",
       "      <td>8</td>\n",
       "      <td>3</td>\n",
       "      <td>7</td>\n",
       "      <td>3</td>\n",
       "      <td>7.00</td>\n",
       "      <td>56.0</td>\n",
       "    </tr>\n",
       "    <tr>\n",
       "      <th>5</th>\n",
       "      <td>Запустить собственную службу доставки, что сократит срок доставки заказов</td>\n",
       "      <td>2</td>\n",
       "      <td>5</td>\n",
       "      <td>4</td>\n",
       "      <td>10</td>\n",
       "      <td>2.00</td>\n",
       "      <td>4.0</td>\n",
       "    </tr>\n",
       "    <tr>\n",
       "      <th>6</th>\n",
       "      <td>Добавить страницу отзывов клиентов о магазине, что позволит увеличить количество заказов</td>\n",
       "      <td>3</td>\n",
       "      <td>2</td>\n",
       "      <td>2</td>\n",
       "      <td>3</td>\n",
       "      <td>1.33</td>\n",
       "      <td>4.0</td>\n",
       "    </tr>\n",
       "    <tr>\n",
       "      <th>7</th>\n",
       "      <td>Изменить структура категорий, что увеличит конверсию, т.к. пользователи быстрее найдут нужный товар</td>\n",
       "      <td>8</td>\n",
       "      <td>3</td>\n",
       "      <td>3</td>\n",
       "      <td>8</td>\n",
       "      <td>1.12</td>\n",
       "      <td>9.0</td>\n",
       "    </tr>\n",
       "    <tr>\n",
       "      <th>8</th>\n",
       "      <td>Изменить цвет фона главной страницы, чтобы увеличить вовлеченность пользователей</td>\n",
       "      <td>3</td>\n",
       "      <td>1</td>\n",
       "      <td>1</td>\n",
       "      <td>1</td>\n",
       "      <td>1.00</td>\n",
       "      <td>3.0</td>\n",
       "    </tr>\n",
       "  </tbody>\n",
       "</table>\n",
       "</div>"
      ],
      "text/plain": [
       "                                                                                                     hypothesis  \\\n",
       "0  Запустить акцию, дающую скидку на товар в день рождения                                                        \n",
       "1  Добавить два новых канала привлечения трафика, что позволит привлекать на 30% больше пользователей             \n",
       "2  Добавить форму подписки на все основные страницы, чтобы собрать базу клиентов для email-рассылок               \n",
       "3  Показать на главной странице баннеры с актуальными акциями и распродажами, чтобы увеличить конверсию           \n",
       "4  Добавить блоки рекомендаций товаров на сайт интернет магазина, чтобы повысить конверсию и средний чек заказа   \n",
       "5  Запустить собственную службу доставки, что сократит срок доставки заказов                                      \n",
       "6  Добавить страницу отзывов клиентов о магазине, что позволит увеличить количество заказов                       \n",
       "7  Изменить структура категорий, что увеличит конверсию, т.к. пользователи быстрее найдут нужный товар            \n",
       "8  Изменить цвет фона главной страницы, чтобы увеличить вовлеченность пользователей                               \n",
       "\n",
       "   reach  impact  confidence  efforts    ICE   RICE  \n",
       "0  1      9       9           5        16.20  16.2   \n",
       "1  3      10      8           6        13.33  40.0   \n",
       "2  10     7       8           5        11.20  112.0  \n",
       "3  5      3       8           3        8.00   40.0   \n",
       "4  8      3       7           3        7.00   56.0   \n",
       "5  2      5       4           10       2.00   4.0    \n",
       "6  3      2       2           3        1.33   4.0    \n",
       "7  8      3       3           8        1.12   9.0    \n",
       "8  3      1       1           1        1.00   3.0    "
      ]
     },
     "execution_count": 20,
     "metadata": {},
     "output_type": "execute_result"
    }
   ],
   "source": [
    "data = data.sort_values(by = 'ICE', ascending = False).reset_index(drop = True)\n",
    "pd.set_option('display.max_colwidth', 0)\n",
    "data"
   ]
  },
  {
   "cell_type": "code",
   "execution_count": 21,
   "metadata": {},
   "outputs": [
    {
     "data": {
      "text/plain": [
       "'Запустить акцию, дающую скидку на товар в день рождения'"
      ]
     },
     "execution_count": 21,
     "metadata": {},
     "output_type": "execute_result"
    }
   ],
   "source": [
    "data['hypothesis'][0]"
   ]
  },
  {
   "cell_type": "markdown",
   "metadata": {},
   "source": [
    "\n",
    "***Вывод:***\n",
    "```\n",
    "\n",
    "Самая приоритетная задача: Запустить акцию, дающую скидку на товар в день рождения\n",
    "\n",
    "Наименьшая по приоритетности задача: Изменить цвет фона главной страницы, чтобы увеличить вовлеченность пользователей\n",
    "```"
   ]
  },
  {
   "cell_type": "markdown",
   "metadata": {},
   "source": [
    "### Приоритизация RICE"
   ]
  },
  {
   "cell_type": "code",
   "execution_count": 22,
   "metadata": {},
   "outputs": [
    {
     "data": {
      "text/html": [
       "<div>\n",
       "<style scoped>\n",
       "    .dataframe tbody tr th:only-of-type {\n",
       "        vertical-align: middle;\n",
       "    }\n",
       "\n",
       "    .dataframe tbody tr th {\n",
       "        vertical-align: top;\n",
       "    }\n",
       "\n",
       "    .dataframe thead th {\n",
       "        text-align: right;\n",
       "    }\n",
       "</style>\n",
       "<table border=\"1\" class=\"dataframe\">\n",
       "  <thead>\n",
       "    <tr style=\"text-align: right;\">\n",
       "      <th></th>\n",
       "      <th>hypothesis</th>\n",
       "      <th>reach</th>\n",
       "      <th>impact</th>\n",
       "      <th>confidence</th>\n",
       "      <th>efforts</th>\n",
       "      <th>ICE</th>\n",
       "      <th>RICE</th>\n",
       "    </tr>\n",
       "  </thead>\n",
       "  <tbody>\n",
       "    <tr>\n",
       "      <th>0</th>\n",
       "      <td>Добавить форму подписки на все основные страницы, чтобы собрать базу клиентов для email-рассылок</td>\n",
       "      <td>10</td>\n",
       "      <td>7</td>\n",
       "      <td>8</td>\n",
       "      <td>5</td>\n",
       "      <td>11.20</td>\n",
       "      <td>112.0</td>\n",
       "    </tr>\n",
       "    <tr>\n",
       "      <th>1</th>\n",
       "      <td>Добавить блоки рекомендаций товаров на сайт интернет магазина, чтобы повысить конверсию и средний чек заказа</td>\n",
       "      <td>8</td>\n",
       "      <td>3</td>\n",
       "      <td>7</td>\n",
       "      <td>3</td>\n",
       "      <td>7.00</td>\n",
       "      <td>56.0</td>\n",
       "    </tr>\n",
       "    <tr>\n",
       "      <th>2</th>\n",
       "      <td>Добавить два новых канала привлечения трафика, что позволит привлекать на 30% больше пользователей</td>\n",
       "      <td>3</td>\n",
       "      <td>10</td>\n",
       "      <td>8</td>\n",
       "      <td>6</td>\n",
       "      <td>13.33</td>\n",
       "      <td>40.0</td>\n",
       "    </tr>\n",
       "    <tr>\n",
       "      <th>3</th>\n",
       "      <td>Показать на главной странице баннеры с актуальными акциями и распродажами, чтобы увеличить конверсию</td>\n",
       "      <td>5</td>\n",
       "      <td>3</td>\n",
       "      <td>8</td>\n",
       "      <td>3</td>\n",
       "      <td>8.00</td>\n",
       "      <td>40.0</td>\n",
       "    </tr>\n",
       "    <tr>\n",
       "      <th>4</th>\n",
       "      <td>Запустить акцию, дающую скидку на товар в день рождения</td>\n",
       "      <td>1</td>\n",
       "      <td>9</td>\n",
       "      <td>9</td>\n",
       "      <td>5</td>\n",
       "      <td>16.20</td>\n",
       "      <td>16.2</td>\n",
       "    </tr>\n",
       "    <tr>\n",
       "      <th>5</th>\n",
       "      <td>Изменить структура категорий, что увеличит конверсию, т.к. пользователи быстрее найдут нужный товар</td>\n",
       "      <td>8</td>\n",
       "      <td>3</td>\n",
       "      <td>3</td>\n",
       "      <td>8</td>\n",
       "      <td>1.12</td>\n",
       "      <td>9.0</td>\n",
       "    </tr>\n",
       "    <tr>\n",
       "      <th>6</th>\n",
       "      <td>Запустить собственную службу доставки, что сократит срок доставки заказов</td>\n",
       "      <td>2</td>\n",
       "      <td>5</td>\n",
       "      <td>4</td>\n",
       "      <td>10</td>\n",
       "      <td>2.00</td>\n",
       "      <td>4.0</td>\n",
       "    </tr>\n",
       "    <tr>\n",
       "      <th>7</th>\n",
       "      <td>Добавить страницу отзывов клиентов о магазине, что позволит увеличить количество заказов</td>\n",
       "      <td>3</td>\n",
       "      <td>2</td>\n",
       "      <td>2</td>\n",
       "      <td>3</td>\n",
       "      <td>1.33</td>\n",
       "      <td>4.0</td>\n",
       "    </tr>\n",
       "    <tr>\n",
       "      <th>8</th>\n",
       "      <td>Изменить цвет фона главной страницы, чтобы увеличить вовлеченность пользователей</td>\n",
       "      <td>3</td>\n",
       "      <td>1</td>\n",
       "      <td>1</td>\n",
       "      <td>1</td>\n",
       "      <td>1.00</td>\n",
       "      <td>3.0</td>\n",
       "    </tr>\n",
       "  </tbody>\n",
       "</table>\n",
       "</div>"
      ],
      "text/plain": [
       "                                                                                                     hypothesis  \\\n",
       "0  Добавить форму подписки на все основные страницы, чтобы собрать базу клиентов для email-рассылок               \n",
       "1  Добавить блоки рекомендаций товаров на сайт интернет магазина, чтобы повысить конверсию и средний чек заказа   \n",
       "2  Добавить два новых канала привлечения трафика, что позволит привлекать на 30% больше пользователей             \n",
       "3  Показать на главной странице баннеры с актуальными акциями и распродажами, чтобы увеличить конверсию           \n",
       "4  Запустить акцию, дающую скидку на товар в день рождения                                                        \n",
       "5  Изменить структура категорий, что увеличит конверсию, т.к. пользователи быстрее найдут нужный товар            \n",
       "6  Запустить собственную службу доставки, что сократит срок доставки заказов                                      \n",
       "7  Добавить страницу отзывов клиентов о магазине, что позволит увеличить количество заказов                       \n",
       "8  Изменить цвет фона главной страницы, чтобы увеличить вовлеченность пользователей                               \n",
       "\n",
       "   reach  impact  confidence  efforts    ICE   RICE  \n",
       "0  10     7       8           5        11.20  112.0  \n",
       "1  8      3       7           3        7.00   56.0   \n",
       "2  3      10      8           6        13.33  40.0   \n",
       "3  5      3       8           3        8.00   40.0   \n",
       "4  1      9       9           5        16.20  16.2   \n",
       "5  8      3       3           8        1.12   9.0    \n",
       "6  2      5       4           10       2.00   4.0    \n",
       "7  3      2       2           3        1.33   4.0    \n",
       "8  3      1       1           1        1.00   3.0    "
      ]
     },
     "execution_count": 22,
     "metadata": {},
     "output_type": "execute_result"
    }
   ],
   "source": [
    "data = data.sort_values(by = 'RICE', ascending = False).reset_index(drop = True)\n",
    "pd.set_option('display.max_colwidth', 0)\n",
    "data"
   ]
  },
  {
   "cell_type": "code",
   "execution_count": 23,
   "metadata": {},
   "outputs": [
    {
     "data": {
      "text/plain": [
       "'Добавить форму подписки на все основные страницы, чтобы собрать базу клиентов для email-рассылок'"
      ]
     },
     "execution_count": 23,
     "metadata": {},
     "output_type": "execute_result"
    }
   ],
   "source": [
    "data['hypothesis'][0]"
   ]
  },
  {
   "cell_type": "markdown",
   "metadata": {},
   "source": [
    "\n",
    "***Вывод:***\n",
    "```\n",
    "Самая приоритетная задача: Добавить форму подписки на все основные страницы, чтобы собрать базу клиентов для email-рассылок\n",
    "\n",
    "Наименьшая по приоритетности задача: Изменить цвет фона главной страницы, чтобы увеличить вовлеченность пользователей\n",
    "```"
   ]
  },
  {
   "cell_type": "markdown",
   "metadata": {},
   "source": [
    "### Вывод"
   ]
  },
  {
   "cell_type": "markdown",
   "metadata": {},
   "source": [
    "С помощью приоритизации ICE выяснилось, что самая приоритетная задача - \"Запустить акцию, дающую скидку на товар в день рождения\", а по приоритизации RICE - \"Добавить форму подписки на все основные страницы, чтобы собрать базу клиентов для email-рассылок\". \n",
    "\n",
    "Наименьшая по приоритетности задача: \"Изменить цвет фона главной страницы, чтобы увеличить вовлеченность пользователей\" по обоим методам.\n",
    "\n",
    "Смену приоритизации можно объяснить тем, охват людей при выполнении задачи \"Запустить акцию, дающую скидку на товар в день рождения\" будет \"размазан\" на весь год, т.е. мы сможем вовлечь всех пользователей через год реализации фичи. А задача Добавить форму подписки на все основные страницы, чтобы собрать базу клиентов для email-рассылок\" влияет на всех пользователей сразу."
   ]
  },
  {
   "cell_type": "markdown",
   "metadata": {},
   "source": [
    "## Анализ A/B-теста"
   ]
  },
  {
   "cell_type": "markdown",
   "metadata": {},
   "source": [
    "### Подготовка данных"
   ]
  },
  {
   "cell_type": "markdown",
   "metadata": {},
   "source": [
    "#### Заказы"
   ]
  },
  {
   "cell_type": "code",
   "execution_count": 24,
   "metadata": {},
   "outputs": [
    {
     "data": {
      "text/html": [
       "<div>\n",
       "<style scoped>\n",
       "    .dataframe tbody tr th:only-of-type {\n",
       "        vertical-align: middle;\n",
       "    }\n",
       "\n",
       "    .dataframe tbody tr th {\n",
       "        vertical-align: top;\n",
       "    }\n",
       "\n",
       "    .dataframe thead th {\n",
       "        text-align: right;\n",
       "    }\n",
       "</style>\n",
       "<table border=\"1\" class=\"dataframe\">\n",
       "  <thead>\n",
       "    <tr style=\"text-align: right;\">\n",
       "      <th></th>\n",
       "      <th>transactionId</th>\n",
       "      <th>visitorId</th>\n",
       "      <th>date</th>\n",
       "      <th>revenue</th>\n",
       "      <th>group</th>\n",
       "    </tr>\n",
       "  </thead>\n",
       "  <tbody>\n",
       "    <tr>\n",
       "      <th>0</th>\n",
       "      <td>3667963787</td>\n",
       "      <td>3312258926</td>\n",
       "      <td>2019-08-15</td>\n",
       "      <td>1650</td>\n",
       "      <td>B</td>\n",
       "    </tr>\n",
       "    <tr>\n",
       "      <th>1</th>\n",
       "      <td>2804400009</td>\n",
       "      <td>3642806036</td>\n",
       "      <td>2019-08-15</td>\n",
       "      <td>730</td>\n",
       "      <td>B</td>\n",
       "    </tr>\n",
       "    <tr>\n",
       "      <th>2</th>\n",
       "      <td>2961555356</td>\n",
       "      <td>4069496402</td>\n",
       "      <td>2019-08-15</td>\n",
       "      <td>400</td>\n",
       "      <td>A</td>\n",
       "    </tr>\n",
       "    <tr>\n",
       "      <th>3</th>\n",
       "      <td>3797467345</td>\n",
       "      <td>1196621759</td>\n",
       "      <td>2019-08-15</td>\n",
       "      <td>9759</td>\n",
       "      <td>B</td>\n",
       "    </tr>\n",
       "    <tr>\n",
       "      <th>4</th>\n",
       "      <td>2282983706</td>\n",
       "      <td>2322279887</td>\n",
       "      <td>2019-08-15</td>\n",
       "      <td>2308</td>\n",
       "      <td>B</td>\n",
       "    </tr>\n",
       "    <tr>\n",
       "      <th>...</th>\n",
       "      <td>...</td>\n",
       "      <td>...</td>\n",
       "      <td>...</td>\n",
       "      <td>...</td>\n",
       "      <td>...</td>\n",
       "    </tr>\n",
       "    <tr>\n",
       "      <th>1192</th>\n",
       "      <td>2662137336</td>\n",
       "      <td>3733762160</td>\n",
       "      <td>2019-08-14</td>\n",
       "      <td>6490</td>\n",
       "      <td>B</td>\n",
       "    </tr>\n",
       "    <tr>\n",
       "      <th>1193</th>\n",
       "      <td>2203539145</td>\n",
       "      <td>370388673</td>\n",
       "      <td>2019-08-14</td>\n",
       "      <td>3190</td>\n",
       "      <td>A</td>\n",
       "    </tr>\n",
       "    <tr>\n",
       "      <th>1194</th>\n",
       "      <td>1807773912</td>\n",
       "      <td>573423106</td>\n",
       "      <td>2019-08-14</td>\n",
       "      <td>10550</td>\n",
       "      <td>A</td>\n",
       "    </tr>\n",
       "    <tr>\n",
       "      <th>1195</th>\n",
       "      <td>1947021204</td>\n",
       "      <td>1614305549</td>\n",
       "      <td>2019-08-14</td>\n",
       "      <td>100</td>\n",
       "      <td>A</td>\n",
       "    </tr>\n",
       "    <tr>\n",
       "      <th>1196</th>\n",
       "      <td>3936777065</td>\n",
       "      <td>2108080724</td>\n",
       "      <td>2019-08-15</td>\n",
       "      <td>202740</td>\n",
       "      <td>B</td>\n",
       "    </tr>\n",
       "  </tbody>\n",
       "</table>\n",
       "<p>1197 rows × 5 columns</p>\n",
       "</div>"
      ],
      "text/plain": [
       "      transactionId   visitorId        date  revenue group\n",
       "0     3667963787     3312258926  2019-08-15  1650     B   \n",
       "1     2804400009     3642806036  2019-08-15  730      B   \n",
       "2     2961555356     4069496402  2019-08-15  400      A   \n",
       "3     3797467345     1196621759  2019-08-15  9759     B   \n",
       "4     2282983706     2322279887  2019-08-15  2308     B   \n",
       "...          ...            ...         ...   ...    ..   \n",
       "1192  2662137336     3733762160  2019-08-14  6490     B   \n",
       "1193  2203539145     370388673   2019-08-14  3190     A   \n",
       "1194  1807773912     573423106   2019-08-14  10550    A   \n",
       "1195  1947021204     1614305549  2019-08-14  100      A   \n",
       "1196  3936777065     2108080724  2019-08-15  202740   B   \n",
       "\n",
       "[1197 rows x 5 columns]"
      ]
     },
     "execution_count": 24,
     "metadata": {},
     "output_type": "execute_result"
    }
   ],
   "source": [
    "orders = pd.read_csv('/datasets/orders.csv')\n",
    "orders"
   ]
  },
  {
   "cell_type": "code",
   "execution_count": 25,
   "metadata": {
    "scrolled": true
   },
   "outputs": [
    {
     "name": "stdout",
     "output_type": "stream",
     "text": [
      "<class 'pandas.core.frame.DataFrame'>\n",
      "RangeIndex: 1197 entries, 0 to 1196\n",
      "Data columns (total 5 columns):\n",
      " #   Column         Non-Null Count  Dtype \n",
      "---  ------         --------------  ----- \n",
      " 0   transactionId  1197 non-null   int64 \n",
      " 1   visitorId      1197 non-null   int64 \n",
      " 2   date           1197 non-null   object\n",
      " 3   revenue        1197 non-null   int64 \n",
      " 4   group          1197 non-null   object\n",
      "dtypes: int64(3), object(2)\n",
      "memory usage: 46.9+ KB\n"
     ]
    }
   ],
   "source": [
    "orders.info()"
   ]
  },
  {
   "cell_type": "code",
   "execution_count": 26,
   "metadata": {},
   "outputs": [],
   "source": [
    "orders = orders.rename(columns = {'transactionId':'transaction_id', 'visitorId':'visitor_id'})\n",
    "orders['date'] = pd.to_datetime(orders['date'])"
   ]
  },
  {
   "cell_type": "code",
   "execution_count": 27,
   "metadata": {
    "scrolled": true
   },
   "outputs": [
    {
     "data": {
      "text/html": [
       "<div>\n",
       "<style scoped>\n",
       "    .dataframe tbody tr th:only-of-type {\n",
       "        vertical-align: middle;\n",
       "    }\n",
       "\n",
       "    .dataframe tbody tr th {\n",
       "        vertical-align: top;\n",
       "    }\n",
       "\n",
       "    .dataframe thead th {\n",
       "        text-align: right;\n",
       "    }\n",
       "</style>\n",
       "<table border=\"1\" class=\"dataframe\">\n",
       "  <thead>\n",
       "    <tr style=\"text-align: right;\">\n",
       "      <th></th>\n",
       "      <th>group</th>\n",
       "      <th>visitor_id</th>\n",
       "    </tr>\n",
       "  </thead>\n",
       "  <tbody>\n",
       "    <tr>\n",
       "      <th>0</th>\n",
       "      <td>A</td>\n",
       "      <td>503</td>\n",
       "    </tr>\n",
       "    <tr>\n",
       "      <th>1</th>\n",
       "      <td>B</td>\n",
       "      <td>586</td>\n",
       "    </tr>\n",
       "  </tbody>\n",
       "</table>\n",
       "</div>"
      ],
      "text/plain": [
       "  group  visitor_id\n",
       "0  A     503       \n",
       "1  B     586       "
      ]
     },
     "execution_count": 27,
     "metadata": {},
     "output_type": "execute_result"
    }
   ],
   "source": [
    "#расчитаем, сколько пользователей попало в каждую группу\n",
    "count_orders_group = orders.groupby(by = 'group', as_index = False).agg({\"visitor_id\":'nunique'})                                                         \n",
    "count_orders_group"
   ]
  },
  {
   "cell_type": "code",
   "execution_count": 28,
   "metadata": {},
   "outputs": [
    {
     "data": {
      "text/html": [
       "<div>\n",
       "<style scoped>\n",
       "    .dataframe tbody tr th:only-of-type {\n",
       "        vertical-align: middle;\n",
       "    }\n",
       "\n",
       "    .dataframe tbody tr th {\n",
       "        vertical-align: top;\n",
       "    }\n",
       "\n",
       "    .dataframe thead th {\n",
       "        text-align: right;\n",
       "    }\n",
       "</style>\n",
       "<table border=\"1\" class=\"dataframe\">\n",
       "  <thead>\n",
       "    <tr style=\"text-align: right;\">\n",
       "      <th></th>\n",
       "      <th>visitor_id</th>\n",
       "      <th>group</th>\n",
       "    </tr>\n",
       "  </thead>\n",
       "  <tbody>\n",
       "    <tr>\n",
       "      <th>639</th>\n",
       "      <td>2654030115</td>\n",
       "      <td>2</td>\n",
       "    </tr>\n",
       "    <tr>\n",
       "      <th>932</th>\n",
       "      <td>3891541246</td>\n",
       "      <td>2</td>\n",
       "    </tr>\n",
       "    <tr>\n",
       "      <th>950</th>\n",
       "      <td>3941795274</td>\n",
       "      <td>2</td>\n",
       "    </tr>\n",
       "    <tr>\n",
       "      <th>340</th>\n",
       "      <td>1404934699</td>\n",
       "      <td>2</td>\n",
       "    </tr>\n",
       "    <tr>\n",
       "      <th>84</th>\n",
       "      <td>351125977</td>\n",
       "      <td>2</td>\n",
       "    </tr>\n",
       "    <tr>\n",
       "      <th>...</th>\n",
       "      <td>...</td>\n",
       "      <td>...</td>\n",
       "    </tr>\n",
       "    <tr>\n",
       "      <th>357</th>\n",
       "      <td>1476256851</td>\n",
       "      <td>1</td>\n",
       "    </tr>\n",
       "    <tr>\n",
       "      <th>358</th>\n",
       "      <td>1476741193</td>\n",
       "      <td>1</td>\n",
       "    </tr>\n",
       "    <tr>\n",
       "      <th>359</th>\n",
       "      <td>1484903144</td>\n",
       "      <td>1</td>\n",
       "    </tr>\n",
       "    <tr>\n",
       "      <th>360</th>\n",
       "      <td>1485964287</td>\n",
       "      <td>1</td>\n",
       "    </tr>\n",
       "    <tr>\n",
       "      <th>1030</th>\n",
       "      <td>4283872382</td>\n",
       "      <td>1</td>\n",
       "    </tr>\n",
       "  </tbody>\n",
       "</table>\n",
       "<p>1031 rows × 2 columns</p>\n",
       "</div>"
      ],
      "text/plain": [
       "      visitor_id  group\n",
       "639   2654030115  2    \n",
       "932   3891541246  2    \n",
       "950   3941795274  2    \n",
       "340   1404934699  2    \n",
       "84    351125977   2    \n",
       "...         ...  ..    \n",
       "357   1476256851  1    \n",
       "358   1476741193  1    \n",
       "359   1484903144  1    \n",
       "360   1485964287  1    \n",
       "1030  4283872382  1    \n",
       "\n",
       "[1031 rows x 2 columns]"
      ]
     },
     "execution_count": 28,
     "metadata": {},
     "output_type": "execute_result"
    }
   ],
   "source": [
    "#поищем пользователей, которые попали в две группы одновременно\n",
    "visitors_in_2group = orders.groupby(by = 'visitor_id', as_index = False).agg({\"group\":'nunique'}).sort_values('group', ascending = False)                                                   \n",
    "visitors_in_2group"
   ]
  },
  {
   "cell_type": "code",
   "execution_count": 29,
   "metadata": {
    "scrolled": true
   },
   "outputs": [
    {
     "data": {
      "text/html": [
       "<div>\n",
       "<style scoped>\n",
       "    .dataframe tbody tr th:only-of-type {\n",
       "        vertical-align: middle;\n",
       "    }\n",
       "\n",
       "    .dataframe tbody tr th {\n",
       "        vertical-align: top;\n",
       "    }\n",
       "\n",
       "    .dataframe thead th {\n",
       "        text-align: right;\n",
       "    }\n",
       "</style>\n",
       "<table border=\"1\" class=\"dataframe\">\n",
       "  <thead>\n",
       "    <tr style=\"text-align: right;\">\n",
       "      <th></th>\n",
       "      <th>transaction_id</th>\n",
       "      <th>visitor_id</th>\n",
       "      <th>date</th>\n",
       "      <th>revenue</th>\n",
       "      <th>group_x</th>\n",
       "      <th>group_y</th>\n",
       "    </tr>\n",
       "  </thead>\n",
       "  <tbody>\n",
       "    <tr>\n",
       "      <th>0</th>\n",
       "      <td>3667963787</td>\n",
       "      <td>3312258926</td>\n",
       "      <td>2019-08-15</td>\n",
       "      <td>1650</td>\n",
       "      <td>B</td>\n",
       "      <td>1</td>\n",
       "    </tr>\n",
       "    <tr>\n",
       "      <th>1</th>\n",
       "      <td>2804400009</td>\n",
       "      <td>3642806036</td>\n",
       "      <td>2019-08-15</td>\n",
       "      <td>730</td>\n",
       "      <td>B</td>\n",
       "      <td>1</td>\n",
       "    </tr>\n",
       "    <tr>\n",
       "      <th>2</th>\n",
       "      <td>2961555356</td>\n",
       "      <td>4069496402</td>\n",
       "      <td>2019-08-15</td>\n",
       "      <td>400</td>\n",
       "      <td>A</td>\n",
       "      <td>2</td>\n",
       "    </tr>\n",
       "    <tr>\n",
       "      <th>3</th>\n",
       "      <td>1473132782</td>\n",
       "      <td>4069496402</td>\n",
       "      <td>2019-08-12</td>\n",
       "      <td>640</td>\n",
       "      <td>B</td>\n",
       "      <td>2</td>\n",
       "    </tr>\n",
       "    <tr>\n",
       "      <th>4</th>\n",
       "      <td>3797467345</td>\n",
       "      <td>1196621759</td>\n",
       "      <td>2019-08-15</td>\n",
       "      <td>9759</td>\n",
       "      <td>B</td>\n",
       "      <td>1</td>\n",
       "    </tr>\n",
       "    <tr>\n",
       "      <th>...</th>\n",
       "      <td>...</td>\n",
       "      <td>...</td>\n",
       "      <td>...</td>\n",
       "      <td>...</td>\n",
       "      <td>...</td>\n",
       "      <td>...</td>\n",
       "    </tr>\n",
       "    <tr>\n",
       "      <th>1192</th>\n",
       "      <td>3592955527</td>\n",
       "      <td>608641596</td>\n",
       "      <td>2019-08-14</td>\n",
       "      <td>16490</td>\n",
       "      <td>B</td>\n",
       "      <td>1</td>\n",
       "    </tr>\n",
       "    <tr>\n",
       "      <th>1193</th>\n",
       "      <td>2662137336</td>\n",
       "      <td>3733762160</td>\n",
       "      <td>2019-08-14</td>\n",
       "      <td>6490</td>\n",
       "      <td>B</td>\n",
       "      <td>1</td>\n",
       "    </tr>\n",
       "    <tr>\n",
       "      <th>1194</th>\n",
       "      <td>2203539145</td>\n",
       "      <td>370388673</td>\n",
       "      <td>2019-08-14</td>\n",
       "      <td>3190</td>\n",
       "      <td>A</td>\n",
       "      <td>1</td>\n",
       "    </tr>\n",
       "    <tr>\n",
       "      <th>1195</th>\n",
       "      <td>1807773912</td>\n",
       "      <td>573423106</td>\n",
       "      <td>2019-08-14</td>\n",
       "      <td>10550</td>\n",
       "      <td>A</td>\n",
       "      <td>1</td>\n",
       "    </tr>\n",
       "    <tr>\n",
       "      <th>1196</th>\n",
       "      <td>3936777065</td>\n",
       "      <td>2108080724</td>\n",
       "      <td>2019-08-15</td>\n",
       "      <td>202740</td>\n",
       "      <td>B</td>\n",
       "      <td>1</td>\n",
       "    </tr>\n",
       "  </tbody>\n",
       "</table>\n",
       "<p>1197 rows × 6 columns</p>\n",
       "</div>"
      ],
      "text/plain": [
       "      transaction_id  visitor_id       date  revenue group_x  group_y\n",
       "0     3667963787      3312258926 2019-08-15  1650     B       1      \n",
       "1     2804400009      3642806036 2019-08-15  730      B       1      \n",
       "2     2961555356      4069496402 2019-08-15  400      A       2      \n",
       "3     1473132782      4069496402 2019-08-12  640      B       2      \n",
       "4     3797467345      1196621759 2019-08-15  9759     B       1      \n",
       "...          ...             ...        ...   ...    ..      ..      \n",
       "1192  3592955527      608641596  2019-08-14  16490    B       1      \n",
       "1193  2662137336      3733762160 2019-08-14  6490     B       1      \n",
       "1194  2203539145      370388673  2019-08-14  3190     A       1      \n",
       "1195  1807773912      573423106  2019-08-14  10550    A       1      \n",
       "1196  3936777065      2108080724 2019-08-15  202740   B       1      \n",
       "\n",
       "[1197 rows x 6 columns]"
      ]
     },
     "execution_count": 29,
     "metadata": {},
     "output_type": "execute_result"
    }
   ],
   "source": [
    "#очистим пользователей, который попали в 2 группы\n",
    "orders = orders.merge(visitors_in_2group, on = 'visitor_id')\n",
    "orders"
   ]
  },
  {
   "cell_type": "code",
   "execution_count": 30,
   "metadata": {
    "scrolled": true
   },
   "outputs": [
    {
     "data": {
      "text/plain": [
       "(1016, 6)"
      ]
     },
     "execution_count": 30,
     "metadata": {},
     "output_type": "execute_result"
    }
   ],
   "source": [
    "orders = orders[orders['group_y'] == 1]\n",
    "orders = orders.rename(columns = {'group_x':'group'})\n",
    "orders.shape"
   ]
  },
  {
   "cell_type": "code",
   "execution_count": 58,
   "metadata": {},
   "outputs": [
    {
     "data": {
      "text/html": [
       "<div>\n",
       "<style scoped>\n",
       "    .dataframe tbody tr th:only-of-type {\n",
       "        vertical-align: middle;\n",
       "    }\n",
       "\n",
       "    .dataframe tbody tr th {\n",
       "        vertical-align: top;\n",
       "    }\n",
       "\n",
       "    .dataframe thead th {\n",
       "        text-align: right;\n",
       "    }\n",
       "</style>\n",
       "<table border=\"1\" class=\"dataframe\">\n",
       "  <thead>\n",
       "    <tr style=\"text-align: right;\">\n",
       "      <th></th>\n",
       "      <th>transaction_id</th>\n",
       "      <th>visitor_id</th>\n",
       "      <th>date</th>\n",
       "      <th>revenue</th>\n",
       "      <th>group</th>\n",
       "    </tr>\n",
       "  </thead>\n",
       "  <tbody>\n",
       "    <tr>\n",
       "      <th>0</th>\n",
       "      <td>3667963787</td>\n",
       "      <td>3312258926</td>\n",
       "      <td>2019-08-15</td>\n",
       "      <td>1650</td>\n",
       "      <td>B</td>\n",
       "    </tr>\n",
       "    <tr>\n",
       "      <th>1</th>\n",
       "      <td>2804400009</td>\n",
       "      <td>3642806036</td>\n",
       "      <td>2019-08-15</td>\n",
       "      <td>730</td>\n",
       "      <td>B</td>\n",
       "    </tr>\n",
       "    <tr>\n",
       "      <th>4</th>\n",
       "      <td>3797467345</td>\n",
       "      <td>1196621759</td>\n",
       "      <td>2019-08-15</td>\n",
       "      <td>9759</td>\n",
       "      <td>B</td>\n",
       "    </tr>\n",
       "    <tr>\n",
       "      <th>5</th>\n",
       "      <td>2282983706</td>\n",
       "      <td>2322279887</td>\n",
       "      <td>2019-08-15</td>\n",
       "      <td>2308</td>\n",
       "      <td>B</td>\n",
       "    </tr>\n",
       "    <tr>\n",
       "      <th>6</th>\n",
       "      <td>182168103</td>\n",
       "      <td>935554773</td>\n",
       "      <td>2019-08-15</td>\n",
       "      <td>2210</td>\n",
       "      <td>B</td>\n",
       "    </tr>\n",
       "    <tr>\n",
       "      <th>...</th>\n",
       "      <td>...</td>\n",
       "      <td>...</td>\n",
       "      <td>...</td>\n",
       "      <td>...</td>\n",
       "      <td>...</td>\n",
       "    </tr>\n",
       "    <tr>\n",
       "      <th>1192</th>\n",
       "      <td>3592955527</td>\n",
       "      <td>608641596</td>\n",
       "      <td>2019-08-14</td>\n",
       "      <td>16490</td>\n",
       "      <td>B</td>\n",
       "    </tr>\n",
       "    <tr>\n",
       "      <th>1193</th>\n",
       "      <td>2662137336</td>\n",
       "      <td>3733762160</td>\n",
       "      <td>2019-08-14</td>\n",
       "      <td>6490</td>\n",
       "      <td>B</td>\n",
       "    </tr>\n",
       "    <tr>\n",
       "      <th>1194</th>\n",
       "      <td>2203539145</td>\n",
       "      <td>370388673</td>\n",
       "      <td>2019-08-14</td>\n",
       "      <td>3190</td>\n",
       "      <td>A</td>\n",
       "    </tr>\n",
       "    <tr>\n",
       "      <th>1195</th>\n",
       "      <td>1807773912</td>\n",
       "      <td>573423106</td>\n",
       "      <td>2019-08-14</td>\n",
       "      <td>10550</td>\n",
       "      <td>A</td>\n",
       "    </tr>\n",
       "    <tr>\n",
       "      <th>1196</th>\n",
       "      <td>3936777065</td>\n",
       "      <td>2108080724</td>\n",
       "      <td>2019-08-15</td>\n",
       "      <td>202740</td>\n",
       "      <td>B</td>\n",
       "    </tr>\n",
       "  </tbody>\n",
       "</table>\n",
       "<p>1016 rows × 5 columns</p>\n",
       "</div>"
      ],
      "text/plain": [
       "      transaction_id  visitor_id       date  revenue group\n",
       "0     3667963787      3312258926 2019-08-15  1650     B   \n",
       "1     2804400009      3642806036 2019-08-15  730      B   \n",
       "4     3797467345      1196621759 2019-08-15  9759     B   \n",
       "5     2282983706      2322279887 2019-08-15  2308     B   \n",
       "6     182168103       935554773  2019-08-15  2210     B   \n",
       "...         ...             ...         ...   ...    ..   \n",
       "1192  3592955527      608641596  2019-08-14  16490    B   \n",
       "1193  2662137336      3733762160 2019-08-14  6490     B   \n",
       "1194  2203539145      370388673  2019-08-14  3190     A   \n",
       "1195  1807773912      573423106  2019-08-14  10550    A   \n",
       "1196  3936777065      2108080724 2019-08-15  202740   B   \n",
       "\n",
       "[1016 rows x 5 columns]"
      ]
     },
     "execution_count": 58,
     "metadata": {},
     "output_type": "execute_result"
    }
   ],
   "source": [
    "orders.drop_duplicates()"
   ]
  },
  {
   "cell_type": "code",
   "execution_count": 31,
   "metadata": {},
   "outputs": [
    {
     "data": {
      "text/html": [
       "<div>\n",
       "<style scoped>\n",
       "    .dataframe tbody tr th:only-of-type {\n",
       "        vertical-align: middle;\n",
       "    }\n",
       "\n",
       "    .dataframe tbody tr th {\n",
       "        vertical-align: top;\n",
       "    }\n",
       "\n",
       "    .dataframe thead th {\n",
       "        text-align: right;\n",
       "    }\n",
       "</style>\n",
       "<table border=\"1\" class=\"dataframe\">\n",
       "  <thead>\n",
       "    <tr style=\"text-align: right;\">\n",
       "      <th></th>\n",
       "      <th>group</th>\n",
       "      <th>visitor_id</th>\n",
       "    </tr>\n",
       "  </thead>\n",
       "  <tbody>\n",
       "    <tr>\n",
       "      <th>0</th>\n",
       "      <td>A</td>\n",
       "      <td>445</td>\n",
       "    </tr>\n",
       "    <tr>\n",
       "      <th>1</th>\n",
       "      <td>B</td>\n",
       "      <td>528</td>\n",
       "    </tr>\n",
       "  </tbody>\n",
       "</table>\n",
       "</div>"
      ],
      "text/plain": [
       "  group  visitor_id\n",
       "0  A     445       \n",
       "1  B     528       "
      ]
     },
     "execution_count": 31,
     "metadata": {},
     "output_type": "execute_result"
    }
   ],
   "source": [
    "orders = orders.drop(columns = 'group_y')\n",
    "count_unique_visitors = orders.groupby(by = 'group', as_index = False).agg({\"visitor_id\":'nunique'})                                                         \n",
    "count_unique_visitors"
   ]
  },
  {
   "cell_type": "markdown",
   "metadata": {},
   "source": [
    "#### Визиты"
   ]
  },
  {
   "cell_type": "code",
   "execution_count": 54,
   "metadata": {
    "scrolled": true
   },
   "outputs": [
    {
     "data": {
      "text/html": [
       "<div>\n",
       "<style scoped>\n",
       "    .dataframe tbody tr th:only-of-type {\n",
       "        vertical-align: middle;\n",
       "    }\n",
       "\n",
       "    .dataframe tbody tr th {\n",
       "        vertical-align: top;\n",
       "    }\n",
       "\n",
       "    .dataframe thead th {\n",
       "        text-align: right;\n",
       "    }\n",
       "</style>\n",
       "<table border=\"1\" class=\"dataframe\">\n",
       "  <thead>\n",
       "    <tr style=\"text-align: right;\">\n",
       "      <th></th>\n",
       "      <th>date</th>\n",
       "      <th>group</th>\n",
       "      <th>visitors</th>\n",
       "    </tr>\n",
       "  </thead>\n",
       "  <tbody>\n",
       "    <tr>\n",
       "      <th>0</th>\n",
       "      <td>2019-08-01</td>\n",
       "      <td>A</td>\n",
       "      <td>719</td>\n",
       "    </tr>\n",
       "    <tr>\n",
       "      <th>1</th>\n",
       "      <td>2019-08-02</td>\n",
       "      <td>A</td>\n",
       "      <td>619</td>\n",
       "    </tr>\n",
       "    <tr>\n",
       "      <th>2</th>\n",
       "      <td>2019-08-03</td>\n",
       "      <td>A</td>\n",
       "      <td>507</td>\n",
       "    </tr>\n",
       "    <tr>\n",
       "      <th>3</th>\n",
       "      <td>2019-08-04</td>\n",
       "      <td>A</td>\n",
       "      <td>717</td>\n",
       "    </tr>\n",
       "    <tr>\n",
       "      <th>4</th>\n",
       "      <td>2019-08-05</td>\n",
       "      <td>A</td>\n",
       "      <td>756</td>\n",
       "    </tr>\n",
       "    <tr>\n",
       "      <th>...</th>\n",
       "      <td>...</td>\n",
       "      <td>...</td>\n",
       "      <td>...</td>\n",
       "    </tr>\n",
       "    <tr>\n",
       "      <th>57</th>\n",
       "      <td>2019-08-27</td>\n",
       "      <td>B</td>\n",
       "      <td>720</td>\n",
       "    </tr>\n",
       "    <tr>\n",
       "      <th>58</th>\n",
       "      <td>2019-08-28</td>\n",
       "      <td>B</td>\n",
       "      <td>654</td>\n",
       "    </tr>\n",
       "    <tr>\n",
       "      <th>59</th>\n",
       "      <td>2019-08-29</td>\n",
       "      <td>B</td>\n",
       "      <td>531</td>\n",
       "    </tr>\n",
       "    <tr>\n",
       "      <th>60</th>\n",
       "      <td>2019-08-30</td>\n",
       "      <td>B</td>\n",
       "      <td>490</td>\n",
       "    </tr>\n",
       "    <tr>\n",
       "      <th>61</th>\n",
       "      <td>2019-08-31</td>\n",
       "      <td>B</td>\n",
       "      <td>718</td>\n",
       "    </tr>\n",
       "  </tbody>\n",
       "</table>\n",
       "<p>62 rows × 3 columns</p>\n",
       "</div>"
      ],
      "text/plain": [
       "          date group  visitors\n",
       "0   2019-08-01  A     719     \n",
       "1   2019-08-02  A     619     \n",
       "2   2019-08-03  A     507     \n",
       "3   2019-08-04  A     717     \n",
       "4   2019-08-05  A     756     \n",
       "..         ... ..     ...     \n",
       "57  2019-08-27  B     720     \n",
       "58  2019-08-28  B     654     \n",
       "59  2019-08-29  B     531     \n",
       "60  2019-08-30  B     490     \n",
       "61  2019-08-31  B     718     \n",
       "\n",
       "[62 rows x 3 columns]"
      ]
     },
     "execution_count": 54,
     "metadata": {},
     "output_type": "execute_result"
    }
   ],
   "source": [
    "visitors = pd.read_csv('/datasets/visitors.csv', sep = ',')\n",
    "visitors"
   ]
  },
  {
   "cell_type": "code",
   "execution_count": 57,
   "metadata": {},
   "outputs": [
    {
     "data": {
      "text/html": [
       "<div>\n",
       "<style scoped>\n",
       "    .dataframe tbody tr th:only-of-type {\n",
       "        vertical-align: middle;\n",
       "    }\n",
       "\n",
       "    .dataframe tbody tr th {\n",
       "        vertical-align: top;\n",
       "    }\n",
       "\n",
       "    .dataframe thead th {\n",
       "        text-align: right;\n",
       "    }\n",
       "</style>\n",
       "<table border=\"1\" class=\"dataframe\">\n",
       "  <thead>\n",
       "    <tr style=\"text-align: right;\">\n",
       "      <th></th>\n",
       "      <th>date</th>\n",
       "      <th>group</th>\n",
       "      <th>visitors</th>\n",
       "    </tr>\n",
       "  </thead>\n",
       "  <tbody>\n",
       "    <tr>\n",
       "      <th>0</th>\n",
       "      <td>2019-08-01</td>\n",
       "      <td>A</td>\n",
       "      <td>719</td>\n",
       "    </tr>\n",
       "    <tr>\n",
       "      <th>1</th>\n",
       "      <td>2019-08-02</td>\n",
       "      <td>A</td>\n",
       "      <td>619</td>\n",
       "    </tr>\n",
       "    <tr>\n",
       "      <th>2</th>\n",
       "      <td>2019-08-03</td>\n",
       "      <td>A</td>\n",
       "      <td>507</td>\n",
       "    </tr>\n",
       "    <tr>\n",
       "      <th>3</th>\n",
       "      <td>2019-08-04</td>\n",
       "      <td>A</td>\n",
       "      <td>717</td>\n",
       "    </tr>\n",
       "    <tr>\n",
       "      <th>4</th>\n",
       "      <td>2019-08-05</td>\n",
       "      <td>A</td>\n",
       "      <td>756</td>\n",
       "    </tr>\n",
       "    <tr>\n",
       "      <th>...</th>\n",
       "      <td>...</td>\n",
       "      <td>...</td>\n",
       "      <td>...</td>\n",
       "    </tr>\n",
       "    <tr>\n",
       "      <th>57</th>\n",
       "      <td>2019-08-27</td>\n",
       "      <td>B</td>\n",
       "      <td>720</td>\n",
       "    </tr>\n",
       "    <tr>\n",
       "      <th>58</th>\n",
       "      <td>2019-08-28</td>\n",
       "      <td>B</td>\n",
       "      <td>654</td>\n",
       "    </tr>\n",
       "    <tr>\n",
       "      <th>59</th>\n",
       "      <td>2019-08-29</td>\n",
       "      <td>B</td>\n",
       "      <td>531</td>\n",
       "    </tr>\n",
       "    <tr>\n",
       "      <th>60</th>\n",
       "      <td>2019-08-30</td>\n",
       "      <td>B</td>\n",
       "      <td>490</td>\n",
       "    </tr>\n",
       "    <tr>\n",
       "      <th>61</th>\n",
       "      <td>2019-08-31</td>\n",
       "      <td>B</td>\n",
       "      <td>718</td>\n",
       "    </tr>\n",
       "  </tbody>\n",
       "</table>\n",
       "<p>62 rows × 3 columns</p>\n",
       "</div>"
      ],
      "text/plain": [
       "         date group  visitors\n",
       "0  2019-08-01  A     719     \n",
       "1  2019-08-02  A     619     \n",
       "2  2019-08-03  A     507     \n",
       "3  2019-08-04  A     717     \n",
       "4  2019-08-05  A     756     \n",
       "..        ... ..     ...     \n",
       "57 2019-08-27  B     720     \n",
       "58 2019-08-28  B     654     \n",
       "59 2019-08-29  B     531     \n",
       "60 2019-08-30  B     490     \n",
       "61 2019-08-31  B     718     \n",
       "\n",
       "[62 rows x 3 columns]"
      ]
     },
     "execution_count": 57,
     "metadata": {},
     "output_type": "execute_result"
    }
   ],
   "source": [
    "visitors.drop_duplicates()"
   ]
  },
  {
   "cell_type": "code",
   "execution_count": 55,
   "metadata": {
    "scrolled": true
   },
   "outputs": [
    {
     "name": "stdout",
     "output_type": "stream",
     "text": [
      "<class 'pandas.core.frame.DataFrame'>\n",
      "RangeIndex: 62 entries, 0 to 61\n",
      "Data columns (total 3 columns):\n",
      " #   Column    Non-Null Count  Dtype \n",
      "---  ------    --------------  ----- \n",
      " 0   date      62 non-null     object\n",
      " 1   group     62 non-null     object\n",
      " 2   visitors  62 non-null     int64 \n",
      "dtypes: int64(1), object(2)\n",
      "memory usage: 1.6+ KB\n"
     ]
    }
   ],
   "source": [
    "visitors.info()"
   ]
  },
  {
   "cell_type": "code",
   "execution_count": 56,
   "metadata": {},
   "outputs": [],
   "source": [
    "visitors['date'] = pd.to_datetime(visitors['date'])"
   ]
  },
  {
   "cell_type": "code",
   "execution_count": 35,
   "metadata": {
    "scrolled": true
   },
   "outputs": [
    {
     "name": "stdout",
     "output_type": "stream",
     "text": [
      "        date group  orders  buyers  revenue  visitors\n",
      "0 2019-08-01  A     23      19      142779   719     \n",
      "1 2019-08-01  B     17      17      59758    713     \n",
      "2 2019-08-02  A     42      36      234381   1338    \n",
      "3 2019-08-02  B     40      39      221801   1294    \n",
      "4 2019-08-03  A     66      60      346854   1845    \n"
     ]
    }
   ],
   "source": [
    "# создаем массив уникальных пар значений дат и групп теста\n",
    "datesGroups = orders[['date','group']].drop_duplicates() \n",
    "\n",
    "# получаем агрегированные кумулятивные по дням данные о заказах \n",
    "ordersAggregated = datesGroups.apply(lambda x: orders[np.logical_and(orders['date'] <= x['date'], orders['group'] == x['group'])].agg({'date' : 'max', 'group' : 'max', 'transaction_id' : 'nunique', 'visitor_id' : 'nunique', 'revenue' : 'sum'}), axis=1).sort_values(by=['date','group'])\n",
    "\n",
    "# получаем агрегированные кумулятивные по дням данные о посетителях интернет-магазина \n",
    "visitorsAggregated = datesGroups.apply(lambda x: visitors[np.logical_and(visitors['date'] <= x['date'], visitors['group'] == x['group'])].agg({'date' : 'max', 'group' : 'max', 'visitors' : 'sum'}), axis=1).sort_values(by=['date','group'])\n",
    "\n",
    "# объединяем кумулятивные данные в одной таблице и присваиваем ее столбцам понятные названия\n",
    "cumulativeData = ordersAggregated.merge(visitorsAggregated, left_on=['date', 'group'], right_on=['date', 'group'])\n",
    "cumulativeData.columns = ['date', 'group', 'orders', 'buyers', 'revenue', 'visitors']\n",
    "\n",
    "print(cumulativeData.head(5)) "
   ]
  },
  {
   "cell_type": "markdown",
   "metadata": {},
   "source": [
    "#### Вывод \n",
    "```\n",
    "В таблице с заказами оказались пользователи, которые попали в 2 группы. Мы от них избавились, но только в таблице с заказами. В целом, данные пришли в хорошем, мы поменяли только тип данных у столбца date в обеих таблицах, дубликатов не было обнаружено.\n",
    "\n",
    "После предобработки двух таблиц, мы собрали данные по группам в одну таблицу для дальнейшего анализа\n",
    "```"
   ]
  },
  {
   "cell_type": "markdown",
   "metadata": {},
   "source": [
    "### Расчет кумулятивной выручки по группам"
   ]
  },
  {
   "cell_type": "code",
   "execution_count": 64,
   "metadata": {
    "scrolled": false
   },
   "outputs": [
    {
     "data": {
      "image/png": "[encoded data removed]",
      "text/plain": [
       "<Figure size 780x325 with 1 Axes>"
      ]
     },
     "metadata": {
      "needs_background": "light"
     },
     "output_type": "display_data"
    }
   ],
   "source": [
    "# датафрейм с кумулятивным количеством заказов и кумулятивной выручкой по дням в группе А\n",
    "cumulativeRevenueA = cumulativeData[cumulativeData['group']=='A'][['date','revenue', 'orders']]\n",
    "\n",
    "# датафрейм с кумулятивным количеством заказов и кумулятивной выручкой по дням в группе B\n",
    "cumulativeRevenueB = cumulativeData[cumulativeData['group']=='B'][['date','revenue', 'orders']]\n",
    "\n",
    "plt.figure(figsize=(12, 5), dpi=65)\n",
    "\n",
    "# Строим график выручки группы А\n",
    "plt.plot(cumulativeRevenueA['date'], cumulativeRevenueA['revenue'], label='A')\n",
    "\n",
    "# Строим график выручки группы B\n",
    "plt.plot(cumulativeRevenueB['date'], cumulativeRevenueB['revenue'], label='B')\n",
    "\n",
    "plt.title('График кумулятивной выручки по группам')\n",
    "plt.xlabel('Дата')\n",
    "plt.ylabel('Выручка, тыс.')\n",
    "\n",
    "plt.legend();"
   ]
  },
  {
   "cell_type": "markdown",
   "metadata": {},
   "source": [
    "#### Вывод \n",
    "\n",
    "```\n",
    "На графике видно, что выручка почти равномерно увеличивается в начале теста, но после 2019-08-05, группа B сильно опережает группу А. Несколько раз мы можем увидеть всплески на графике, самый очевидный и влиятельный произошел после 2019-08-18. Это может сигнализировать о всплеске числа заказов, либо о появлении очень дорогих заказов в выборке. \n",
    "```"
   ]
  },
  {
   "cell_type": "markdown",
   "metadata": {},
   "source": [
    "### Расчет кумулятивного среднего чека по группам"
   ]
  },
  {
   "cell_type": "code",
   "execution_count": 65,
   "metadata": {
    "scrolled": true
   },
   "outputs": [
    {
     "data": {
      "image/png": "[encoded data removed]",
      "text/plain": [
       "<Figure size 780x325 with 1 Axes>"
      ]
     },
     "metadata": {
      "needs_background": "light"
     },
     "output_type": "display_data"
    }
   ],
   "source": [
    "\n",
    "plt.figure(figsize=(12, 5), dpi=65)\n",
    "plt.plot(cumulativeRevenueA['date'], cumulativeRevenueA['revenue']/cumulativeRevenueA['orders'], label='A')\n",
    "plt.plot(cumulativeRevenueB['date'], cumulativeRevenueB['revenue']/cumulativeRevenueB['orders'], label='B')\n",
    "plt.legend()\n",
    "plt.title('График кумулятивного среднего чека по группам')\n",
    "plt.xlabel('Дата')\n",
    "plt.ylabel('Выручка');"
   ]
  },
  {
   "cell_type": "markdown",
   "metadata": {},
   "source": [
    "#### Вывод \n",
    "\n",
    "~~~\n",
    "Средний чек после 2019-08-18 сильно \"скакнул\" вверх, и стал стабильно выше группы A. Скорее всего был аномально большой чек в группе B в эту дату.\n",
    "~~~"
   ]
  },
  {
   "cell_type": "markdown",
   "metadata": {},
   "source": [
    "### Расчет относительного изменения кумулятивного среднего чека группы B к группе A"
   ]
  },
  {
   "cell_type": "code",
   "execution_count": 66,
   "metadata": {
    "scrolled": true
   },
   "outputs": [
    {
     "data": {
      "image/png": "[encoded data removed]",
      "text/plain": [
       "<Figure size 780x325 with 1 Axes>"
      ]
     },
     "metadata": {
      "needs_background": "light"
     },
     "output_type": "display_data"
    }
   ],
   "source": [
    "# собираем данные в одном датафрейме\n",
    "mergedCumulativeRevenue = cumulativeRevenueA.merge(cumulativeRevenueB, left_on='date', right_on='date', how='left', suffixes=['A', 'B'])\n",
    "\n",
    "# cтроим отношение средних чеков\n",
    "plt.figure(figsize=(12, 5), dpi=65)\n",
    "plt.plot(mergedCumulativeRevenue['date'], (mergedCumulativeRevenue['revenueB']/mergedCumulativeRevenue['ordersB'])/(mergedCumulativeRevenue['revenueA']/mergedCumulativeRevenue['ordersA'])-1)\n",
    "\n",
    "# добавляем ось X\n",
    "plt.axhline(y=0, color='black', linestyle='--') \n",
    "plt.title('График относительного изменения кумулятивного среднего чека группы В к группе А')\n",
    "plt.xlabel('Дата')\n",
    "plt.ylabel('Отношение группы В к группе А');"
   ]
  },
  {
   "cell_type": "markdown",
   "metadata": {},
   "source": [
    "#### Вывод \n",
    "\n",
    "```\n",
    "Изменение кумулятивного среднего чека группы B к группе А было нестабильно в течении всего теста. Однако после 2019-08-18, кумулятивный чек стал стабильно положитиельный. Скорее всего, за счет аномального выброса.\n",
    "\n",
    "```"
   ]
  },
  {
   "cell_type": "markdown",
   "metadata": {},
   "source": [
    "### Расчет кумулятивного среднего количества заказов на посетителя по группам"
   ]
  },
  {
   "cell_type": "code",
   "execution_count": 67,
   "metadata": {
    "scrolled": false
   },
   "outputs": [
    {
     "data": {
      "image/png": "[encoded data removed]",
      "text/plain": [
       "<Figure size 780x325 with 1 Axes>"
      ]
     },
     "metadata": {
      "needs_background": "light"
     },
     "output_type": "display_data"
    }
   ],
   "source": [
    "# считаем кумулятивную конверсию\n",
    "cumulativeData['avg_orders'] = cumulativeData['orders']/cumulativeData['visitors']\n",
    "\n",
    "# отделяем данные по группе A\n",
    "cumulativeDataA = cumulativeData[cumulativeData['group']=='A']\n",
    "\n",
    "# отделяем данные по группе B\n",
    "cumulativeDataB = cumulativeData[cumulativeData['group']=='B']\n",
    "\n",
    "# строим графики\n",
    "plt.figure(figsize=(12, 5), dpi=65)\n",
    "plt.plot(cumulativeDataA['date'], cumulativeDataA['avg_orders'], label='A')\n",
    "plt.plot(cumulativeDataB['date'], cumulativeDataB['avg_orders'], label='B')\n",
    "plt.title('График кумулятивного среднего количества заказов на посетителя по группам')\n",
    "plt.xlabel('Дата')\n",
    "plt.ylabel('Среднее количество заказов на посетителя')\n",
    "plt.legend();"
   ]
  },
  {
   "cell_type": "markdown",
   "metadata": {},
   "source": [
    "#### Вывод \n",
    "\n",
    "```\n",
    "Можно заметить, что в течении всего теста, пркатически с самого начала теста, в группе А стабильно меньше заказов на посетителя, чем в группе В. Разница между ними стабильна и сохраняется в течении всего теста.\n",
    "\n",
    "```"
   ]
  },
  {
   "cell_type": "markdown",
   "metadata": {},
   "source": [
    "### Расчет относительного изменения кумулятивного среднего количества заказов на посетителя группы B к группе A"
   ]
  },
  {
   "cell_type": "code",
   "execution_count": 68,
   "metadata": {
    "scrolled": false
   },
   "outputs": [
    {
     "data": {
      "image/png": "[encoded data removed]",
      "text/plain": [
       "<Figure size 780x325 with 1 Axes>"
      ]
     },
     "metadata": {
      "needs_background": "light"
     },
     "output_type": "display_data"
    }
   ],
   "source": [
    "mergedCumulativeConversions = cumulativeDataA[['date','avg_orders']].merge(cumulativeDataB[['date','avg_orders']], left_on='date', right_on='date', how='left', suffixes=['A', 'B'])\n",
    "plt.figure(figsize=(12, 5), dpi=65)\n",
    "plt.plot(mergedCumulativeConversions['date'], mergedCumulativeConversions['avg_ordersB']/mergedCumulativeConversions['avg_ordersA']-1)\n",
    "plt.title(\"Относительный прирост среднего кол-ва заказов на пользователя группы B относительно группы A\")\n",
    "plt.xlabel('Дата')\n",
    "plt.ylabel('Отношение группы В к группе А')\n",
    "plt.axhline(y=0, color='black', linestyle='--')\n",
    "plt.axhline(y=-0.1, color='grey', linestyle='--');"
   ]
  },
  {
   "cell_type": "markdown",
   "metadata": {},
   "source": [
    "#### Вывод \n",
    "\n",
    "```\n",
    "На графике можно заметить, что после 2019-08-05 относительная разница между числом закахов на пользователя между группой А и группой В положительна в сторону группы В, а наичная с 13-08 значения относительного прироста стабильно.\n",
    "\n",
    "```"
   ]
  },
  {
   "cell_type": "markdown",
   "metadata": {},
   "source": [
    "### Расчет количества заказов по пользователям"
   ]
  },
  {
   "cell_type": "code",
   "execution_count": 69,
   "metadata": {},
   "outputs": [
    {
     "data": {
      "image/png": "[encoded data removed]",
      "text/plain": [
       "<Figure size 780x325 with 1 Axes>"
      ]
     },
     "metadata": {
      "needs_background": "light"
     },
     "output_type": "display_data"
    }
   ],
   "source": [
    "orders_visitor = orders.groupby(by = 'visitor_id', as_index = False).agg({'transaction_id':'nunique'})\n",
    "x_values = (range(0,len(orders_visitor['transaction_id'])))\n",
    "plt.figure(figsize=(12, 5), dpi=65)\n",
    "plt.scatter(x_values, orders_visitor['transaction_id'])\n",
    "plt.xlabel('Кол-во пользователей')\n",
    "plt.ylabel('Кол-во заказов')\n",
    "plt.title('Количество заказов по пользователям');"
   ]
  },
  {
   "cell_type": "markdown",
   "metadata": {},
   "source": [
    "#### Вывод\n",
    "\n",
    "```\n",
    "Подавляющее число пользователей делают один заказ, максимальное число заказов - три.\n",
    "```"
   ]
  },
  {
   "cell_type": "markdown",
   "metadata": {},
   "source": [
    "### Расчет 95-й и 99-й перцентили количества заказов на пользователя"
   ]
  },
  {
   "cell_type": "code",
   "execution_count": 42,
   "metadata": {},
   "outputs": [
    {
     "name": "stdout",
     "output_type": "stream",
     "text": [
      "[1. 2.]\n"
     ]
    }
   ],
   "source": [
    "print(np.percentile(orders_visitor['transaction_id'], [95, 99])) "
   ]
  },
  {
   "cell_type": "markdown",
   "metadata": {},
   "source": [
    "#### Вывод \n",
    "\n",
    "~~~\n",
    "95% пользователей совершают 1 заказ, а 99% - 1-2 заказа. Будем считать, что больше 2 заказов - это уже аномалия.\n",
    "~~~"
   ]
  },
  {
   "cell_type": "markdown",
   "metadata": {},
   "source": [
    "### Расчет стоимостей заказов"
   ]
  },
  {
   "cell_type": "code",
   "execution_count": 74,
   "metadata": {
    "scrolled": true
   },
   "outputs": [
    {
     "data": {
      "image/png": "[encoded data removed]",
      "text/plain": [
       "<Figure size 780x325 with 1 Axes>"
      ]
     },
     "metadata": {
      "needs_background": "light"
     },
     "output_type": "display_data"
    }
   ],
   "source": [
    "x_values = (range(0,len(orders['revenue'])))\n",
    "plt.figure(figsize=(12, 5), dpi=65)\n",
    "plt.scatter(x_values,orders['revenue'])\n",
    "plt.xlabel('Кол-во пользователей')\n",
    "plt.ylabel('Стоимость заказа')\n",
    "plt.title('Сумма заказов');"
   ]
  },
  {
   "cell_type": "markdown",
   "metadata": {},
   "source": [
    "\n",
    "***График нечитаемый из-за \"выбросов\". Посторим новый график, без них***\n"
   ]
  },
  {
   "cell_type": "code",
   "execution_count": 75,
   "metadata": {},
   "outputs": [
    {
     "data": {
      "image/png": "[encoded data removed]",
      "text/plain": [
       "<Figure size 780x325 with 1 Axes>"
      ]
     },
     "metadata": {
      "needs_background": "light"
     },
     "output_type": "display_data"
    }
   ],
   "source": [
    "ordres_filtred = orders[orders['revenue'] < 200000]\n",
    "\n",
    "x_values = (range(0,len(ordres_filtred['revenue'])))\n",
    "plt.figure(figsize=(12, 5), dpi=65)\n",
    "plt.scatter(x_values,ordres_filtred['revenue'])\n",
    "plt.xlabel('Кол-во пользователей')\n",
    "plt.ylabel('Стоимость заказа')\n",
    "plt.title('Сумма заказов');"
   ]
  },
  {
   "cell_type": "markdown",
   "metadata": {},
   "source": [
    "#### Вывод \n",
    "\n",
    "```\n",
    "На графике видны 2 выброса, из-за кторых читаемость графика минимальна. Для того, чтобы график стал более информативным, мы очистили датасет от выбросов. По графику стало понятно, что большинство заказов находятся в пределах 30.000\n",
    "\n",
    "```"
   ]
  },
  {
   "cell_type": "markdown",
   "metadata": {},
   "source": [
    "### Расчет 95-й и 99-й перцентили стоимости заказа"
   ]
  },
  {
   "cell_type": "code",
   "execution_count": 44,
   "metadata": {},
   "outputs": [
    {
     "name": "stdout",
     "output_type": "stream",
     "text": [
      "[26785. 53904.]\n"
     ]
    }
   ],
   "source": [
    "print(np.percentile(orders['revenue'], [95, 99])) "
   ]
  },
  {
   "cell_type": "markdown",
   "metadata": {},
   "source": [
    "#### Вывод \n",
    "```\n",
    "95% заказов не превышают отметку в 27000, а 99% заказов не превышают 54000.\n",
    "\n",
    "Возьмем за пороговое значение стоимость заказа в 27000\n",
    "```"
   ]
  },
  {
   "cell_type": "markdown",
   "metadata": {},
   "source": [
    "### Расчет статистической значимости различий в среднем количестве заказов на посетителя между группами"
   ]
  },
  {
   "cell_type": "markdown",
   "metadata": {},
   "source": [
    "```\n",
    "H0 - Нет статистически значимого различия в среднем количестве заказов на посетителя между группами\n",
    "H1 - Статистически значимое различие в среднем количестве заказов на посетителя между группами есть\n",
    "\n",
    "Допустимый уровень alpha - 0.05\n",
    "\n",
    "Для проверки гипотезы буду использовать \"Непараметрический тест Уилкоксона-Манна-Уитни\"\n",
    "```"
   ]
  },
  {
   "cell_type": "code",
   "execution_count": 80,
   "metadata": {
    "scrolled": true
   },
   "outputs": [
    {
     "name": "stdout",
     "output_type": "stream",
     "text": [
      "p-value = 0.011\n",
      "Относительный прирост группы В к группе А =  0.160\n"
     ]
    }
   ],
   "source": [
    "visitorsADaily = visitors[visitors['group'] == 'A'][['date', 'visitors']]\n",
    "visitorsADaily.columns = ['date', 'visitorsPerDateA']\n",
    "\n",
    "visitorsACummulative = visitorsADaily.apply(\n",
    "    lambda x: visitorsADaily[visitorsADaily['date'] <= x['date']].agg(\n",
    "        {'date': 'max', 'visitorsPerDateA': 'sum'}\n",
    "    ),\n",
    "    axis=1,\n",
    ")\n",
    "visitorsACummulative.columns = ['date', 'visitorsCummulativeA']\n",
    "\n",
    "visitorsBDaily = visitors[visitors['group'] == 'B'][['date', 'visitors']]\n",
    "visitorsBDaily.columns = ['date', 'visitorsPerDateB']\n",
    "\n",
    "visitorsBCummulative = visitorsBDaily.apply(\n",
    "    lambda x: visitorsBDaily[visitorsBDaily['date'] <= x['date']].agg(\n",
    "        {'date': 'max', 'visitorsPerDateB': 'sum'}\n",
    "    ),\n",
    "    axis=1,\n",
    ")\n",
    "visitorsBCummulative.columns = ['date', 'visitorsCummulativeB']\n",
    "\n",
    "ordersADaily = (\n",
    "    orders[orders['group'] == 'A'][['date', 'transaction_id', 'visitor_id', 'revenue']]\n",
    "    .groupby('date', as_index=False)\n",
    "    .agg({'visitor_id': pd.Series.nunique, 'revenue': 'sum'})\n",
    ")\n",
    "ordersADaily.columns = ['date', 'ordersPerDateA', 'revenuePerDateA']\n",
    "\n",
    "ordersACummulative = ordersADaily.apply(\n",
    "    lambda x: ordersADaily[ordersADaily['date'] <= x['date']].agg(\n",
    "        {'date': 'max', 'ordersPerDateA': 'sum', 'revenuePerDateA': 'sum'}\n",
    "    ),\n",
    "    axis=1,\n",
    ").sort_values(by=['date'])\n",
    "ordersACummulative.columns = [\n",
    "    'date',\n",
    "    'ordersCummulativeA',\n",
    "    'revenueCummulativeA',\n",
    "]\n",
    "\n",
    "ordersBDaily = (\n",
    "    orders[orders['group'] == 'B'][['date', 'transaction_id', 'visitor_id', 'revenue']]\n",
    "    .groupby('date', as_index=False)\n",
    "    .agg({'visitor_id': pd.Series.nunique, 'revenue': 'sum'})\n",
    ")\n",
    "ordersBDaily.columns = ['date', 'ordersPerDateB', 'revenuePerDateB']\n",
    "\n",
    "ordersBCummulative = ordersBDaily.apply(\n",
    "    lambda x: ordersBDaily[ordersBDaily['date'] <= x['date']].agg(\n",
    "        {'date': 'max', 'ordersPerDateB': 'sum', 'revenuePerDateB': 'sum'}\n",
    "    ),\n",
    "    axis=1,\n",
    ").sort_values(by=['date'])\n",
    "ordersBCummulative.columns = [\n",
    "    'date',\n",
    "    'ordersCummulativeB',\n",
    "    'revenueCummulativeB',\n",
    "]\n",
    "\n",
    "data = (\n",
    "    ordersADaily.merge(\n",
    "        ordersBDaily, left_on='date', right_on='date', how='left'\n",
    "    )\n",
    "    .merge(ordersACummulative, left_on='date', right_on='date', how='left')\n",
    "    .merge(ordersBCummulative, left_on='date', right_on='date', how='left')\n",
    "    .merge(visitorsADaily, left_on='date', right_on='date', how='left')\n",
    "    .merge(visitorsBDaily, left_on='date', right_on='date', how='left')\n",
    "    .merge(visitorsACummulative, left_on='date', right_on='date', how='left')\n",
    "    .merge(visitorsBCummulative, left_on='date', right_on='date', how='left')\n",
    ")\n",
    "\n",
    "ordersByUsersA = (\n",
    "    orders[orders['group'] == 'A']\n",
    "    .groupby('visitor_id', as_index=False)\n",
    "    .agg({'transaction_id': pd.Series.nunique})\n",
    ")\n",
    "ordersByUsersA.columns = ['userId', 'orders']\n",
    "\n",
    "ordersByUsersB = (\n",
    "    orders[orders['group'] == 'B']\n",
    "    .groupby('visitor_id', as_index=False)\n",
    "    .agg({'transaction_id': pd.Series.nunique})\n",
    ")\n",
    "ordersByUsersB.columns = ['userId', 'orders']\n",
    "\n",
    "sampleA = pd.concat(\n",
    "    [\n",
    "        ordersByUsersA['orders'],\n",
    "        pd.Series(\n",
    "            0,\n",
    "            index=np.arange(\n",
    "                data['visitorsPerDateA'].sum() - len(ordersByUsersA['orders'])\n",
    "            ),\n",
    "            name='orders',\n",
    "        ),\n",
    "    ],\n",
    "    axis=0,\n",
    ")\n",
    "\n",
    "sampleB = pd.concat(\n",
    "    [\n",
    "        ordersByUsersB['orders'],\n",
    "        pd.Series(\n",
    "            0,\n",
    "            index=np.arange(\n",
    "                data['visitorsPerDateB'].sum() - len(ordersByUsersB['orders'])\n",
    "            ),\n",
    "            name='orders',\n",
    "        ),\n",
    "    ],\n",
    "    axis=0,\n",
    ")\n",
    "\n",
    "print('p-value =',\"{0:.3f}\".format(stats.mannwhitneyu(sampleA, sampleB)[1]),)\n",
    "\n",
    "print('Относительный прирост группы В к группе А = ', \"{0:.3f}\".format(sampleB.mean() / sampleA.mean() - 1))\n"
   ]
  },
  {
   "cell_type": "markdown",
   "metadata": {},
   "source": [
    "#### Вывод \n",
    "\n",
    "```\n",
    "Так как p-value < 0.05, мы можем говорить о том, что разница между группами стат значима. Ср. кол-во заказов на посетителя в группе В на ~16% > чем в группе A.\n",
    "```"
   ]
  },
  {
   "cell_type": "markdown",
   "metadata": {},
   "source": [
    "### Расчет статистической значимости различий в среднем чеке заказа между группами"
   ]
  },
  {
   "cell_type": "markdown",
   "metadata": {},
   "source": [
    "```\n",
    "H0 - Нет статистически значимого различия в среднем чеке заказа между группами\n",
    "H1 - Статистически значимое различие в  среднем чеке заказа между группами есть\n",
    "\n",
    "Допустимый уровень alpha - 0.05\n",
    "\n",
    "Для проверки гипотезы буду использовать \"Непараметрический тест Уилкоксона-Манна-Уитни\"\n",
    "```"
   ]
  },
  {
   "cell_type": "code",
   "execution_count": 81,
   "metadata": {
    "scrolled": true
   },
   "outputs": [
    {
     "name": "stdout",
     "output_type": "stream",
     "text": [
      "p-value = 0.829\n",
      "Относительный прирост группы В к группе А =  0.287\n"
     ]
    }
   ],
   "source": [
    "print('p-value =','{0:.3f}'.format(stats.mannwhitneyu(orders[orders['group']=='A']['revenue'], orders[orders['group']=='B']['revenue'])[1]))\n",
    "print('Относительный прирост группы В к группе А = ','{0:.3f}'.format(orders[orders['group']=='B']['revenue'].mean()/orders[orders['group']=='A']['revenue'].mean()-1))"
   ]
  },
  {
   "cell_type": "markdown",
   "metadata": {},
   "source": [
    "#### Вывод\n",
    "```\n",
    "Так как p-value > 0.05, мы не можем считать различие между группами стат. значимым. Средний чек в группе В на ~29% выше, чем в группе А.\n",
    "```"
   ]
  },
  {
   "cell_type": "markdown",
   "metadata": {},
   "source": [
    "### Расчет статистической значимости различий в среднем количестве заказов на посетителя между группами по «очищенным» данным"
   ]
  },
  {
   "cell_type": "markdown",
   "metadata": {},
   "source": [
    "```\n",
    "H0 - Нет статистически значимого различия в среднем количестве заказов на посетителя между группами по \"очищенным данным\"\n",
    "H1 - Статистически значимое различие по \"очищенным данным\" в среднем количестве заказов на посетителя между группами есть\n",
    "\n",
    "Допустимый уровень alpha - 0.05\n",
    "\n",
    "Для проверки гипотезы буду использовать \"Непараметрический тест Уилкоксона-Манна-Уитни\"\n",
    "```"
   ]
  },
  {
   "cell_type": "code",
   "execution_count": 47,
   "metadata": {
    "scrolled": false
   },
   "outputs": [
    {
     "name": "stdout",
     "output_type": "stream",
     "text": [
      "Кол-во аномальных пользователей - 58\n"
     ]
    }
   ],
   "source": [
    "# сколько всего аномальных пользователей\n",
    "\n",
    "usersWithManyOrders = pd.concat(\n",
    "    [\n",
    "        ordersByUsersA[ordersByUsersA['orders'] > 2]['userId'],\n",
    "        ordersByUsersB[ordersByUsersB['orders'] > 2]['userId'],\n",
    "    ],\n",
    "    axis=0,\n",
    ")\n",
    "usersWithExpensiveOrders = orders[orders['revenue'] > 27000]['visitor_id']\n",
    "abnormalUsers = (\n",
    "    pd.concat([usersWithManyOrders, usersWithExpensiveOrders], axis=0)\n",
    "    .drop_duplicates()\n",
    "    .sort_values()\n",
    ")\n",
    "print('Кол-во аномальных пользователей -',abnormalUsers.shape[0]) "
   ]
  },
  {
   "cell_type": "code",
   "execution_count": 83,
   "metadata": {},
   "outputs": [
    {
     "name": "stdout",
     "output_type": "stream",
     "text": [
      "p-value = 0.012\n",
      "Относительный прирост группы В к группе А =  0.182\n"
     ]
    }
   ],
   "source": [
    "#подготовим выборки количества заказов по пользователям по группам теста\n",
    "\n",
    "sampleAFiltered = pd.concat(\n",
    "    [\n",
    "        ordersByUsersA[\n",
    "            np.logical_not(ordersByUsersA['userId'].isin(abnormalUsers))\n",
    "        ]['orders'],\n",
    "        pd.Series(\n",
    "            0,\n",
    "            index=np.arange(\n",
    "                data['visitorsPerDateA'].sum() - len(ordersByUsersA['orders'])\n",
    "            ),\n",
    "            name='orders',\n",
    "        ),\n",
    "    ],\n",
    "    axis=0,\n",
    ")\n",
    "\n",
    "sampleBFiltered = pd.concat(\n",
    "    [\n",
    "        ordersByUsersB[\n",
    "            np.logical_not(ordersByUsersB['userId'].isin(abnormalUsers))\n",
    "        ]['orders'],\n",
    "        pd.Series(\n",
    "            0,\n",
    "            index=np.arange(\n",
    "                data['visitorsPerDateB'].sum() - len(ordersByUsersB['orders'])\n",
    "            ),\n",
    "            name='orders',\n",
    "        ),\n",
    "    ],\n",
    "    axis=0,\n",
    ") \n",
    "\n",
    "#применим статистический критерий Манна-Уитни к полученным выборкам\n",
    "print('p-value =','{0:.3f}'.format(stats.mannwhitneyu(sampleAFiltered, sampleBFiltered)[1]))\n",
    "print('Относительный прирост группы В к группе А = ','{0:.3f}'.format(sampleBFiltered.mean()/sampleAFiltered.mean()-1)) "
   ]
  },
  {
   "cell_type": "markdown",
   "metadata": {},
   "source": [
    "#### Вывод \n",
    "\n",
    "```\n",
    "Так как p-value < 0.05, можем говорить о том, что различие между группами стат.значимо. Ср. кол-во заказов на пользователя в группе В на ~18% > чем в группе А.\n",
    "\n",
    "Значение p-value после очистки данных увеличилось минимально (на 0.001), относительный прирост увеличился на 2%\n",
    "\n",
    "```"
   ]
  },
  {
   "cell_type": "markdown",
   "metadata": {},
   "source": [
    "### Расчет статистической значимости различий в среднем чеке заказа между группами по «очищенным» данным."
   ]
  },
  {
   "cell_type": "markdown",
   "metadata": {},
   "source": [
    "```\n",
    "H0 - Нет статистически значимого различия в среднем чеке заказа между группами по \"очищенным данным\"\n",
    "H1 - Статистически значимое различие по \"очищенным данным\" в среднем чеке заказа между группами есть\n",
    "\n",
    "Допустимый уровень alpha - 0.05\n",
    "\n",
    "Для проверки гипотезы буду использовать \"Непараметрический тест Уилкоксона-Манна-Уитни\"\n",
    "```"
   ]
  },
  {
   "cell_type": "code",
   "execution_count": 82,
   "metadata": {
    "scrolled": true
   },
   "outputs": [
    {
     "name": "stdout",
     "output_type": "stream",
     "text": [
      "p-value = 0.646\n",
      "Относительный прирост группы В к группе А =  -0.048\n"
     ]
    }
   ],
   "source": [
    "print('p-value =',\n",
    "    '{0:.3f}'.format(\n",
    "        stats.mannwhitneyu(\n",
    "            orders[\n",
    "                np.logical_and(\n",
    "                    orders['group'] == 'A',\n",
    "                    np.logical_not(orders['visitor_id'].isin(abnormalUsers)),\n",
    "                )\n",
    "            ]['revenue'],\n",
    "            orders[\n",
    "                np.logical_and(\n",
    "                    orders['group'] == 'B',\n",
    "                    np.logical_not(orders['visitor_id'].isin(abnormalUsers)),\n",
    "                )\n",
    "            ]['revenue'],\n",
    "        )[1]\n",
    "    )\n",
    ")\n",
    "\n",
    "print('Относительный прирост группы В к группе А = ',\n",
    "    \"{0:.3f}\".format(\n",
    "        orders[\n",
    "            np.logical_and(\n",
    "                orders['group'] == 'B',\n",
    "                np.logical_not(orders['visitor_id'].isin(abnormalUsers)),\n",
    "            )\n",
    "        ]['revenue'].mean()\n",
    "        / orders[\n",
    "            np.logical_and(\n",
    "                orders['group'] == 'A',\n",
    "                np.logical_not(orders['visitor_id'].isin(abnormalUsers)),\n",
    "            )\n",
    "        ]['revenue'].mean()\n",
    "        - 1\n",
    "    )\n",
    ") "
   ]
  },
  {
   "cell_type": "markdown",
   "metadata": {},
   "source": [
    "#### Вывод \n",
    "\n",
    "```\n",
    "Так как p-value > 0.05 мы не можем утверждать, что различие между группами стат. значимо.\n",
    "\n",
    "p-value по очищенным данным уменьшился ~ на 20%, относительный прирост группы В к группе А изменился, если по сырым данным группа В была выше на ~29%, то по очищенным данным группа А выше группы В на ~5%. \n",
    "```"
   ]
  },
  {
   "cell_type": "markdown",
   "metadata": {},
   "source": [
    "## Вывод"
   ]
  },
  {
   "cell_type": "markdown",
   "metadata": {},
   "source": [
    "***Итого:***\n",
    "\n",
    "```\n",
    "1. Стат. значимо изменилась метрика ср. кол-во заказов на посетителя в группе В в положительную сторону (на ~18% по очищенным даенным)\n",
    "\n",
    "2. Метрика ср. чек стат. значимо не изменилась\n",
    "\n",
    "```\n",
    "\n",
    "***Вывод:***\n",
    "\n",
    "```\n",
    "Так как одна из метрик изменилась в положительную сторону, а негативных изменений замечано не было, тест можно считать успешным. Тест можно остановить и зафиксировать победу группы В.\n",
    "```"
   ]
  },
  {
   "cell_type": "code",
   "execution_count": null,
   "metadata": {},
   "outputs": [],
   "source": []
  }
 ],
 "metadata": {
  "ExecuteTimeLog": [
   {
    "duration": 368,
    "start_time": "2023-02-01T18:14:26.600Z"
   },
   {
    "duration": 102,
    "start_time": "2023-02-01T19:32:51.767Z"
   },
   {
    "duration": 16,
    "start_time": "2023-02-01T19:33:05.396Z"
   },
   {
    "duration": 48,
    "start_time": "2023-02-01T19:33:10.945Z"
   },
   {
    "duration": 13,
    "start_time": "2023-02-01T19:33:11.906Z"
   },
   {
    "duration": 6,
    "start_time": "2023-02-01T19:34:12.599Z"
   },
   {
    "duration": 9,
    "start_time": "2023-02-01T19:34:19.872Z"
   },
   {
    "duration": 1205,
    "start_time": "2023-02-01T19:40:53.497Z"
   },
   {
    "duration": 11,
    "start_time": "2023-02-01T19:41:05.469Z"
   },
   {
    "duration": 9,
    "start_time": "2023-02-01T19:43:40.602Z"
   },
   {
    "duration": 1457,
    "start_time": "2023-02-01T19:43:43.825Z"
   },
   {
    "duration": 1485,
    "start_time": "2023-02-01T19:45:17.992Z"
   },
   {
    "duration": 1498,
    "start_time": "2023-02-01T19:45:31.504Z"
   },
   {
    "duration": 1597,
    "start_time": "2023-02-01T19:46:01.397Z"
   },
   {
    "duration": 1594,
    "start_time": "2023-02-01T19:46:27.416Z"
   },
   {
    "duration": 12,
    "start_time": "2023-02-01T19:46:40.141Z"
   },
   {
    "duration": 1372,
    "start_time": "2023-02-01T19:47:56.819Z"
   },
   {
    "duration": 12,
    "start_time": "2023-02-01T19:48:04.931Z"
   },
   {
    "duration": 29,
    "start_time": "2023-02-01T19:48:19.473Z"
   },
   {
    "duration": 4,
    "start_time": "2023-02-01T19:48:20.293Z"
   },
   {
    "duration": 9,
    "start_time": "2023-02-01T19:48:21.297Z"
   },
   {
    "duration": 7,
    "start_time": "2023-02-01T19:48:24.422Z"
   },
   {
    "duration": 14,
    "start_time": "2023-02-01T19:48:28.976Z"
   },
   {
    "duration": 21,
    "start_time": "2023-02-01T19:49:07.333Z"
   },
   {
    "duration": 20,
    "start_time": "2023-02-01T19:49:22.068Z"
   },
   {
    "duration": 12,
    "start_time": "2023-02-01T19:49:47.772Z"
   },
   {
    "duration": 1410,
    "start_time": "2023-02-01T19:52:47.677Z"
   },
   {
    "duration": 4,
    "start_time": "2023-02-01T19:53:05.797Z"
   },
   {
    "duration": 5,
    "start_time": "2023-02-01T19:53:17.405Z"
   },
   {
    "duration": 4,
    "start_time": "2023-02-01T19:53:36.937Z"
   },
   {
    "duration": 4,
    "start_time": "2023-02-01T19:55:12.219Z"
   },
   {
    "duration": 57,
    "start_time": "2023-02-04T14:47:37.953Z"
   },
   {
    "duration": 445,
    "start_time": "2023-02-04T14:47:42.574Z"
   },
   {
    "duration": 60,
    "start_time": "2023-02-04T14:47:43.110Z"
   },
   {
    "duration": 4,
    "start_time": "2023-02-04T14:47:43.607Z"
   },
   {
    "duration": 11,
    "start_time": "2023-02-04T14:47:44.097Z"
   },
   {
    "duration": 9,
    "start_time": "2023-02-04T14:47:44.599Z"
   },
   {
    "duration": 30,
    "start_time": "2023-02-04T14:47:45.143Z"
   },
   {
    "duration": 7,
    "start_time": "2023-02-04T14:47:57.453Z"
   },
   {
    "duration": 20,
    "start_time": "2023-02-04T14:48:31.799Z"
   },
   {
    "duration": 12,
    "start_time": "2023-02-04T14:48:50.661Z"
   },
   {
    "duration": 25,
    "start_time": "2023-02-04T14:50:27.101Z"
   },
   {
    "duration": 16,
    "start_time": "2023-02-04T14:50:48.638Z"
   },
   {
    "duration": 13,
    "start_time": "2023-02-04T15:03:19.049Z"
   },
   {
    "duration": 13,
    "start_time": "2023-02-04T15:03:28.012Z"
   },
   {
    "duration": 10,
    "start_time": "2023-02-04T15:03:46.681Z"
   },
   {
    "duration": 11,
    "start_time": "2023-02-04T15:03:48.538Z"
   },
   {
    "duration": 21,
    "start_time": "2023-02-04T15:04:08.575Z"
   },
   {
    "duration": 5,
    "start_time": "2023-02-04T15:04:09.014Z"
   },
   {
    "duration": 11,
    "start_time": "2023-02-04T15:04:09.427Z"
   },
   {
    "duration": 26,
    "start_time": "2023-02-04T15:04:47.832Z"
   },
   {
    "duration": 4,
    "start_time": "2023-02-04T15:04:48.172Z"
   },
   {
    "duration": 16,
    "start_time": "2023-02-04T15:04:48.478Z"
   },
   {
    "duration": 7,
    "start_time": "2023-02-04T15:04:48.999Z"
   },
   {
    "duration": 13,
    "start_time": "2023-02-04T15:04:49.443Z"
   },
   {
    "duration": 6,
    "start_time": "2023-02-04T15:05:03.755Z"
   },
   {
    "duration": 4,
    "start_time": "2023-02-04T15:05:11.499Z"
   },
   {
    "duration": 5,
    "start_time": "2023-02-04T15:05:30.510Z"
   },
   {
    "duration": 6,
    "start_time": "2023-02-04T15:05:34.097Z"
   },
   {
    "duration": 5,
    "start_time": "2023-02-04T15:05:55.603Z"
   },
   {
    "duration": 4,
    "start_time": "2023-02-04T15:06:42.209Z"
   },
   {
    "duration": 4,
    "start_time": "2023-02-04T15:06:51.001Z"
   },
   {
    "duration": 12,
    "start_time": "2023-02-04T15:39:04.208Z"
   },
   {
    "duration": 4,
    "start_time": "2023-02-04T15:39:11.948Z"
   },
   {
    "duration": 2,
    "start_time": "2023-02-04T15:39:18.858Z"
   },
   {
    "duration": 42,
    "start_time": "2023-02-04T15:39:19.165Z"
   },
   {
    "duration": 3,
    "start_time": "2023-02-04T15:39:24.327Z"
   },
   {
    "duration": 15,
    "start_time": "2023-02-04T15:39:25.234Z"
   },
   {
    "duration": 8,
    "start_time": "2023-02-04T15:39:29.842Z"
   },
   {
    "duration": 7,
    "start_time": "2023-02-04T15:39:40.582Z"
   },
   {
    "duration": 13,
    "start_time": "2023-02-04T15:39:46.468Z"
   },
   {
    "duration": 6,
    "start_time": "2023-02-04T15:42:01.004Z"
   },
   {
    "duration": 12,
    "start_time": "2023-02-04T15:42:02.835Z"
   },
   {
    "duration": 5,
    "start_time": "2023-02-04T15:42:10.270Z"
   },
   {
    "duration": 13,
    "start_time": "2023-02-04T15:42:14.965Z"
   },
   {
    "duration": 96,
    "start_time": "2023-02-04T15:57:29.179Z"
   },
   {
    "duration": 5,
    "start_time": "2023-02-04T15:59:36.350Z"
   },
   {
    "duration": 21,
    "start_time": "2023-02-04T15:59:42.179Z"
   },
   {
    "duration": 13,
    "start_time": "2023-02-04T16:00:55.707Z"
   },
   {
    "duration": 18,
    "start_time": "2023-02-04T16:00:59.179Z"
   },
   {
    "duration": 5,
    "start_time": "2023-02-04T16:01:52.649Z"
   },
   {
    "duration": 9,
    "start_time": "2023-02-04T16:01:53.738Z"
   },
   {
    "duration": 14,
    "start_time": "2023-02-04T16:02:04.760Z"
   },
   {
    "duration": 14,
    "start_time": "2023-02-04T16:02:14.651Z"
   },
   {
    "duration": 50,
    "start_time": "2023-02-04T16:02:36.050Z"
   },
   {
    "duration": 10,
    "start_time": "2023-02-04T16:02:40.267Z"
   },
   {
    "duration": 14,
    "start_time": "2023-02-04T16:03:08.849Z"
   },
   {
    "duration": 15,
    "start_time": "2023-02-04T16:03:13.778Z"
   },
   {
    "duration": 12,
    "start_time": "2023-02-04T16:03:28.398Z"
   },
   {
    "duration": 22,
    "start_time": "2023-02-04T16:03:53.181Z"
   },
   {
    "duration": 15,
    "start_time": "2023-02-04T16:04:25.176Z"
   },
   {
    "duration": 17,
    "start_time": "2023-02-04T16:04:36.161Z"
   },
   {
    "duration": 799,
    "start_time": "2023-02-04T16:05:58.243Z"
   },
   {
    "duration": 6,
    "start_time": "2023-02-04T16:06:06.347Z"
   },
   {
    "duration": 51,
    "start_time": "2023-02-05T17:44:11.188Z"
   },
   {
    "duration": 397,
    "start_time": "2023-02-05T17:44:21.675Z"
   },
   {
    "duration": 75,
    "start_time": "2023-02-05T17:44:22.075Z"
   },
   {
    "duration": 4,
    "start_time": "2023-02-05T17:44:22.152Z"
   },
   {
    "duration": 23,
    "start_time": "2023-02-05T17:44:22.157Z"
   },
   {
    "duration": 9,
    "start_time": "2023-02-05T17:44:22.182Z"
   },
   {
    "duration": 11,
    "start_time": "2023-02-05T17:44:22.193Z"
   },
   {
    "duration": 6,
    "start_time": "2023-02-05T17:44:22.206Z"
   },
   {
    "duration": 29,
    "start_time": "2023-02-05T17:44:22.214Z"
   },
   {
    "duration": 8,
    "start_time": "2023-02-05T17:44:22.244Z"
   },
   {
    "duration": 82,
    "start_time": "2023-02-05T17:44:22.253Z"
   },
   {
    "duration": 11,
    "start_time": "2023-02-05T17:44:22.337Z"
   },
   {
    "duration": 9,
    "start_time": "2023-02-05T17:44:22.349Z"
   },
   {
    "duration": 28,
    "start_time": "2023-02-05T17:44:22.360Z"
   },
   {
    "duration": 573,
    "start_time": "2023-02-05T17:44:26.032Z"
   },
   {
    "duration": 48,
    "start_time": "2023-02-05T17:44:37.705Z"
   },
   {
    "duration": 463,
    "start_time": "2023-02-05T17:44:56.408Z"
   },
   {
    "duration": 380,
    "start_time": "2023-02-05T17:45:09.096Z"
   },
   {
    "duration": 4,
    "start_time": "2023-02-05T17:47:21.769Z"
   },
   {
    "duration": 31,
    "start_time": "2023-02-05T17:47:47.372Z"
   },
   {
    "duration": 12,
    "start_time": "2023-02-05T17:50:04.332Z"
   },
   {
    "duration": 9,
    "start_time": "2023-02-05T17:50:32.995Z"
   },
   {
    "duration": 8,
    "start_time": "2023-02-05T17:50:52.339Z"
   },
   {
    "duration": 8,
    "start_time": "2023-02-05T17:51:08.144Z"
   },
   {
    "duration": 18,
    "start_time": "2023-02-05T17:51:13.817Z"
   },
   {
    "duration": 7,
    "start_time": "2023-02-05T17:51:18.812Z"
   },
   {
    "duration": 11,
    "start_time": "2023-02-05T17:51:21.772Z"
   },
   {
    "duration": 50,
    "start_time": "2023-02-05T17:51:33.237Z"
   },
   {
    "duration": 87,
    "start_time": "2023-02-05T17:52:51.538Z"
   },
   {
    "duration": 79,
    "start_time": "2023-02-05T17:52:54.996Z"
   },
   {
    "duration": 23,
    "start_time": "2023-02-05T17:53:16.832Z"
   },
   {
    "duration": 60,
    "start_time": "2023-02-06T17:12:37.074Z"
   },
   {
    "duration": 372,
    "start_time": "2023-02-06T17:12:42.976Z"
   },
   {
    "duration": 131,
    "start_time": "2023-02-06T17:12:43.351Z"
   },
   {
    "duration": 4,
    "start_time": "2023-02-06T17:12:43.484Z"
   },
   {
    "duration": 21,
    "start_time": "2023-02-06T17:12:43.490Z"
   },
   {
    "duration": 12,
    "start_time": "2023-02-06T17:12:43.513Z"
   },
   {
    "duration": 18,
    "start_time": "2023-02-06T17:12:43.527Z"
   },
   {
    "duration": 31,
    "start_time": "2023-02-06T17:12:43.547Z"
   },
   {
    "duration": 23,
    "start_time": "2023-02-06T17:12:43.580Z"
   },
   {
    "duration": 9,
    "start_time": "2023-02-06T17:12:43.605Z"
   },
   {
    "duration": 185,
    "start_time": "2023-02-06T17:12:43.617Z"
   },
   {
    "duration": 10,
    "start_time": "2023-02-06T17:12:43.803Z"
   },
   {
    "duration": 28,
    "start_time": "2023-02-06T17:12:43.814Z"
   },
   {
    "duration": 20,
    "start_time": "2023-02-06T17:12:43.844Z"
   },
   {
    "duration": 1713,
    "start_time": "2023-02-06T17:12:43.866Z"
   },
   {
    "duration": 86,
    "start_time": "2023-02-06T17:12:45.581Z"
   },
   {
    "duration": 96,
    "start_time": "2023-02-06T17:12:45.669Z"
   },
   {
    "duration": 18,
    "start_time": "2023-02-06T17:12:45.768Z"
   },
   {
    "duration": 39,
    "start_time": "2023-02-06T17:18:24.795Z"
   },
   {
    "duration": 13,
    "start_time": "2023-02-06T17:18:34.235Z"
   },
   {
    "duration": 70,
    "start_time": "2023-02-06T17:19:59.790Z"
   },
   {
    "duration": 3,
    "start_time": "2023-02-06T17:20:26.263Z"
   },
   {
    "duration": 14,
    "start_time": "2023-02-06T17:20:33.536Z"
   },
   {
    "duration": 71,
    "start_time": "2023-02-06T17:21:32.865Z"
   },
   {
    "duration": 84,
    "start_time": "2023-02-06T17:22:02.547Z"
   },
   {
    "duration": 75,
    "start_time": "2023-02-06T17:22:22.643Z"
   },
   {
    "duration": 12,
    "start_time": "2023-02-06T17:22:32.156Z"
   },
   {
    "duration": 15,
    "start_time": "2023-02-06T17:24:18.786Z"
   },
   {
    "duration": 12,
    "start_time": "2023-02-06T17:24:27.622Z"
   },
   {
    "duration": 14,
    "start_time": "2023-02-06T17:26:38.621Z"
   },
   {
    "duration": 13,
    "start_time": "2023-02-06T17:27:45.544Z"
   },
   {
    "duration": 23,
    "start_time": "2023-02-06T17:27:49.437Z"
   },
   {
    "duration": 17,
    "start_time": "2023-02-06T17:28:03.588Z"
   },
   {
    "duration": 4,
    "start_time": "2023-02-06T17:28:19.656Z"
   },
   {
    "duration": 39,
    "start_time": "2023-02-06T17:28:19.661Z"
   },
   {
    "duration": 4,
    "start_time": "2023-02-06T17:28:19.702Z"
   },
   {
    "duration": 19,
    "start_time": "2023-02-06T17:28:19.708Z"
   },
   {
    "duration": 12,
    "start_time": "2023-02-06T17:28:19.728Z"
   },
   {
    "duration": 55,
    "start_time": "2023-02-06T17:28:19.741Z"
   },
   {
    "duration": 9,
    "start_time": "2023-02-06T17:28:19.798Z"
   },
   {
    "duration": 17,
    "start_time": "2023-02-06T17:28:19.809Z"
   },
   {
    "duration": 7,
    "start_time": "2023-02-06T17:28:19.829Z"
   },
   {
    "duration": 77,
    "start_time": "2023-02-06T17:28:19.838Z"
   },
   {
    "duration": 10,
    "start_time": "2023-02-06T17:28:19.916Z"
   },
   {
    "duration": 10,
    "start_time": "2023-02-06T17:28:19.927Z"
   },
   {
    "duration": 14,
    "start_time": "2023-02-06T17:28:19.938Z"
   },
   {
    "duration": 24,
    "start_time": "2023-02-06T17:28:19.954Z"
   },
   {
    "duration": 15,
    "start_time": "2023-02-06T17:28:19.980Z"
   },
   {
    "duration": 351,
    "start_time": "2023-02-06T17:28:19.997Z"
   },
   {
    "duration": 48,
    "start_time": "2023-02-06T17:28:20.349Z"
   },
   {
    "duration": 82,
    "start_time": "2023-02-06T17:28:20.398Z"
   },
   {
    "duration": 84,
    "start_time": "2023-02-06T17:29:10.494Z"
   },
   {
    "duration": 4,
    "start_time": "2023-02-06T17:29:20.530Z"
   },
   {
    "duration": 8,
    "start_time": "2023-02-06T17:30:06.383Z"
   },
   {
    "duration": 5,
    "start_time": "2023-02-06T17:30:09.977Z"
   },
   {
    "duration": 11,
    "start_time": "2023-02-06T17:30:32.363Z"
   },
   {
    "duration": 5,
    "start_time": "2023-02-06T17:31:30.581Z"
   },
   {
    "duration": 10,
    "start_time": "2023-02-06T17:31:33.294Z"
   },
   {
    "duration": 7,
    "start_time": "2023-02-06T17:32:02.181Z"
   },
   {
    "duration": 7,
    "start_time": "2023-02-06T17:42:30.761Z"
   },
   {
    "duration": 6,
    "start_time": "2023-02-06T17:43:06.930Z"
   },
   {
    "duration": 2,
    "start_time": "2023-02-06T17:44:36.084Z"
   },
   {
    "duration": 86,
    "start_time": "2023-02-06T17:44:41.217Z"
   },
   {
    "duration": 8,
    "start_time": "2023-02-06T17:44:59.649Z"
   },
   {
    "duration": 89,
    "start_time": "2023-02-06T17:45:52.718Z"
   },
   {
    "duration": 118,
    "start_time": "2023-02-06T17:46:00.019Z"
   },
   {
    "duration": 3,
    "start_time": "2023-02-06T17:51:00.126Z"
   },
   {
    "duration": 402,
    "start_time": "2023-02-07T10:27:05.028Z"
   },
   {
    "duration": 102,
    "start_time": "2023-02-07T10:27:05.432Z"
   },
   {
    "duration": 4,
    "start_time": "2023-02-07T10:27:05.536Z"
   },
   {
    "duration": 25,
    "start_time": "2023-02-07T10:27:05.543Z"
   },
   {
    "duration": 19,
    "start_time": "2023-02-07T10:27:05.570Z"
   },
   {
    "duration": 20,
    "start_time": "2023-02-07T10:27:05.590Z"
   },
   {
    "duration": 13,
    "start_time": "2023-02-07T10:27:05.612Z"
   },
   {
    "duration": 16,
    "start_time": "2023-02-07T10:27:05.626Z"
   },
   {
    "duration": 7,
    "start_time": "2023-02-07T10:27:05.644Z"
   },
   {
    "duration": 156,
    "start_time": "2023-02-07T10:27:05.654Z"
   },
   {
    "duration": 11,
    "start_time": "2023-02-07T10:27:05.812Z"
   },
   {
    "duration": 12,
    "start_time": "2023-02-07T10:27:05.825Z"
   },
   {
    "duration": 21,
    "start_time": "2023-02-07T10:27:05.839Z"
   },
   {
    "duration": 30,
    "start_time": "2023-02-07T10:27:05.862Z"
   },
   {
    "duration": 16,
    "start_time": "2023-02-07T10:27:05.894Z"
   },
   {
    "duration": 8,
    "start_time": "2023-02-07T10:27:05.912Z"
   },
   {
    "duration": 31,
    "start_time": "2023-02-07T10:27:05.922Z"
   },
   {
    "duration": 1414,
    "start_time": "2023-02-07T10:27:05.954Z"
   },
   {
    "duration": 58,
    "start_time": "2023-02-07T10:27:07.370Z"
   },
   {
    "duration": 90,
    "start_time": "2023-02-07T10:27:07.429Z"
   },
   {
    "duration": 167,
    "start_time": "2023-02-07T10:27:07.520Z"
   },
   {
    "duration": 4,
    "start_time": "2023-02-07T11:00:43.883Z"
   },
   {
    "duration": 12,
    "start_time": "2023-02-07T11:00:50.941Z"
   },
   {
    "duration": 22,
    "start_time": "2023-02-07T11:01:18.793Z"
   },
   {
    "duration": 4,
    "start_time": "2023-02-07T11:02:07.766Z"
   },
   {
    "duration": 12,
    "start_time": "2023-02-07T11:02:12.846Z"
   },
   {
    "duration": 4,
    "start_time": "2023-02-07T11:06:06.010Z"
   },
   {
    "duration": 14,
    "start_time": "2023-02-07T11:06:12.066Z"
   },
   {
    "duration": 4,
    "start_time": "2023-02-07T11:07:28.607Z"
   },
   {
    "duration": 15,
    "start_time": "2023-02-07T11:07:33.615Z"
   },
   {
    "duration": 14,
    "start_time": "2023-02-07T11:07:41.752Z"
   },
   {
    "duration": 17,
    "start_time": "2023-02-07T11:07:52.549Z"
   },
   {
    "duration": 7,
    "start_time": "2023-02-07T11:08:02.372Z"
   },
   {
    "duration": 15,
    "start_time": "2023-02-07T11:08:12.845Z"
   },
   {
    "duration": 3,
    "start_time": "2023-02-07T11:08:33.772Z"
   },
   {
    "duration": 36,
    "start_time": "2023-02-07T11:08:33.777Z"
   },
   {
    "duration": 3,
    "start_time": "2023-02-07T11:08:33.815Z"
   },
   {
    "duration": 20,
    "start_time": "2023-02-07T11:08:33.820Z"
   },
   {
    "duration": 32,
    "start_time": "2023-02-07T11:08:33.841Z"
   },
   {
    "duration": 21,
    "start_time": "2023-02-07T11:08:33.875Z"
   },
   {
    "duration": 14,
    "start_time": "2023-02-07T11:08:33.897Z"
   },
   {
    "duration": 17,
    "start_time": "2023-02-07T11:08:33.913Z"
   },
   {
    "duration": 15,
    "start_time": "2023-02-07T11:08:33.933Z"
   },
   {
    "duration": 48,
    "start_time": "2023-02-07T11:08:33.949Z"
   },
   {
    "duration": 10,
    "start_time": "2023-02-07T11:08:33.998Z"
   },
   {
    "duration": 10,
    "start_time": "2023-02-07T11:08:34.009Z"
   },
   {
    "duration": 19,
    "start_time": "2023-02-07T11:08:34.020Z"
   },
   {
    "duration": 16,
    "start_time": "2023-02-07T11:08:34.040Z"
   },
   {
    "duration": 16,
    "start_time": "2023-02-07T11:08:34.058Z"
   },
   {
    "duration": 6,
    "start_time": "2023-02-07T11:08:34.091Z"
   },
   {
    "duration": 24,
    "start_time": "2023-02-07T11:08:34.099Z"
   },
   {
    "duration": 330,
    "start_time": "2023-02-07T11:08:34.125Z"
   },
   {
    "duration": 86,
    "start_time": "2023-02-07T11:08:34.457Z"
   },
   {
    "duration": 75,
    "start_time": "2023-02-07T11:08:34.545Z"
   },
   {
    "duration": 17,
    "start_time": "2023-02-07T11:08:34.622Z"
   },
   {
    "duration": 16,
    "start_time": "2023-02-07T11:08:34.641Z"
   },
   {
    "duration": 6,
    "start_time": "2023-02-07T11:10:52.025Z"
   },
   {
    "duration": 6,
    "start_time": "2023-02-07T11:11:37.144Z"
   },
   {
    "duration": 18,
    "start_time": "2023-02-07T11:11:43.659Z"
   },
   {
    "duration": 14,
    "start_time": "2023-02-07T11:12:05.502Z"
   },
   {
    "duration": 15,
    "start_time": "2023-02-07T11:12:36.942Z"
   },
   {
    "duration": 4,
    "start_time": "2023-02-07T11:13:03.411Z"
   },
   {
    "duration": 4,
    "start_time": "2023-02-07T11:13:08.153Z"
   },
   {
    "duration": 15,
    "start_time": "2023-02-07T11:13:17.329Z"
   },
   {
    "duration": 14,
    "start_time": "2023-02-07T11:13:30.808Z"
   },
   {
    "duration": 3,
    "start_time": "2023-02-07T11:14:18.498Z"
   },
   {
    "duration": 56,
    "start_time": "2023-02-07T11:14:18.503Z"
   },
   {
    "duration": 5,
    "start_time": "2023-02-07T11:14:18.561Z"
   },
   {
    "duration": 16,
    "start_time": "2023-02-07T11:14:18.567Z"
   },
   {
    "duration": 21,
    "start_time": "2023-02-07T11:14:18.585Z"
   },
   {
    "duration": 15,
    "start_time": "2023-02-07T11:14:18.608Z"
   },
   {
    "duration": 10,
    "start_time": "2023-02-07T11:14:18.625Z"
   },
   {
    "duration": 23,
    "start_time": "2023-02-07T11:14:18.636Z"
   },
   {
    "duration": 8,
    "start_time": "2023-02-07T11:14:18.661Z"
   },
   {
    "duration": 72,
    "start_time": "2023-02-07T11:14:18.671Z"
   },
   {
    "duration": 10,
    "start_time": "2023-02-07T11:14:18.744Z"
   },
   {
    "duration": 9,
    "start_time": "2023-02-07T11:14:18.757Z"
   },
   {
    "duration": 12,
    "start_time": "2023-02-07T11:14:18.769Z"
   },
   {
    "duration": 12,
    "start_time": "2023-02-07T11:14:18.783Z"
   },
   {
    "duration": 20,
    "start_time": "2023-02-07T11:14:18.797Z"
   },
   {
    "duration": 7,
    "start_time": "2023-02-07T11:14:18.819Z"
   },
   {
    "duration": 20,
    "start_time": "2023-02-07T11:14:18.828Z"
   },
   {
    "duration": 322,
    "start_time": "2023-02-07T11:14:18.849Z"
   },
   {
    "duration": 48,
    "start_time": "2023-02-07T11:14:19.173Z"
   },
   {
    "duration": 71,
    "start_time": "2023-02-07T11:14:19.223Z"
   },
   {
    "duration": 16,
    "start_time": "2023-02-07T11:14:19.296Z"
   },
   {
    "duration": 24,
    "start_time": "2023-02-07T11:14:19.313Z"
   },
   {
    "duration": 377,
    "start_time": "2023-02-07T11:17:00.932Z"
   },
   {
    "duration": 284,
    "start_time": "2023-02-07T11:17:49.976Z"
   },
   {
    "duration": 173,
    "start_time": "2023-02-07T11:19:46.344Z"
   },
   {
    "duration": 167,
    "start_time": "2023-02-07T11:21:27.063Z"
   },
   {
    "duration": 247,
    "start_time": "2023-02-07T11:23:11.317Z"
   },
   {
    "duration": 231,
    "start_time": "2023-02-07T11:27:44.650Z"
   },
   {
    "duration": 185,
    "start_time": "2023-02-07T11:27:50.959Z"
   },
   {
    "duration": 90,
    "start_time": "2023-02-07T11:27:58.833Z"
   },
   {
    "duration": 146,
    "start_time": "2023-02-07T11:28:01.217Z"
   },
   {
    "duration": 222,
    "start_time": "2023-02-07T11:28:21.675Z"
   },
   {
    "duration": 171,
    "start_time": "2023-02-07T11:29:03.177Z"
   },
   {
    "duration": 169,
    "start_time": "2023-02-07T11:43:29.034Z"
   },
   {
    "duration": 46,
    "start_time": "2023-02-07T15:45:04.641Z"
   },
   {
    "duration": 812,
    "start_time": "2023-02-07T15:45:17.894Z"
   },
   {
    "duration": 68,
    "start_time": "2023-02-07T15:45:18.708Z"
   },
   {
    "duration": 3,
    "start_time": "2023-02-07T15:45:18.778Z"
   },
   {
    "duration": 14,
    "start_time": "2023-02-07T15:45:18.783Z"
   },
   {
    "duration": 8,
    "start_time": "2023-02-07T15:45:18.799Z"
   },
   {
    "duration": 11,
    "start_time": "2023-02-07T15:45:18.808Z"
   },
   {
    "duration": 6,
    "start_time": "2023-02-07T15:45:18.821Z"
   },
   {
    "duration": 34,
    "start_time": "2023-02-07T15:45:18.828Z"
   },
   {
    "duration": 11,
    "start_time": "2023-02-07T15:45:18.863Z"
   },
   {
    "duration": 81,
    "start_time": "2023-02-07T15:45:18.875Z"
   },
   {
    "duration": 9,
    "start_time": "2023-02-07T15:45:18.958Z"
   },
   {
    "duration": 6,
    "start_time": "2023-02-07T15:45:18.969Z"
   },
   {
    "duration": 10,
    "start_time": "2023-02-07T15:45:18.977Z"
   },
   {
    "duration": 11,
    "start_time": "2023-02-07T15:45:18.989Z"
   },
   {
    "duration": 56,
    "start_time": "2023-02-07T15:45:19.001Z"
   },
   {
    "duration": 6,
    "start_time": "2023-02-07T15:45:19.058Z"
   },
   {
    "duration": 29,
    "start_time": "2023-02-07T15:45:19.065Z"
   },
   {
    "duration": 483,
    "start_time": "2023-02-07T15:45:19.095Z"
   },
   {
    "duration": 58,
    "start_time": "2023-02-07T15:45:19.579Z"
   },
   {
    "duration": 83,
    "start_time": "2023-02-07T15:45:19.638Z"
   },
   {
    "duration": 31,
    "start_time": "2023-02-07T15:45:19.722Z"
   },
   {
    "duration": 21,
    "start_time": "2023-02-07T15:45:19.755Z"
   },
   {
    "duration": 267,
    "start_time": "2023-02-07T15:45:19.779Z"
   },
   {
    "duration": 17,
    "start_time": "2023-02-07T15:45:20.048Z"
   },
   {
    "duration": 19,
    "start_time": "2023-02-07T15:45:20.068Z"
   },
   {
    "duration": 22,
    "start_time": "2023-02-07T15:46:32.040Z"
   },
   {
    "duration": 20,
    "start_time": "2023-02-07T15:46:36.939Z"
   },
   {
    "duration": 18,
    "start_time": "2023-02-07T15:46:55.027Z"
   },
   {
    "duration": 11,
    "start_time": "2023-02-07T15:47:41.418Z"
   },
   {
    "duration": 3,
    "start_time": "2023-02-07T15:47:46.798Z"
   },
   {
    "duration": 35,
    "start_time": "2023-02-07T15:47:46.802Z"
   },
   {
    "duration": 4,
    "start_time": "2023-02-07T15:47:46.838Z"
   },
   {
    "duration": 13,
    "start_time": "2023-02-07T15:47:46.844Z"
   },
   {
    "duration": 7,
    "start_time": "2023-02-07T15:47:46.859Z"
   },
   {
    "duration": 16,
    "start_time": "2023-02-07T15:47:46.867Z"
   },
   {
    "duration": 6,
    "start_time": "2023-02-07T15:47:46.885Z"
   },
   {
    "duration": 11,
    "start_time": "2023-02-07T15:47:46.893Z"
   },
   {
    "duration": 6,
    "start_time": "2023-02-07T15:47:46.907Z"
   },
   {
    "duration": 48,
    "start_time": "2023-02-07T15:47:46.914Z"
   },
   {
    "duration": 10,
    "start_time": "2023-02-07T15:47:46.964Z"
   },
   {
    "duration": 8,
    "start_time": "2023-02-07T15:47:46.976Z"
   },
   {
    "duration": 11,
    "start_time": "2023-02-07T15:47:46.986Z"
   },
   {
    "duration": 13,
    "start_time": "2023-02-07T15:47:46.998Z"
   },
   {
    "duration": 54,
    "start_time": "2023-02-07T15:47:47.013Z"
   },
   {
    "duration": 8,
    "start_time": "2023-02-07T15:47:47.069Z"
   },
   {
    "duration": 14,
    "start_time": "2023-02-07T15:47:47.079Z"
   },
   {
    "duration": 391,
    "start_time": "2023-02-07T15:47:47.095Z"
   },
   {
    "duration": 74,
    "start_time": "2023-02-07T15:47:47.487Z"
   },
   {
    "duration": 118,
    "start_time": "2023-02-07T15:47:47.563Z"
   },
   {
    "duration": 23,
    "start_time": "2023-02-07T15:47:47.683Z"
   },
   {
    "duration": 46,
    "start_time": "2023-02-07T15:47:47.708Z"
   },
   {
    "duration": 184,
    "start_time": "2023-02-07T15:47:47.756Z"
   },
   {
    "duration": 23,
    "start_time": "2023-02-07T15:47:47.943Z"
   },
   {
    "duration": 16,
    "start_time": "2023-02-07T15:47:47.967Z"
   },
   {
    "duration": 20,
    "start_time": "2023-02-07T15:48:52.416Z"
   },
   {
    "duration": 170,
    "start_time": "2023-02-07T15:49:42.113Z"
   },
   {
    "duration": 749,
    "start_time": "2023-02-07T19:14:10.415Z"
   },
   {
    "duration": 95,
    "start_time": "2023-02-07T19:14:11.166Z"
   },
   {
    "duration": 4,
    "start_time": "2023-02-07T19:14:11.262Z"
   },
   {
    "duration": 14,
    "start_time": "2023-02-07T19:14:11.268Z"
   },
   {
    "duration": 8,
    "start_time": "2023-02-07T19:14:11.284Z"
   },
   {
    "duration": 13,
    "start_time": "2023-02-07T19:14:11.294Z"
   },
   {
    "duration": 7,
    "start_time": "2023-02-07T19:14:11.308Z"
   },
   {
    "duration": 13,
    "start_time": "2023-02-07T19:14:11.316Z"
   },
   {
    "duration": 11,
    "start_time": "2023-02-07T19:14:11.330Z"
   },
   {
    "duration": 156,
    "start_time": "2023-02-07T19:14:11.344Z"
   },
   {
    "duration": 9,
    "start_time": "2023-02-07T19:14:11.502Z"
   },
   {
    "duration": 22,
    "start_time": "2023-02-07T19:14:11.512Z"
   },
   {
    "duration": 32,
    "start_time": "2023-02-07T19:14:11.536Z"
   },
   {
    "duration": 16,
    "start_time": "2023-02-07T19:14:11.569Z"
   },
   {
    "duration": 14,
    "start_time": "2023-02-07T19:14:11.586Z"
   },
   {
    "duration": 4,
    "start_time": "2023-02-07T19:14:11.602Z"
   },
   {
    "duration": 11,
    "start_time": "2023-02-07T19:14:11.608Z"
   },
   {
    "duration": 1438,
    "start_time": "2023-02-07T19:14:11.621Z"
   },
   {
    "duration": 43,
    "start_time": "2023-02-07T19:14:13.061Z"
   },
   {
    "duration": 76,
    "start_time": "2023-02-07T19:14:13.105Z"
   },
   {
    "duration": 22,
    "start_time": "2023-02-07T19:14:13.182Z"
   },
   {
    "duration": 15,
    "start_time": "2023-02-07T19:14:13.206Z"
   },
   {
    "duration": 271,
    "start_time": "2023-02-07T19:14:13.222Z"
   },
   {
    "duration": 21,
    "start_time": "2023-02-07T19:14:13.495Z"
   },
   {
    "duration": 17,
    "start_time": "2023-02-07T19:14:13.518Z"
   },
   {
    "duration": 198,
    "start_time": "2023-02-07T19:14:13.537Z"
   },
   {
    "duration": 8,
    "start_time": "2023-02-07T19:32:06.685Z"
   },
   {
    "duration": 23,
    "start_time": "2023-02-07T19:32:51.600Z"
   },
   {
    "duration": 55,
    "start_time": "2023-02-07T20:53:56.588Z"
   },
   {
    "duration": 550,
    "start_time": "2023-02-07T20:54:03.353Z"
   },
   {
    "duration": 35,
    "start_time": "2023-02-07T20:54:03.905Z"
   },
   {
    "duration": 5,
    "start_time": "2023-02-07T20:54:03.941Z"
   },
   {
    "duration": 12,
    "start_time": "2023-02-07T20:54:03.947Z"
   },
   {
    "duration": 11,
    "start_time": "2023-02-07T20:54:03.961Z"
   },
   {
    "duration": 13,
    "start_time": "2023-02-07T20:54:03.974Z"
   },
   {
    "duration": 7,
    "start_time": "2023-02-07T20:54:03.989Z"
   },
   {
    "duration": 16,
    "start_time": "2023-02-07T20:54:03.997Z"
   },
   {
    "duration": 8,
    "start_time": "2023-02-07T20:54:04.015Z"
   },
   {
    "duration": 55,
    "start_time": "2023-02-07T20:54:04.025Z"
   },
   {
    "duration": 9,
    "start_time": "2023-02-07T20:54:04.082Z"
   },
   {
    "duration": 8,
    "start_time": "2023-02-07T20:54:04.093Z"
   },
   {
    "duration": 10,
    "start_time": "2023-02-07T20:54:04.103Z"
   },
   {
    "duration": 11,
    "start_time": "2023-02-07T20:54:04.115Z"
   },
   {
    "duration": 14,
    "start_time": "2023-02-07T20:54:04.127Z"
   },
   {
    "duration": 10,
    "start_time": "2023-02-07T20:54:04.143Z"
   },
   {
    "duration": 37,
    "start_time": "2023-02-07T20:54:04.154Z"
   },
   {
    "duration": 341,
    "start_time": "2023-02-07T20:54:04.193Z"
   },
   {
    "duration": 56,
    "start_time": "2023-02-07T20:54:04.536Z"
   },
   {
    "duration": 87,
    "start_time": "2023-02-07T20:54:04.594Z"
   },
   {
    "duration": 21,
    "start_time": "2023-02-07T20:54:04.683Z"
   },
   {
    "duration": 22,
    "start_time": "2023-02-07T20:54:04.706Z"
   },
   {
    "duration": 254,
    "start_time": "2023-02-07T20:54:04.730Z"
   },
   {
    "duration": 21,
    "start_time": "2023-02-07T20:54:04.986Z"
   },
   {
    "duration": 15,
    "start_time": "2023-02-07T20:54:05.009Z"
   },
   {
    "duration": 184,
    "start_time": "2023-02-07T20:54:05.026Z"
   },
   {
    "duration": 171,
    "start_time": "2023-02-07T20:54:05.211Z"
   },
   {
    "duration": 18,
    "start_time": "2023-02-07T20:58:41.742Z"
   },
   {
    "duration": 6,
    "start_time": "2023-02-07T20:58:48.334Z"
   },
   {
    "duration": 16,
    "start_time": "2023-02-07T20:58:57.190Z"
   },
   {
    "duration": 13,
    "start_time": "2023-02-07T20:59:34.546Z"
   },
   {
    "duration": 12,
    "start_time": "2023-02-07T21:00:17.355Z"
   },
   {
    "duration": 47,
    "start_time": "2023-02-09T19:30:51.975Z"
   },
   {
    "duration": 751,
    "start_time": "2023-02-09T19:31:13.008Z"
   },
   {
    "duration": 87,
    "start_time": "2023-02-09T19:31:13.761Z"
   },
   {
    "duration": 4,
    "start_time": "2023-02-09T19:31:13.849Z"
   },
   {
    "duration": 14,
    "start_time": "2023-02-09T19:31:13.854Z"
   },
   {
    "duration": 7,
    "start_time": "2023-02-09T19:31:13.870Z"
   },
   {
    "duration": 11,
    "start_time": "2023-02-09T19:31:13.879Z"
   },
   {
    "duration": 7,
    "start_time": "2023-02-09T19:31:13.892Z"
   },
   {
    "duration": 12,
    "start_time": "2023-02-09T19:31:13.900Z"
   },
   {
    "duration": 11,
    "start_time": "2023-02-09T19:31:13.913Z"
   },
   {
    "duration": 93,
    "start_time": "2023-02-09T19:31:13.949Z"
   },
   {
    "duration": 11,
    "start_time": "2023-02-09T19:31:14.043Z"
   },
   {
    "duration": 9,
    "start_time": "2023-02-09T19:31:14.056Z"
   },
   {
    "duration": 10,
    "start_time": "2023-02-09T19:31:14.066Z"
   },
   {
    "duration": 10,
    "start_time": "2023-02-09T19:31:14.077Z"
   },
   {
    "duration": 16,
    "start_time": "2023-02-09T19:31:14.089Z"
   },
   {
    "duration": 7,
    "start_time": "2023-02-09T19:31:14.106Z"
   },
   {
    "duration": 11,
    "start_time": "2023-02-09T19:31:14.148Z"
   },
   {
    "duration": 1001,
    "start_time": "2023-02-09T19:31:14.161Z"
   },
   {
    "duration": 48,
    "start_time": "2023-02-09T19:31:15.164Z"
   },
   {
    "duration": 83,
    "start_time": "2023-02-09T19:31:15.214Z"
   },
   {
    "duration": 15,
    "start_time": "2023-02-09T19:31:15.299Z"
   },
   {
    "duration": 17,
    "start_time": "2023-02-09T19:31:15.315Z"
   },
   {
    "duration": 47,
    "start_time": "2023-02-09T19:31:15.333Z"
   },
   {
    "duration": 0,
    "start_time": "2023-02-09T19:31:15.381Z"
   },
   {
    "duration": 0,
    "start_time": "2023-02-09T19:31:15.382Z"
   },
   {
    "duration": 0,
    "start_time": "2023-02-09T19:31:15.383Z"
   },
   {
    "duration": 0,
    "start_time": "2023-02-09T19:31:15.384Z"
   },
   {
    "duration": 0,
    "start_time": "2023-02-09T19:31:15.385Z"
   },
   {
    "duration": 0,
    "start_time": "2023-02-09T19:31:15.386Z"
   },
   {
    "duration": 0,
    "start_time": "2023-02-09T19:31:15.387Z"
   },
   {
    "duration": 2,
    "start_time": "2023-02-09T19:31:46.744Z"
   },
   {
    "duration": 30,
    "start_time": "2023-02-09T19:31:46.756Z"
   },
   {
    "duration": 3,
    "start_time": "2023-02-09T19:31:46.787Z"
   },
   {
    "duration": 12,
    "start_time": "2023-02-09T19:31:46.792Z"
   },
   {
    "duration": 9,
    "start_time": "2023-02-09T19:31:46.805Z"
   },
   {
    "duration": 11,
    "start_time": "2023-02-09T19:31:46.816Z"
   },
   {
    "duration": 5,
    "start_time": "2023-02-09T19:31:46.828Z"
   },
   {
    "duration": 11,
    "start_time": "2023-02-09T19:31:46.835Z"
   },
   {
    "duration": 6,
    "start_time": "2023-02-09T19:31:46.848Z"
   },
   {
    "duration": 49,
    "start_time": "2023-02-09T19:31:46.855Z"
   },
   {
    "duration": 9,
    "start_time": "2023-02-09T19:31:46.905Z"
   },
   {
    "duration": 13,
    "start_time": "2023-02-09T19:31:46.915Z"
   },
   {
    "duration": 10,
    "start_time": "2023-02-09T19:31:46.929Z"
   },
   {
    "duration": 9,
    "start_time": "2023-02-09T19:31:46.940Z"
   },
   {
    "duration": 13,
    "start_time": "2023-02-09T19:31:46.951Z"
   },
   {
    "duration": 4,
    "start_time": "2023-02-09T19:31:46.966Z"
   },
   {
    "duration": 16,
    "start_time": "2023-02-09T19:31:46.971Z"
   },
   {
    "duration": 322,
    "start_time": "2023-02-09T19:31:46.989Z"
   },
   {
    "duration": 43,
    "start_time": "2023-02-09T19:31:47.312Z"
   },
   {
    "duration": 57,
    "start_time": "2023-02-09T19:31:47.356Z"
   },
   {
    "duration": 14,
    "start_time": "2023-02-09T19:31:47.415Z"
   },
   {
    "duration": 29,
    "start_time": "2023-02-09T19:31:50.863Z"
   },
   {
    "duration": 20,
    "start_time": "2023-02-09T19:32:31.567Z"
   },
   {
    "duration": 24,
    "start_time": "2023-02-09T19:33:10.276Z"
   },
   {
    "duration": 251,
    "start_time": "2023-02-09T19:39:54.592Z"
   },
   {
    "duration": 94,
    "start_time": "2023-02-09T19:40:47.207Z"
   },
   {
    "duration": 21,
    "start_time": "2023-02-09T19:41:02.162Z"
   },
   {
    "duration": 20,
    "start_time": "2023-02-09T19:41:17.028Z"
   },
   {
    "duration": 148,
    "start_time": "2023-02-09T19:41:21.479Z"
   },
   {
    "duration": 19,
    "start_time": "2023-02-09T19:43:04.863Z"
   },
   {
    "duration": 20,
    "start_time": "2023-02-09T19:43:36.042Z"
   },
   {
    "duration": 156,
    "start_time": "2023-02-09T19:44:00.399Z"
   },
   {
    "duration": 230,
    "start_time": "2023-02-09T19:48:59.914Z"
   },
   {
    "duration": 5,
    "start_time": "2023-02-09T20:07:01.723Z"
   },
   {
    "duration": 166,
    "start_time": "2023-02-09T20:07:02.960Z"
   },
   {
    "duration": 4,
    "start_time": "2023-02-09T20:07:36.398Z"
   },
   {
    "duration": 5,
    "start_time": "2023-02-09T20:07:45.992Z"
   },
   {
    "duration": 160,
    "start_time": "2023-02-09T20:07:47.074Z"
   },
   {
    "duration": 6,
    "start_time": "2023-02-09T20:10:02.932Z"
   },
   {
    "duration": 167,
    "start_time": "2023-02-09T20:10:04.229Z"
   },
   {
    "duration": 15,
    "start_time": "2023-02-09T20:10:11.961Z"
   },
   {
    "duration": 16,
    "start_time": "2023-02-09T20:18:45.756Z"
   },
   {
    "duration": 163,
    "start_time": "2023-02-09T20:18:46.218Z"
   },
   {
    "duration": 395,
    "start_time": "2023-02-09T20:19:07.895Z"
   },
   {
    "duration": 221,
    "start_time": "2023-02-09T20:20:11.391Z"
   },
   {
    "duration": 241,
    "start_time": "2023-02-09T20:20:25.471Z"
   },
   {
    "duration": 196,
    "start_time": "2023-02-09T20:20:30.052Z"
   },
   {
    "duration": 175,
    "start_time": "2023-02-09T20:20:35.088Z"
   },
   {
    "duration": 162,
    "start_time": "2023-02-09T20:20:41.148Z"
   },
   {
    "duration": 217,
    "start_time": "2023-02-09T20:20:50.099Z"
   },
   {
    "duration": 30,
    "start_time": "2023-02-09T20:26:06.854Z"
   },
   {
    "duration": 14,
    "start_time": "2023-02-09T20:26:18.426Z"
   },
   {
    "duration": 49,
    "start_time": "2023-02-09T20:27:37.153Z"
   },
   {
    "duration": 43,
    "start_time": "2023-02-09T20:27:56.655Z"
   },
   {
    "duration": 100,
    "start_time": "2023-02-09T20:28:01.949Z"
   },
   {
    "duration": 9,
    "start_time": "2023-02-09T20:28:12.467Z"
   },
   {
    "duration": 33,
    "start_time": "2023-02-09T20:29:04.131Z"
   },
   {
    "duration": 10,
    "start_time": "2023-02-09T20:29:05.075Z"
   },
   {
    "duration": 3,
    "start_time": "2023-02-09T20:31:51.099Z"
   },
   {
    "duration": 34,
    "start_time": "2023-02-09T20:31:51.105Z"
   },
   {
    "duration": 3,
    "start_time": "2023-02-09T20:31:51.141Z"
   },
   {
    "duration": 14,
    "start_time": "2023-02-09T20:31:51.146Z"
   },
   {
    "duration": 7,
    "start_time": "2023-02-09T20:31:51.162Z"
   },
   {
    "duration": 16,
    "start_time": "2023-02-09T20:31:51.171Z"
   },
   {
    "duration": 6,
    "start_time": "2023-02-09T20:31:51.188Z"
   },
   {
    "duration": 16,
    "start_time": "2023-02-09T20:31:51.196Z"
   },
   {
    "duration": 5,
    "start_time": "2023-02-09T20:31:51.215Z"
   },
   {
    "duration": 48,
    "start_time": "2023-02-09T20:31:51.221Z"
   },
   {
    "duration": 10,
    "start_time": "2023-02-09T20:31:51.270Z"
   },
   {
    "duration": 8,
    "start_time": "2023-02-09T20:31:51.282Z"
   },
   {
    "duration": 13,
    "start_time": "2023-02-09T20:31:51.291Z"
   },
   {
    "duration": 12,
    "start_time": "2023-02-09T20:31:51.305Z"
   },
   {
    "duration": 30,
    "start_time": "2023-02-09T20:31:51.319Z"
   },
   {
    "duration": 7,
    "start_time": "2023-02-09T20:31:51.351Z"
   },
   {
    "duration": 14,
    "start_time": "2023-02-09T20:31:51.360Z"
   },
   {
    "duration": 330,
    "start_time": "2023-02-09T20:31:51.375Z"
   },
   {
    "duration": 71,
    "start_time": "2023-02-09T20:31:51.707Z"
   },
   {
    "duration": 72,
    "start_time": "2023-02-09T20:31:51.779Z"
   },
   {
    "duration": 21,
    "start_time": "2023-02-09T20:31:51.853Z"
   },
   {
    "duration": 23,
    "start_time": "2023-02-09T20:31:51.875Z"
   },
   {
    "duration": 191,
    "start_time": "2023-02-09T20:31:51.899Z"
   },
   {
    "duration": 21,
    "start_time": "2023-02-09T20:31:52.094Z"
   },
   {
    "duration": 189,
    "start_time": "2023-02-09T20:31:52.117Z"
   },
   {
    "duration": 312,
    "start_time": "2023-02-09T20:31:52.308Z"
   },
   {
    "duration": 32,
    "start_time": "2023-02-09T20:31:52.621Z"
   },
   {
    "duration": 8,
    "start_time": "2023-02-09T20:31:52.655Z"
   },
   {
    "duration": 19,
    "start_time": "2023-02-09T20:32:09.368Z"
   },
   {
    "duration": 10,
    "start_time": "2023-02-09T20:32:11.290Z"
   },
   {
    "duration": 34,
    "start_time": "2023-02-09T20:32:37.468Z"
   },
   {
    "duration": 20,
    "start_time": "2023-02-09T20:33:05.678Z"
   },
   {
    "duration": 9,
    "start_time": "2023-02-09T20:33:07.287Z"
   },
   {
    "duration": 275,
    "start_time": "2023-02-09T20:36:38.085Z"
   },
   {
    "duration": 23,
    "start_time": "2023-02-09T20:39:11.721Z"
   },
   {
    "duration": 162,
    "start_time": "2023-02-09T20:39:19.270Z"
   },
   {
    "duration": 815,
    "start_time": "2023-02-10T16:30:12.248Z"
   },
   {
    "duration": 88,
    "start_time": "2023-02-10T16:30:13.065Z"
   },
   {
    "duration": 4,
    "start_time": "2023-02-10T16:30:13.155Z"
   },
   {
    "duration": 14,
    "start_time": "2023-02-10T16:30:13.162Z"
   },
   {
    "duration": 8,
    "start_time": "2023-02-10T16:30:13.178Z"
   },
   {
    "duration": 15,
    "start_time": "2023-02-10T16:30:13.188Z"
   },
   {
    "duration": 10,
    "start_time": "2023-02-10T16:30:13.205Z"
   },
   {
    "duration": 20,
    "start_time": "2023-02-10T16:30:13.217Z"
   },
   {
    "duration": 9,
    "start_time": "2023-02-10T16:30:13.239Z"
   },
   {
    "duration": 103,
    "start_time": "2023-02-10T16:30:13.251Z"
   },
   {
    "duration": 10,
    "start_time": "2023-02-10T16:30:13.356Z"
   },
   {
    "duration": 10,
    "start_time": "2023-02-10T16:30:13.368Z"
   },
   {
    "duration": 13,
    "start_time": "2023-02-10T16:30:13.380Z"
   },
   {
    "duration": 12,
    "start_time": "2023-02-10T16:30:13.394Z"
   },
   {
    "duration": 30,
    "start_time": "2023-02-10T16:30:13.408Z"
   },
   {
    "duration": 8,
    "start_time": "2023-02-10T16:30:13.440Z"
   },
   {
    "duration": 18,
    "start_time": "2023-02-10T16:30:13.450Z"
   },
   {
    "duration": 71,
    "start_time": "2023-02-10T16:30:13.470Z"
   },
   {
    "duration": 92,
    "start_time": "2023-02-10T16:30:13.542Z"
   },
   {
    "duration": 0,
    "start_time": "2023-02-10T16:30:13.636Z"
   },
   {
    "duration": 0,
    "start_time": "2023-02-10T16:30:13.637Z"
   },
   {
    "duration": 0,
    "start_time": "2023-02-10T16:30:13.638Z"
   },
   {
    "duration": 0,
    "start_time": "2023-02-10T16:30:13.639Z"
   },
   {
    "duration": 0,
    "start_time": "2023-02-10T16:30:13.641Z"
   },
   {
    "duration": 0,
    "start_time": "2023-02-10T16:30:13.642Z"
   },
   {
    "duration": 0,
    "start_time": "2023-02-10T16:30:13.643Z"
   },
   {
    "duration": 0,
    "start_time": "2023-02-10T16:30:13.644Z"
   },
   {
    "duration": 0,
    "start_time": "2023-02-10T16:30:13.646Z"
   },
   {
    "duration": 34,
    "start_time": "2023-02-10T16:30:56.143Z"
   },
   {
    "duration": 12,
    "start_time": "2023-02-10T16:31:36.025Z"
   },
   {
    "duration": 9,
    "start_time": "2023-02-10T16:32:11.629Z"
   },
   {
    "duration": 4,
    "start_time": "2023-02-10T16:32:17.779Z"
   },
   {
    "duration": 308,
    "start_time": "2023-02-10T16:35:07.006Z"
   },
   {
    "duration": 258,
    "start_time": "2023-02-10T16:35:37.191Z"
   },
   {
    "duration": 23,
    "start_time": "2023-02-10T16:35:52.472Z"
   },
   {
    "duration": 9,
    "start_time": "2023-02-10T16:35:54.793Z"
   },
   {
    "duration": 179,
    "start_time": "2023-02-10T16:36:20.292Z"
   },
   {
    "duration": 184,
    "start_time": "2023-02-10T16:38:34.552Z"
   },
   {
    "duration": 250,
    "start_time": "2023-02-10T16:38:43.447Z"
   },
   {
    "duration": 312,
    "start_time": "2023-02-10T16:41:04.644Z"
   },
   {
    "duration": 3,
    "start_time": "2023-02-10T16:41:16.913Z"
   },
   {
    "duration": 43,
    "start_time": "2023-02-10T16:41:16.918Z"
   },
   {
    "duration": 3,
    "start_time": "2023-02-10T16:41:16.963Z"
   },
   {
    "duration": 22,
    "start_time": "2023-02-10T16:41:16.967Z"
   },
   {
    "duration": 7,
    "start_time": "2023-02-10T16:41:16.991Z"
   },
   {
    "duration": 14,
    "start_time": "2023-02-10T16:41:16.999Z"
   },
   {
    "duration": 6,
    "start_time": "2023-02-10T16:41:17.014Z"
   },
   {
    "duration": 12,
    "start_time": "2023-02-10T16:41:17.021Z"
   },
   {
    "duration": 5,
    "start_time": "2023-02-10T16:41:17.035Z"
   },
   {
    "duration": 45,
    "start_time": "2023-02-10T16:41:17.042Z"
   },
   {
    "duration": 9,
    "start_time": "2023-02-10T16:41:17.089Z"
   },
   {
    "duration": 12,
    "start_time": "2023-02-10T16:41:17.100Z"
   },
   {
    "duration": 17,
    "start_time": "2023-02-10T16:41:17.115Z"
   },
   {
    "duration": 14,
    "start_time": "2023-02-10T16:41:17.133Z"
   },
   {
    "duration": 19,
    "start_time": "2023-02-10T16:41:17.148Z"
   },
   {
    "duration": 24,
    "start_time": "2023-02-10T16:41:17.169Z"
   },
   {
    "duration": 13,
    "start_time": "2023-02-10T16:41:17.195Z"
   },
   {
    "duration": 31,
    "start_time": "2023-02-10T16:41:17.210Z"
   },
   {
    "duration": 10,
    "start_time": "2023-02-10T16:41:17.243Z"
   },
   {
    "duration": 9,
    "start_time": "2023-02-10T16:41:17.254Z"
   },
   {
    "duration": 276,
    "start_time": "2023-02-10T16:41:17.267Z"
   },
   {
    "duration": 179,
    "start_time": "2023-02-10T16:41:17.545Z"
   },
   {
    "duration": 186,
    "start_time": "2023-02-10T16:41:17.725Z"
   },
   {
    "duration": 255,
    "start_time": "2023-02-10T16:41:17.913Z"
   },
   {
    "duration": 30,
    "start_time": "2023-02-10T16:41:18.169Z"
   },
   {
    "duration": 174,
    "start_time": "2023-02-10T16:41:18.201Z"
   },
   {
    "duration": 612,
    "start_time": "2023-02-10T16:41:43.055Z"
   },
   {
    "duration": 35,
    "start_time": "2023-02-10T16:41:43.669Z"
   },
   {
    "duration": 5,
    "start_time": "2023-02-10T16:41:43.705Z"
   },
   {
    "duration": 18,
    "start_time": "2023-02-10T16:41:43.711Z"
   },
   {
    "duration": 6,
    "start_time": "2023-02-10T16:41:43.732Z"
   },
   {
    "duration": 13,
    "start_time": "2023-02-10T16:41:43.740Z"
   },
   {
    "duration": 12,
    "start_time": "2023-02-10T16:41:43.755Z"
   },
   {
    "duration": 27,
    "start_time": "2023-02-10T16:41:43.769Z"
   },
   {
    "duration": 10,
    "start_time": "2023-02-10T16:41:43.798Z"
   },
   {
    "duration": 46,
    "start_time": "2023-02-10T16:41:43.810Z"
   },
   {
    "duration": 10,
    "start_time": "2023-02-10T16:41:43.857Z"
   },
   {
    "duration": 11,
    "start_time": "2023-02-10T16:41:43.869Z"
   },
   {
    "duration": 19,
    "start_time": "2023-02-10T16:41:43.881Z"
   },
   {
    "duration": 13,
    "start_time": "2023-02-10T16:41:43.904Z"
   },
   {
    "duration": 22,
    "start_time": "2023-02-10T16:41:43.918Z"
   },
   {
    "duration": 7,
    "start_time": "2023-02-10T16:41:43.942Z"
   },
   {
    "duration": 11,
    "start_time": "2023-02-10T16:41:43.950Z"
   },
   {
    "duration": 49,
    "start_time": "2023-02-10T16:41:43.963Z"
   },
   {
    "duration": 9,
    "start_time": "2023-02-10T16:41:44.014Z"
   },
   {
    "duration": 8,
    "start_time": "2023-02-10T16:41:44.025Z"
   },
   {
    "duration": 271,
    "start_time": "2023-02-10T16:41:44.034Z"
   },
   {
    "duration": 242,
    "start_time": "2023-02-10T16:41:44.306Z"
   },
   {
    "duration": 173,
    "start_time": "2023-02-10T16:41:44.551Z"
   },
   {
    "duration": 248,
    "start_time": "2023-02-10T16:41:44.725Z"
   },
   {
    "duration": 33,
    "start_time": "2023-02-10T16:41:44.975Z"
   },
   {
    "duration": 233,
    "start_time": "2023-02-10T16:41:45.010Z"
   },
   {
    "duration": 341,
    "start_time": "2023-02-10T16:51:20.872Z"
   },
   {
    "duration": 194,
    "start_time": "2023-02-10T16:51:38.377Z"
   },
   {
    "duration": 194,
    "start_time": "2023-02-10T16:52:04.100Z"
   },
   {
    "duration": 188,
    "start_time": "2023-02-10T16:52:48.997Z"
   },
   {
    "duration": 200,
    "start_time": "2023-02-10T16:52:55.543Z"
   },
   {
    "duration": 14,
    "start_time": "2023-02-10T17:00:33.531Z"
   },
   {
    "duration": 12,
    "start_time": "2023-02-10T17:01:46.808Z"
   },
   {
    "duration": 13,
    "start_time": "2023-02-10T17:02:03.356Z"
   },
   {
    "duration": 170,
    "start_time": "2023-02-10T17:02:47.505Z"
   },
   {
    "duration": 14,
    "start_time": "2023-02-10T17:02:51.664Z"
   },
   {
    "duration": 335,
    "start_time": "2023-02-10T17:02:55.470Z"
   },
   {
    "duration": 283,
    "start_time": "2023-02-10T17:03:06.026Z"
   },
   {
    "duration": 319,
    "start_time": "2023-02-10T17:04:32.087Z"
   },
   {
    "duration": 303,
    "start_time": "2023-02-10T17:04:43.893Z"
   },
   {
    "duration": 1165,
    "start_time": "2023-02-10T17:08:22.949Z"
   },
   {
    "duration": 195,
    "start_time": "2023-02-10T17:08:44.301Z"
   },
   {
    "duration": 118,
    "start_time": "2023-02-10T17:08:49.530Z"
   },
   {
    "duration": 46,
    "start_time": "2023-02-11T16:24:23.007Z"
   },
   {
    "duration": 802,
    "start_time": "2023-02-11T16:24:28.355Z"
   },
   {
    "duration": 87,
    "start_time": "2023-02-11T16:24:29.159Z"
   },
   {
    "duration": 4,
    "start_time": "2023-02-11T16:24:29.248Z"
   },
   {
    "duration": 16,
    "start_time": "2023-02-11T16:24:29.254Z"
   },
   {
    "duration": 11,
    "start_time": "2023-02-11T16:24:29.272Z"
   },
   {
    "duration": 19,
    "start_time": "2023-02-11T16:24:29.285Z"
   },
   {
    "duration": 12,
    "start_time": "2023-02-11T16:24:29.305Z"
   },
   {
    "duration": 28,
    "start_time": "2023-02-11T16:24:29.319Z"
   },
   {
    "duration": 13,
    "start_time": "2023-02-11T16:24:29.348Z"
   },
   {
    "duration": 108,
    "start_time": "2023-02-11T16:24:29.364Z"
   },
   {
    "duration": 12,
    "start_time": "2023-02-11T16:24:29.473Z"
   },
   {
    "duration": 9,
    "start_time": "2023-02-11T16:24:29.486Z"
   },
   {
    "duration": 12,
    "start_time": "2023-02-11T16:24:29.497Z"
   },
   {
    "duration": 11,
    "start_time": "2023-02-11T16:24:29.511Z"
   },
   {
    "duration": 16,
    "start_time": "2023-02-11T16:24:29.523Z"
   },
   {
    "duration": 37,
    "start_time": "2023-02-11T16:24:29.541Z"
   },
   {
    "duration": 0,
    "start_time": "2023-02-11T16:24:29.580Z"
   },
   {
    "duration": 0,
    "start_time": "2023-02-11T16:24:29.582Z"
   },
   {
    "duration": 0,
    "start_time": "2023-02-11T16:24:29.583Z"
   },
   {
    "duration": 0,
    "start_time": "2023-02-11T16:24:29.584Z"
   },
   {
    "duration": 0,
    "start_time": "2023-02-11T16:24:29.585Z"
   },
   {
    "duration": 0,
    "start_time": "2023-02-11T16:24:29.586Z"
   },
   {
    "duration": 0,
    "start_time": "2023-02-11T16:24:29.587Z"
   },
   {
    "duration": 0,
    "start_time": "2023-02-11T16:24:29.588Z"
   },
   {
    "duration": 1,
    "start_time": "2023-02-11T16:24:29.589Z"
   },
   {
    "duration": 0,
    "start_time": "2023-02-11T16:24:29.591Z"
   },
   {
    "duration": 0,
    "start_time": "2023-02-11T16:24:29.592Z"
   },
   {
    "duration": 0,
    "start_time": "2023-02-11T16:24:29.593Z"
   },
   {
    "duration": 6,
    "start_time": "2023-02-11T16:24:59.645Z"
   },
   {
    "duration": 8,
    "start_time": "2023-02-11T16:25:06.644Z"
   },
   {
    "duration": 5,
    "start_time": "2023-02-11T16:25:33.877Z"
   },
   {
    "duration": 5,
    "start_time": "2023-02-11T16:25:43.679Z"
   },
   {
    "duration": 11,
    "start_time": "2023-02-11T16:27:52.255Z"
   },
   {
    "duration": 120,
    "start_time": "2023-02-11T16:28:24.036Z"
   },
   {
    "duration": 5,
    "start_time": "2023-02-11T16:32:26.390Z"
   },
   {
    "duration": 130,
    "start_time": "2023-02-11T16:34:05.033Z"
   },
   {
    "duration": 120,
    "start_time": "2023-02-11T16:34:10.353Z"
   },
   {
    "duration": 3,
    "start_time": "2023-02-11T16:34:19.728Z"
   },
   {
    "duration": 45,
    "start_time": "2023-02-11T16:34:19.734Z"
   },
   {
    "duration": 4,
    "start_time": "2023-02-11T16:34:19.781Z"
   },
   {
    "duration": 23,
    "start_time": "2023-02-11T16:34:19.787Z"
   },
   {
    "duration": 13,
    "start_time": "2023-02-11T16:34:19.812Z"
   },
   {
    "duration": 16,
    "start_time": "2023-02-11T16:34:19.827Z"
   },
   {
    "duration": 14,
    "start_time": "2023-02-11T16:34:19.845Z"
   },
   {
    "duration": 21,
    "start_time": "2023-02-11T16:34:19.861Z"
   },
   {
    "duration": 22,
    "start_time": "2023-02-11T16:34:19.884Z"
   },
   {
    "duration": 51,
    "start_time": "2023-02-11T16:34:19.909Z"
   },
   {
    "duration": 12,
    "start_time": "2023-02-11T16:34:19.963Z"
   },
   {
    "duration": 50,
    "start_time": "2023-02-11T16:34:19.976Z"
   },
   {
    "duration": 44,
    "start_time": "2023-02-11T16:34:20.027Z"
   },
   {
    "duration": 28,
    "start_time": "2023-02-11T16:34:20.073Z"
   },
   {
    "duration": 37,
    "start_time": "2023-02-11T16:34:20.103Z"
   },
   {
    "duration": 50,
    "start_time": "2023-02-11T16:34:20.142Z"
   },
   {
    "duration": 24,
    "start_time": "2023-02-11T16:34:20.194Z"
   },
   {
    "duration": 84,
    "start_time": "2023-02-11T16:34:20.220Z"
   },
   {
    "duration": 11,
    "start_time": "2023-02-11T16:34:20.307Z"
   },
   {
    "duration": 13,
    "start_time": "2023-02-11T16:34:20.320Z"
   },
   {
    "duration": 303,
    "start_time": "2023-02-11T16:34:20.335Z"
   },
   {
    "duration": 329,
    "start_time": "2023-02-11T16:34:20.639Z"
   },
   {
    "duration": 212,
    "start_time": "2023-02-11T16:34:20.970Z"
   },
   {
    "duration": 329,
    "start_time": "2023-02-11T16:34:21.184Z"
   },
   {
    "duration": 205,
    "start_time": "2023-02-11T16:34:21.515Z"
   },
   {
    "duration": 315,
    "start_time": "2023-02-11T16:34:21.722Z"
   },
   {
    "duration": 155,
    "start_time": "2023-02-11T16:34:22.039Z"
   },
   {
    "duration": 5,
    "start_time": "2023-02-11T16:34:22.197Z"
   },
   {
    "duration": 153,
    "start_time": "2023-02-11T16:34:22.203Z"
   },
   {
    "duration": 123,
    "start_time": "2023-02-11T16:37:46.244Z"
   },
   {
    "duration": 139,
    "start_time": "2023-02-11T16:38:27.489Z"
   },
   {
    "duration": 4,
    "start_time": "2023-02-11T16:39:45.627Z"
   },
   {
    "duration": 5,
    "start_time": "2023-02-11T16:39:52.143Z"
   },
   {
    "duration": 1222,
    "start_time": "2023-02-13T21:05:39.228Z"
   },
   {
    "duration": 163,
    "start_time": "2023-02-13T21:05:40.452Z"
   },
   {
    "duration": 3,
    "start_time": "2023-02-13T21:05:40.617Z"
   },
   {
    "duration": 15,
    "start_time": "2023-02-13T21:05:40.622Z"
   },
   {
    "duration": 7,
    "start_time": "2023-02-13T21:05:41.273Z"
   },
   {
    "duration": 12,
    "start_time": "2023-02-13T21:05:41.963Z"
   },
   {
    "duration": 5,
    "start_time": "2023-02-13T21:05:42.263Z"
   },
   {
    "duration": 15,
    "start_time": "2023-02-13T21:05:42.973Z"
   },
   {
    "duration": 4,
    "start_time": "2023-02-13T21:05:43.226Z"
   },
   {
    "duration": 121,
    "start_time": "2023-02-13T21:05:44.804Z"
   },
   {
    "duration": 11,
    "start_time": "2023-02-13T21:05:45.062Z"
   },
   {
    "duration": 10,
    "start_time": "2023-02-13T21:05:45.254Z"
   },
   {
    "duration": 14,
    "start_time": "2023-02-13T21:05:45.474Z"
   },
   {
    "duration": 16,
    "start_time": "2023-02-13T21:05:45.688Z"
   },
   {
    "duration": 31,
    "start_time": "2023-02-13T21:05:46.024Z"
   },
   {
    "duration": 7,
    "start_time": "2023-02-13T21:05:46.299Z"
   },
   {
    "duration": 12,
    "start_time": "2023-02-13T21:05:46.575Z"
   },
   {
    "duration": 91,
    "start_time": "2023-02-13T21:05:47.106Z"
   },
   {
    "duration": 11,
    "start_time": "2023-02-13T21:05:47.374Z"
   },
   {
    "duration": 4,
    "start_time": "2023-02-13T21:05:47.591Z"
   },
   {
    "duration": 279,
    "start_time": "2023-02-13T21:05:47.834Z"
   },
   {
    "duration": 237,
    "start_time": "2023-02-13T21:05:48.308Z"
   },
   {
    "duration": 170,
    "start_time": "2023-02-13T21:05:48.976Z"
   },
   {
    "duration": 291,
    "start_time": "2023-02-13T21:05:49.706Z"
   },
   {
    "duration": 199,
    "start_time": "2023-02-13T21:05:50.390Z"
   },
   {
    "duration": 254,
    "start_time": "2023-02-13T21:05:51.084Z"
   },
   {
    "duration": 137,
    "start_time": "2023-02-13T21:05:51.761Z"
   },
   {
    "duration": 8,
    "start_time": "2023-02-13T21:05:52.447Z"
   },
   {
    "duration": 120,
    "start_time": "2023-02-13T21:05:53.427Z"
   },
   {
    "duration": 9,
    "start_time": "2023-02-13T21:05:54.367Z"
   },
   {
    "duration": 4,
    "start_time": "2023-02-13T21:05:55.549Z"
   },
   {
    "duration": 193,
    "start_time": "2023-02-13T21:06:23.198Z"
   },
   {
    "duration": 165,
    "start_time": "2023-02-13T21:08:30.909Z"
   },
   {
    "duration": 208,
    "start_time": "2023-02-13T21:09:19.681Z"
   },
   {
    "duration": 263,
    "start_time": "2023-02-13T21:09:33.292Z"
   },
   {
    "duration": 393,
    "start_time": "2023-02-13T21:18:28.427Z"
   },
   {
    "duration": 3,
    "start_time": "2023-02-13T21:21:24.871Z"
   },
   {
    "duration": 47,
    "start_time": "2023-02-13T21:21:24.876Z"
   },
   {
    "duration": 4,
    "start_time": "2023-02-13T21:21:24.925Z"
   },
   {
    "duration": 18,
    "start_time": "2023-02-13T21:21:24.931Z"
   },
   {
    "duration": 17,
    "start_time": "2023-02-13T21:21:24.952Z"
   },
   {
    "duration": 20,
    "start_time": "2023-02-13T21:21:24.971Z"
   },
   {
    "duration": 6,
    "start_time": "2023-02-13T21:21:24.993Z"
   },
   {
    "duration": 15,
    "start_time": "2023-02-13T21:21:25.071Z"
   },
   {
    "duration": 7,
    "start_time": "2023-02-13T21:21:25.088Z"
   },
   {
    "duration": 80,
    "start_time": "2023-02-13T21:21:25.097Z"
   },
   {
    "duration": 13,
    "start_time": "2023-02-13T21:21:25.179Z"
   },
   {
    "duration": 9,
    "start_time": "2023-02-13T21:21:25.195Z"
   },
   {
    "duration": 14,
    "start_time": "2023-02-13T21:21:25.206Z"
   },
   {
    "duration": 13,
    "start_time": "2023-02-13T21:21:25.222Z"
   },
   {
    "duration": 29,
    "start_time": "2023-02-13T21:21:25.247Z"
   },
   {
    "duration": 9,
    "start_time": "2023-02-13T21:21:25.278Z"
   },
   {
    "duration": 16,
    "start_time": "2023-02-13T21:21:25.288Z"
   },
   {
    "duration": 23,
    "start_time": "2023-02-13T21:21:25.306Z"
   },
   {
    "duration": 33,
    "start_time": "2023-02-13T21:21:25.331Z"
   },
   {
    "duration": 9,
    "start_time": "2023-02-13T21:21:25.366Z"
   },
   {
    "duration": 331,
    "start_time": "2023-02-13T21:21:25.379Z"
   },
   {
    "duration": 276,
    "start_time": "2023-02-13T21:21:25.712Z"
   },
   {
    "duration": 191,
    "start_time": "2023-02-13T21:21:25.990Z"
   },
   {
    "duration": 251,
    "start_time": "2023-02-13T21:21:26.182Z"
   },
   {
    "duration": 192,
    "start_time": "2023-02-13T21:21:26.435Z"
   },
   {
    "duration": 306,
    "start_time": "2023-02-13T21:21:26.629Z"
   },
   {
    "duration": 144,
    "start_time": "2023-02-13T21:21:26.936Z"
   },
   {
    "duration": 3,
    "start_time": "2023-02-13T21:21:27.082Z"
   },
   {
    "duration": 135,
    "start_time": "2023-02-13T21:21:27.087Z"
   },
   {
    "duration": 4,
    "start_time": "2023-02-13T21:21:27.223Z"
   },
   {
    "duration": 342,
    "start_time": "2023-02-13T21:21:27.229Z"
   },
   {
    "duration": 12,
    "start_time": "2023-02-13T21:31:11.585Z"
   },
   {
    "duration": 1177,
    "start_time": "2023-02-14T14:56:56.530Z"
   },
   {
    "duration": 144,
    "start_time": "2023-02-14T14:56:57.709Z"
   },
   {
    "duration": 4,
    "start_time": "2023-02-14T14:56:57.854Z"
   },
   {
    "duration": 15,
    "start_time": "2023-02-14T14:56:57.860Z"
   },
   {
    "duration": 8,
    "start_time": "2023-02-14T14:56:57.876Z"
   },
   {
    "duration": 15,
    "start_time": "2023-02-14T14:56:57.885Z"
   },
   {
    "duration": 24,
    "start_time": "2023-02-14T14:56:57.902Z"
   },
   {
    "duration": 14,
    "start_time": "2023-02-14T14:56:57.928Z"
   },
   {
    "duration": 9,
    "start_time": "2023-02-14T14:56:57.944Z"
   },
   {
    "duration": 103,
    "start_time": "2023-02-14T14:56:57.956Z"
   },
   {
    "duration": 9,
    "start_time": "2023-02-14T14:56:58.060Z"
   },
   {
    "duration": 27,
    "start_time": "2023-02-14T14:56:58.071Z"
   },
   {
    "duration": 23,
    "start_time": "2023-02-14T14:56:58.099Z"
   },
   {
    "duration": 22,
    "start_time": "2023-02-14T14:56:58.123Z"
   },
   {
    "duration": 34,
    "start_time": "2023-02-14T14:56:58.147Z"
   },
   {
    "duration": 6,
    "start_time": "2023-02-14T14:56:58.183Z"
   },
   {
    "duration": 20,
    "start_time": "2023-02-14T14:56:58.190Z"
   },
   {
    "duration": 89,
    "start_time": "2023-02-14T14:56:58.212Z"
   },
   {
    "duration": 8,
    "start_time": "2023-02-14T14:56:58.303Z"
   },
   {
    "duration": 18,
    "start_time": "2023-02-14T14:56:58.313Z"
   },
   {
    "duration": 298,
    "start_time": "2023-02-14T14:56:58.332Z"
   },
   {
    "duration": 233,
    "start_time": "2023-02-14T14:56:58.632Z"
   },
   {
    "duration": 162,
    "start_time": "2023-02-14T14:56:58.867Z"
   },
   {
    "duration": 301,
    "start_time": "2023-02-14T14:56:59.031Z"
   },
   {
    "duration": 171,
    "start_time": "2023-02-14T14:56:59.334Z"
   },
   {
    "duration": 259,
    "start_time": "2023-02-14T14:56:59.507Z"
   },
   {
    "duration": 140,
    "start_time": "2023-02-14T14:56:59.767Z"
   },
   {
    "duration": 4,
    "start_time": "2023-02-14T14:56:59.910Z"
   },
   {
    "duration": 132,
    "start_time": "2023-02-14T14:56:59.916Z"
   },
   {
    "duration": 4,
    "start_time": "2023-02-14T14:57:00.050Z"
   },
   {
    "duration": 345,
    "start_time": "2023-02-14T14:57:00.056Z"
   },
   {
    "duration": 10,
    "start_time": "2023-02-14T14:57:00.403Z"
   },
   {
    "duration": 1293,
    "start_time": "2023-02-14T15:24:40.373Z"
   },
   {
    "duration": 15,
    "start_time": "2023-02-14T15:27:02.957Z"
   },
   {
    "duration": 3,
    "start_time": "2023-02-14T15:27:10.000Z"
   },
   {
    "duration": 63,
    "start_time": "2023-02-14T15:27:10.007Z"
   },
   {
    "duration": 3,
    "start_time": "2023-02-14T15:27:10.072Z"
   },
   {
    "duration": 63,
    "start_time": "2023-02-14T15:27:10.076Z"
   },
   {
    "duration": 14,
    "start_time": "2023-02-14T15:27:10.141Z"
   },
   {
    "duration": 23,
    "start_time": "2023-02-14T15:27:10.156Z"
   },
   {
    "duration": 40,
    "start_time": "2023-02-14T15:27:10.181Z"
   },
   {
    "duration": 18,
    "start_time": "2023-02-14T15:27:10.223Z"
   },
   {
    "duration": 17,
    "start_time": "2023-02-14T15:27:10.242Z"
   },
   {
    "duration": 77,
    "start_time": "2023-02-14T15:27:10.260Z"
   },
   {
    "duration": 10,
    "start_time": "2023-02-14T15:27:10.340Z"
   },
   {
    "duration": 53,
    "start_time": "2023-02-14T15:27:10.352Z"
   },
   {
    "duration": 24,
    "start_time": "2023-02-14T15:27:10.407Z"
   },
   {
    "duration": 13,
    "start_time": "2023-02-14T15:27:10.433Z"
   },
   {
    "duration": 18,
    "start_time": "2023-02-14T15:27:10.447Z"
   },
   {
    "duration": 7,
    "start_time": "2023-02-14T15:27:10.466Z"
   },
   {
    "duration": 13,
    "start_time": "2023-02-14T15:27:10.474Z"
   },
   {
    "duration": 27,
    "start_time": "2023-02-14T15:27:10.488Z"
   },
   {
    "duration": 10,
    "start_time": "2023-02-14T15:27:10.517Z"
   },
   {
    "duration": 23,
    "start_time": "2023-02-14T15:27:10.528Z"
   },
   {
    "duration": 276,
    "start_time": "2023-02-14T15:27:10.553Z"
   },
   {
    "duration": 189,
    "start_time": "2023-02-14T15:27:10.831Z"
   },
   {
    "duration": 237,
    "start_time": "2023-02-14T15:27:11.021Z"
   },
   {
    "duration": 245,
    "start_time": "2023-02-14T15:27:11.259Z"
   },
   {
    "duration": 166,
    "start_time": "2023-02-14T15:27:11.506Z"
   },
   {
    "duration": 281,
    "start_time": "2023-02-14T15:27:11.674Z"
   },
   {
    "duration": 127,
    "start_time": "2023-02-14T15:27:11.957Z"
   },
   {
    "duration": 4,
    "start_time": "2023-02-14T15:27:12.085Z"
   },
   {
    "duration": 119,
    "start_time": "2023-02-14T15:27:12.091Z"
   },
   {
    "duration": 4,
    "start_time": "2023-02-14T15:27:12.211Z"
   },
   {
    "duration": 333,
    "start_time": "2023-02-14T15:27:12.217Z"
   },
   {
    "duration": 9,
    "start_time": "2023-02-14T15:27:12.552Z"
   },
   {
    "duration": 1141,
    "start_time": "2023-02-14T15:27:12.562Z"
   },
   {
    "duration": 0,
    "start_time": "2023-02-14T15:27:13.705Z"
   },
   {
    "duration": 0,
    "start_time": "2023-02-14T15:27:13.706Z"
   },
   {
    "duration": 140,
    "start_time": "2023-02-14T15:35:56.898Z"
   },
   {
    "duration": 238,
    "start_time": "2023-02-14T15:36:16.666Z"
   },
   {
    "duration": 162,
    "start_time": "2023-02-14T15:36:44.486Z"
   },
   {
    "duration": 171,
    "start_time": "2023-02-14T15:36:52.595Z"
   },
   {
    "duration": 155,
    "start_time": "2023-02-14T15:36:58.575Z"
   },
   {
    "duration": 245,
    "start_time": "2023-02-14T15:37:03.092Z"
   },
   {
    "duration": 158,
    "start_time": "2023-02-14T15:37:08.738Z"
   },
   {
    "duration": 169,
    "start_time": "2023-02-14T15:37:19.339Z"
   },
   {
    "duration": 195,
    "start_time": "2023-02-14T15:37:36.928Z"
   },
   {
    "duration": 259,
    "start_time": "2023-02-14T15:37:47.908Z"
   },
   {
    "duration": 188,
    "start_time": "2023-02-14T15:37:59.982Z"
   },
   {
    "duration": 274,
    "start_time": "2023-02-14T15:38:07.022Z"
   },
   {
    "duration": 125,
    "start_time": "2023-02-14T15:38:17.752Z"
   },
   {
    "duration": 112,
    "start_time": "2023-02-14T15:38:29.722Z"
   },
   {
    "duration": 170,
    "start_time": "2023-02-14T15:42:45.757Z"
   },
   {
    "duration": 170,
    "start_time": "2023-02-14T15:42:56.507Z"
   },
   {
    "duration": 2382,
    "start_time": "2023-02-14T15:53:30.350Z"
   },
   {
    "duration": 1452,
    "start_time": "2023-02-14T15:53:48.136Z"
   },
   {
    "duration": 1981,
    "start_time": "2023-02-14T15:55:02.918Z"
   },
   {
    "duration": 10,
    "start_time": "2023-02-14T15:55:23.931Z"
   },
   {
    "duration": 9,
    "start_time": "2023-02-14T15:55:41.699Z"
   },
   {
    "duration": 9,
    "start_time": "2023-02-14T15:56:13.543Z"
   },
   {
    "duration": 102,
    "start_time": "2023-02-14T15:56:36.704Z"
   },
   {
    "duration": 1283,
    "start_time": "2023-02-14T15:57:33.714Z"
   },
   {
    "duration": 13,
    "start_time": "2023-02-14T15:57:58.256Z"
   },
   {
    "duration": 1219,
    "start_time": "2023-02-14T19:49:50.213Z"
   },
   {
    "duration": 141,
    "start_time": "2023-02-14T19:49:51.434Z"
   },
   {
    "duration": 3,
    "start_time": "2023-02-14T19:49:51.577Z"
   },
   {
    "duration": 23,
    "start_time": "2023-02-14T19:49:51.582Z"
   },
   {
    "duration": 38,
    "start_time": "2023-02-14T19:49:51.608Z"
   },
   {
    "duration": 13,
    "start_time": "2023-02-14T19:49:51.648Z"
   },
   {
    "duration": 12,
    "start_time": "2023-02-14T19:49:51.663Z"
   },
   {
    "duration": 17,
    "start_time": "2023-02-14T19:49:51.677Z"
   },
   {
    "duration": 12,
    "start_time": "2023-02-14T19:49:51.702Z"
   },
   {
    "duration": 87,
    "start_time": "2023-02-14T19:49:51.717Z"
   },
   {
    "duration": 10,
    "start_time": "2023-02-14T19:49:51.806Z"
   },
   {
    "duration": 27,
    "start_time": "2023-02-14T19:49:51.818Z"
   },
   {
    "duration": 20,
    "start_time": "2023-02-14T19:49:51.846Z"
   },
   {
    "duration": 12,
    "start_time": "2023-02-14T19:49:51.868Z"
   },
   {
    "duration": 17,
    "start_time": "2023-02-14T19:49:51.882Z"
   },
   {
    "duration": 7,
    "start_time": "2023-02-14T19:49:51.900Z"
   },
   {
    "duration": 14,
    "start_time": "2023-02-14T19:49:51.909Z"
   },
   {
    "duration": 73,
    "start_time": "2023-02-14T19:49:51.925Z"
   },
   {
    "duration": 12,
    "start_time": "2023-02-14T19:49:52.004Z"
   },
   {
    "duration": 5,
    "start_time": "2023-02-14T19:49:52.018Z"
   },
   {
    "duration": 300,
    "start_time": "2023-02-14T19:49:52.025Z"
   },
   {
    "duration": 281,
    "start_time": "2023-02-14T19:49:52.327Z"
   },
   {
    "duration": 188,
    "start_time": "2023-02-14T19:49:52.610Z"
   },
   {
    "duration": 308,
    "start_time": "2023-02-14T19:49:52.806Z"
   },
   {
    "duration": 205,
    "start_time": "2023-02-14T19:49:53.115Z"
   },
   {
    "duration": 284,
    "start_time": "2023-02-14T19:49:53.321Z"
   },
   {
    "duration": 149,
    "start_time": "2023-02-14T19:49:53.607Z"
   },
   {
    "duration": 4,
    "start_time": "2023-02-14T19:49:53.759Z"
   },
   {
    "duration": 146,
    "start_time": "2023-02-14T19:49:53.765Z"
   },
   {
    "duration": 5,
    "start_time": "2023-02-14T19:49:53.912Z"
   },
   {
    "duration": 487,
    "start_time": "2023-02-14T19:49:53.918Z"
   },
   {
    "duration": 10,
    "start_time": "2023-02-14T19:49:54.407Z"
   },
   {
    "duration": 11,
    "start_time": "2023-02-14T19:49:54.418Z"
   },
   {
    "duration": 31,
    "start_time": "2023-02-14T19:49:54.430Z"
   },
   {
    "duration": 13,
    "start_time": "2023-02-14T19:49:54.462Z"
   },
   {
    "duration": 4,
    "start_time": "2023-02-14T20:56:36.010Z"
   },
   {
    "duration": 6,
    "start_time": "2023-02-14T20:56:40.340Z"
   },
   {
    "duration": 4,
    "start_time": "2023-02-14T20:56:42.987Z"
   },
   {
    "duration": 5,
    "start_time": "2023-02-14T20:56:47.557Z"
   },
   {
    "duration": 7,
    "start_time": "2023-02-14T21:10:46.982Z"
   },
   {
    "duration": 38,
    "start_time": "2023-02-14T21:10:54.128Z"
   },
   {
    "duration": 13,
    "start_time": "2023-02-14T21:11:21.216Z"
   },
   {
    "duration": 1420,
    "start_time": "2023-02-15T07:04:57.174Z"
   },
   {
    "duration": 126,
    "start_time": "2023-02-15T07:04:58.598Z"
   },
   {
    "duration": 3,
    "start_time": "2023-02-15T07:04:58.726Z"
   },
   {
    "duration": 13,
    "start_time": "2023-02-15T07:04:58.732Z"
   },
   {
    "duration": 13,
    "start_time": "2023-02-15T07:04:58.747Z"
   },
   {
    "duration": 14,
    "start_time": "2023-02-15T07:04:58.762Z"
   },
   {
    "duration": 11,
    "start_time": "2023-02-15T07:04:58.778Z"
   },
   {
    "duration": 20,
    "start_time": "2023-02-15T07:04:58.792Z"
   },
   {
    "duration": 6,
    "start_time": "2023-02-15T07:04:58.814Z"
   },
   {
    "duration": 86,
    "start_time": "2023-02-15T07:04:58.824Z"
   },
   {
    "duration": 11,
    "start_time": "2023-02-15T07:04:58.911Z"
   },
   {
    "duration": 11,
    "start_time": "2023-02-15T07:04:58.924Z"
   },
   {
    "duration": 17,
    "start_time": "2023-02-15T07:04:58.936Z"
   },
   {
    "duration": 19,
    "start_time": "2023-02-15T07:04:58.955Z"
   },
   {
    "duration": 21,
    "start_time": "2023-02-15T07:04:58.977Z"
   },
   {
    "duration": 7,
    "start_time": "2023-02-15T07:04:58.999Z"
   },
   {
    "duration": 16,
    "start_time": "2023-02-15T07:04:59.008Z"
   },
   {
    "duration": 64,
    "start_time": "2023-02-15T07:04:59.055Z"
   },
   {
    "duration": 11,
    "start_time": "2023-02-15T07:04:59.121Z"
   },
   {
    "duration": 6,
    "start_time": "2023-02-15T07:04:59.134Z"
   },
   {
    "duration": 379,
    "start_time": "2023-02-15T07:04:59.142Z"
   },
   {
    "duration": 367,
    "start_time": "2023-02-15T07:04:59.525Z"
   },
   {
    "duration": 201,
    "start_time": "2023-02-15T07:04:59.894Z"
   },
   {
    "duration": 412,
    "start_time": "2023-02-15T07:05:00.097Z"
   },
   {
    "duration": 235,
    "start_time": "2023-02-15T07:05:00.511Z"
   },
   {
    "duration": 373,
    "start_time": "2023-02-15T07:05:00.749Z"
   },
   {
    "duration": 234,
    "start_time": "2023-02-15T07:05:01.125Z"
   },
   {
    "duration": 6,
    "start_time": "2023-02-15T07:05:01.364Z"
   },
   {
    "duration": 202,
    "start_time": "2023-02-15T07:05:01.372Z"
   },
   {
    "duration": 6,
    "start_time": "2023-02-15T07:05:01.576Z"
   },
   {
    "duration": 461,
    "start_time": "2023-02-15T07:05:01.584Z"
   },
   {
    "duration": 22,
    "start_time": "2023-02-15T07:05:02.047Z"
   },
   {
    "duration": 54,
    "start_time": "2023-02-15T07:05:02.073Z"
   },
   {
    "duration": 66,
    "start_time": "2023-02-15T07:05:02.128Z"
   },
   {
    "duration": 14,
    "start_time": "2023-02-15T07:05:02.196Z"
   },
   {
    "duration": 51,
    "start_time": "2023-02-15T09:53:59.752Z"
   },
   {
    "duration": 1210,
    "start_time": "2023-02-15T09:54:05.965Z"
   },
   {
    "duration": 139,
    "start_time": "2023-02-15T09:54:07.451Z"
   },
   {
    "duration": 33,
    "start_time": "2023-02-15T09:54:15.067Z"
   },
   {
    "duration": 27,
    "start_time": "2023-02-15T09:54:26.698Z"
   },
   {
    "duration": 29,
    "start_time": "2023-02-15T09:54:30.686Z"
   },
   {
    "duration": 35,
    "start_time": "2023-02-15T09:54:34.006Z"
   },
   {
    "duration": 28,
    "start_time": "2023-02-15T09:54:40.090Z"
   },
   {
    "duration": 28,
    "start_time": "2023-02-15T09:54:43.581Z"
   },
   {
    "duration": 26,
    "start_time": "2023-02-15T09:54:50.087Z"
   },
   {
    "duration": 29,
    "start_time": "2023-02-15T09:54:55.704Z"
   },
   {
    "duration": 29,
    "start_time": "2023-02-15T09:55:00.677Z"
   },
   {
    "duration": 64,
    "start_time": "2023-02-15T09:55:13.814Z"
   },
   {
    "duration": 11,
    "start_time": "2023-02-15T10:13:23.097Z"
   },
   {
    "duration": 3,
    "start_time": "2023-02-15T10:13:31.778Z"
   },
   {
    "duration": 42,
    "start_time": "2023-02-15T10:13:31.784Z"
   },
   {
    "duration": 4,
    "start_time": "2023-02-15T10:13:31.828Z"
   },
   {
    "duration": 35,
    "start_time": "2023-02-15T10:13:31.834Z"
   },
   {
    "duration": 56,
    "start_time": "2023-02-15T10:13:31.872Z"
   },
   {
    "duration": 12,
    "start_time": "2023-02-15T10:13:31.929Z"
   },
   {
    "duration": 7,
    "start_time": "2023-02-15T10:13:31.943Z"
   },
   {
    "duration": 18,
    "start_time": "2023-02-15T10:13:31.952Z"
   },
   {
    "duration": 26,
    "start_time": "2023-02-15T10:13:31.971Z"
   },
   {
    "duration": 88,
    "start_time": "2023-02-15T10:13:31.998Z"
   },
   {
    "duration": 11,
    "start_time": "2023-02-15T10:13:32.088Z"
   },
   {
    "duration": 29,
    "start_time": "2023-02-15T10:13:32.100Z"
   },
   {
    "duration": 12,
    "start_time": "2023-02-15T10:13:32.130Z"
   },
   {
    "duration": 12,
    "start_time": "2023-02-15T10:13:32.144Z"
   },
   {
    "duration": 18,
    "start_time": "2023-02-15T10:13:32.159Z"
   },
   {
    "duration": 9,
    "start_time": "2023-02-15T10:13:32.179Z"
   },
   {
    "duration": 39,
    "start_time": "2023-02-15T10:13:32.190Z"
   },
   {
    "duration": 65,
    "start_time": "2023-02-15T10:13:32.231Z"
   },
   {
    "duration": 14,
    "start_time": "2023-02-15T10:13:32.298Z"
   },
   {
    "duration": 10,
    "start_time": "2023-02-15T10:13:32.313Z"
   },
   {
    "duration": 271,
    "start_time": "2023-02-15T10:13:32.325Z"
   },
   {
    "duration": 280,
    "start_time": "2023-02-15T10:13:32.598Z"
   },
   {
    "duration": 183,
    "start_time": "2023-02-15T10:13:32.880Z"
   },
   {
    "duration": 311,
    "start_time": "2023-02-15T10:13:33.064Z"
   },
   {
    "duration": 209,
    "start_time": "2023-02-15T10:13:33.376Z"
   },
   {
    "duration": 284,
    "start_time": "2023-02-15T10:13:33.587Z"
   },
   {
    "duration": 165,
    "start_time": "2023-02-15T10:13:33.874Z"
   },
   {
    "duration": 12,
    "start_time": "2023-02-15T10:13:34.042Z"
   },
   {
    "duration": 150,
    "start_time": "2023-02-15T10:13:34.055Z"
   },
   {
    "duration": 6,
    "start_time": "2023-02-15T10:13:34.207Z"
   },
   {
    "duration": 365,
    "start_time": "2023-02-15T10:13:34.216Z"
   },
   {
    "duration": 10,
    "start_time": "2023-02-15T10:13:34.583Z"
   },
   {
    "duration": 10,
    "start_time": "2023-02-15T10:13:34.595Z"
   },
   {
    "duration": 49,
    "start_time": "2023-02-15T10:13:34.607Z"
   },
   {
    "duration": 13,
    "start_time": "2023-02-15T10:13:34.658Z"
   },
   {
    "duration": 15,
    "start_time": "2023-02-15T14:01:06.279Z"
   },
   {
    "duration": 50,
    "start_time": "2023-02-15T14:01:38.213Z"
   },
   {
    "duration": 15,
    "start_time": "2023-02-15T14:01:43.460Z"
   },
   {
    "duration": 6,
    "start_time": "2023-02-15T14:02:14.111Z"
   },
   {
    "duration": 30,
    "start_time": "2023-02-15T14:04:28.568Z"
   },
   {
    "duration": 11,
    "start_time": "2023-02-15T14:04:28.999Z"
   },
   {
    "duration": 4,
    "start_time": "2023-02-15T14:04:29.731Z"
   },
   {
    "duration": 12,
    "start_time": "2023-02-15T14:16:04.903Z"
   },
   {
    "duration": 19,
    "start_time": "2023-02-15T14:16:51.059Z"
   },
   {
    "duration": 190,
    "start_time": "2023-02-15T14:22:52.643Z"
   },
   {
    "duration": 261,
    "start_time": "2023-02-15T14:23:17.028Z"
   },
   {
    "duration": 210,
    "start_time": "2023-02-15T14:24:21.384Z"
   },
   {
    "duration": 205,
    "start_time": "2023-02-15T14:24:35.372Z"
   },
   {
    "duration": 219,
    "start_time": "2023-02-15T14:24:52.525Z"
   },
   {
    "duration": 185,
    "start_time": "2023-02-15T14:25:01.771Z"
   },
   {
    "duration": 207,
    "start_time": "2023-02-15T14:27:25.541Z"
   },
   {
    "duration": 307,
    "start_time": "2023-02-15T14:48:38.026Z"
   },
   {
    "duration": 222,
    "start_time": "2023-02-15T15:04:26.497Z"
   },
   {
    "duration": 313,
    "start_time": "2023-02-15T15:09:29.742Z"
   },
   {
    "duration": 159,
    "start_time": "2023-02-15T15:10:13.582Z"
   },
   {
    "duration": 152,
    "start_time": "2023-02-15T15:16:47.001Z"
   },
   {
    "duration": 216,
    "start_time": "2023-02-15T15:16:58.313Z"
   },
   {
    "duration": 145,
    "start_time": "2023-02-15T15:18:02.849Z"
   },
   {
    "duration": 4,
    "start_time": "2023-02-15T15:26:30.992Z"
   },
   {
    "duration": 136,
    "start_time": "2023-02-15T15:26:42.126Z"
   },
   {
    "duration": 142,
    "start_time": "2023-02-15T15:27:06.561Z"
   },
   {
    "duration": 403,
    "start_time": "2023-02-15T17:34:17.627Z"
   },
   {
    "duration": 341,
    "start_time": "2023-02-15T17:35:27.929Z"
   },
   {
    "duration": 325,
    "start_time": "2023-02-15T17:35:39.061Z"
   },
   {
    "duration": 326,
    "start_time": "2023-02-15T17:36:08.467Z"
   },
   {
    "duration": 331,
    "start_time": "2023-02-15T17:38:34.476Z"
   },
   {
    "duration": 11,
    "start_time": "2023-02-15T17:42:53.396Z"
   },
   {
    "duration": 15,
    "start_time": "2023-02-15T17:59:35.606Z"
   },
   {
    "duration": 27,
    "start_time": "2023-02-15T17:59:38.678Z"
   }
  ],
  "kernelspec": {
   "display_name": "Python 3 (ipykernel)",
   "language": "python",
   "name": "python3"
  },
  "language_info": {
   "codemirror_mode": {
    "name": "ipython",
    "version": 3
   },
   "file_extension": ".py",
   "mimetype": "text/x-python",
   "name": "python",
   "nbconvert_exporter": "python",
   "pygments_lexer": "ipython3",
   "version": "3.9.13"
  },
  "toc": {
   "base_numbering": 1,
   "nav_menu": {},
   "number_sections": true,
   "sideBar": true,
   "skip_h1_title": true,
   "title_cell": "Оглавление",
   "title_sidebar": "Contents",
   "toc_cell": true,
   "toc_position": {},
   "toc_section_display": true,
   "toc_window_display": false
  }
 },
 "nbformat": 4,
 "nbformat_minor": 2
}
